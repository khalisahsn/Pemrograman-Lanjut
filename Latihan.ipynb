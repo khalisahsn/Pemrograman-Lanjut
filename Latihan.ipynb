{
 "cells": [
  {
   "cell_type": "markdown",
   "id": "39c5bdf4-dc40-4314-8dc2-8b3559c676f4",
   "metadata": {},
   "source": [
    "# Latihan - Praktikum 10"
   ]
  },
  {
   "cell_type": "code",
   "execution_count": 1,
   "id": "639b712a-edd3-429b-ad03-9121b7df57ba",
   "metadata": {},
   "outputs": [
    {
     "name": "stdout",
     "output_type": "stream",
     "text": [
      "['Lisa', 'Isna', 'Dami', 'Iin', 'Steve']\n"
     ]
    }
   ],
   "source": [
    "mahasiswa = [\"Lisa\", \"Isna\", \"Dami\", \"Iin\", \"Steve\"]\n",
    "print(mahasiswa)"
   ]
  },
  {
   "cell_type": "markdown",
   "id": "b0721db5-a61d-42d9-a0f0-17e85f2c1e5d",
   "metadata": {},
   "source": [
    "#### Analisis\n",
    "Kode tersebut membuat list bernama mahasiswa yang berisi lima nama, yaitu “Lisa”, “Isna”, “Dami”, “Iin”, dan “Steve”. Saat perintah print(mahasiswa) dijalankan, program menampilkan seluruh elemen dalam list tersebut di layar sebagai satu kumpulan data."
   ]
  },
  {
   "cell_type": "code",
   "execution_count": 2,
   "id": "d50be1b0-6ec4-4ef5-9a53-fef66b599b1f",
   "metadata": {},
   "outputs": [
    {
     "name": "stdout",
     "output_type": "stream",
     "text": [
      "('Lisa', 'Isna', 'Dami', 'Iin', 'Steve')\n"
     ]
    }
   ],
   "source": [
    "mahasiswa = (\"Lisa\", \"Isna\", \"Dami\", \"Iin\", \"Steve\")\n",
    "print(mahasiswa)"
   ]
  },
  {
   "cell_type": "markdown",
   "id": "6ea848e5-e4ab-4d29-ab29-20a53a1701be",
   "metadata": {},
   "source": [
    "#### Analisis\n",
    "Kode tersebut membuat tuple bernama mahasiswa yang berisi lima elemen: “Lisa”, “Isna”, “Dami”, “Iin”, dan “Steve”. Saat perintah print(mahasiswa) dijalankan, program menampilkan seluruh isi tuple tersebut di layar. Berbeda dengan list, tuple bersifat immutable, artinya datanya tidak dapat diubah setelah dibuat."
   ]
  },
  {
   "cell_type": "code",
   "execution_count": 3,
   "id": "0aea5015-cd6b-4374-a9f2-3c4c5c397c99",
   "metadata": {},
   "outputs": [
    {
     "ename": "TypeError",
     "evalue": "'set' object does not support item assignment",
     "output_type": "error",
     "traceback": [
      "\u001b[1;31m---------------------------------------------------------------------------\u001b[0m",
      "\u001b[1;31mTypeError\u001b[0m                                 Traceback (most recent call last)",
      "Cell \u001b[1;32mIn[3], line 2\u001b[0m\n\u001b[0;32m      1\u001b[0m mahasiswa \u001b[38;5;241m=\u001b[39m {\u001b[38;5;124m\"\u001b[39m\u001b[38;5;124mLisa\u001b[39m\u001b[38;5;124m\"\u001b[39m, \u001b[38;5;124m\"\u001b[39m\u001b[38;5;124mIsna\u001b[39m\u001b[38;5;124m\"\u001b[39m, \u001b[38;5;124m\"\u001b[39m\u001b[38;5;124mDami\u001b[39m\u001b[38;5;124m\"\u001b[39m, \u001b[38;5;124m\"\u001b[39m\u001b[38;5;124mIin\u001b[39m\u001b[38;5;124m\"\u001b[39m, \u001b[38;5;124m\"\u001b[39m\u001b[38;5;124mSteve\u001b[39m\u001b[38;5;124m\"\u001b[39m, \u001b[38;5;124m\"\u001b[39m\u001b[38;5;124mSteve\u001b[39m\u001b[38;5;124m\"\u001b[39m}\n\u001b[1;32m----> 2\u001b[0m mahasiswa [\u001b[38;5;241m0\u001b[39m] \u001b[38;5;241m=\u001b[39m \u001b[38;5;124m\"\u001b[39m\u001b[38;5;124mIkzan\u001b[39m\u001b[38;5;124m\"\u001b[39m\n\u001b[0;32m      3\u001b[0m \u001b[38;5;28mprint\u001b[39m(mahasiswa)\n",
      "\u001b[1;31mTypeError\u001b[0m: 'set' object does not support item assignment"
     ]
    }
   ],
   "source": [
    "mahasiswa = {\"Lisa\", \"Isna\", \"Dami\", \"Iin\", \"Steve\", \"Steve\"}\n",
    "mahasiswa [0] = \"Ikzan\"\n",
    "print(mahasiswa)"
   ]
  },
  {
   "cell_type": "markdown",
   "id": "077aadcb-35af-4510-94fb-35f95ee21efe",
   "metadata": {},
   "source": [
    "#### Analisis\n",
    "Kode tersebut akan menghasilkan error karena mahasiswa dideklarasikan sebagai set, bukan list. Struktur data set di Python bersifat tidak berurutan dan tidak mendukung pengindeksan, sehingga pernyataan mahasiswa[0] = \"Ikzan\" tidak valid. Selain itu, set juga tidak menyimpan duplikat, jadi elemen “Steve” hanya muncul sekali meskipun ditulis dua kali."
   ]
  },
  {
   "cell_type": "code",
   "execution_count": 4,
   "id": "07b2ffc9-46a3-421d-9912-78cd25c24b65",
   "metadata": {},
   "outputs": [
    {
     "name": "stdout",
     "output_type": "stream",
     "text": [
      "Nama Mahasiswa:  Lisa\n",
      "Nama Mahasiswa:  Isna\n",
      "Nama Mahasiswa:  Iin\n",
      "Nama Mahasiswa:  Darma\n",
      "Nama Mahasiswa:  Dami\n",
      "Nama Mahasiswa:  Adit\n",
      "['Lisa', 'Isna', 'Iin', 'Darma', 'Dami', 'Adit']\n"
     ]
    }
   ],
   "source": [
    "mahasiswa = [\"Lisa\", \"Isna\", \"Dami\", \"Iin\", \"Steve\", \"Darma\"]\n",
    "mahasiswa.append(\"Rahmiati\")\n",
    "mahasiswa.insert(3, \"Adit\")\n",
    "mahasiswa.pop()\n",
    "mahasiswa.sort(reverse=True)\n",
    "mahasiswa.remove(\"Steve\")\n",
    "for nama in mahasiswa:\n",
    "    print(\"Nama Mahasiswa: \", nama)\n",
    "    \n",
    "print(mahasiswa)"
   ]
  },
  {
   "cell_type": "markdown",
   "id": "b7d7bd91-3d82-43f6-8937-d634581477b3",
   "metadata": {},
   "source": [
    "#### Analisis\n",
    "Kode tersebut memanipulasi data dalam list bernama mahasiswa melalui beberapa operasi. Pertama, elemen \"Rahmiati\" ditambahkan ke akhir list menggunakan append(). Lalu, \"Adit\" disisipkan di posisi ke-3 dengan insert(3, \"Adit\"). Setelah itu, elemen terakhir dihapus menggunakan pop(). List kemudian diurutkan secara menurun (descending) dengan sort(reverse=True), dan elemen \"Steve\" dihapus menggunakan remove(\"Steve\"). Selanjutnya, program menampilkan setiap nama mahasiswa satu per satu menggunakan perulangan for, kemudian mencetak isi list akhir setelah semua perubahan dilakukan."
   ]
  },
  {
   "cell_type": "code",
   "execution_count": 5,
   "id": "137df25f-ed68-4526-bc7f-958fad300d78",
   "metadata": {},
   "outputs": [
    {
     "name": "stdout",
     "output_type": "stream",
     "text": [
      "Nama Mahasiswa ke- 1 :  Lisa\n",
      "Nama Mahasiswa ke- 2 :  Isna\n",
      "Nama Mahasiswa ke- 3 :  Iin\n",
      "Nama Mahasiswa ke- 4 :  Darma\n",
      "Nama Mahasiswa ke- 5 :  Dami\n",
      "Nama Mahasiswa ke- 6 :  Adit\n",
      "['Lisa', 'Isna', 'Iin', 'Darma', 'Dami', 'Adit']\n"
     ]
    }
   ],
   "source": [
    "mahasiswa = [\"Lisa\", \"Isna\", \"Dami\", \"Iin\", \"Steve\", \"Darma\"]\n",
    "mahasiswa.append(\"Rahmiati\")\n",
    "mahasiswa.insert(3, \"Adit\")\n",
    "mahasiswa.pop()\n",
    "mahasiswa.sort(reverse=True)\n",
    "mahasiswa.remove(\"Steve\")\n",
    "\n",
    "i = 1\n",
    "for nama in mahasiswa:\n",
    "    print(\"Nama Mahasiswa ke-\", i ,\": \", nama)\n",
    "    i+=1\n",
    "    \n",
    "print(mahasiswa)"
   ]
  },
  {
   "cell_type": "markdown",
   "id": "fffab260-aafe-4709-be1b-8e3187f85270",
   "metadata": {},
   "source": [
    "#### Analisis\n",
    "Kode ini memanipulasi list mahasiswa melalui beberapa langkah: menambahkan \"Rahmiati\" ke akhir list dengan append(), menyisipkan \"Adit\" di indeks ke-3 menggunakan insert(), menghapus elemen terakhir dengan pop(), mengurutkan list secara menurun (sort(reverse=True)), dan menghapus \"Steve\" dengan remove(). Selanjutnya, setiap nama ditampilkan beserta nomor urutnya menggunakan perulangan for dengan variabel penghitung i. Terakhir, program mencetak list akhir yang sudah diperbarui dan terurut."
   ]
  },
  {
   "cell_type": "code",
   "execution_count": 6,
   "id": "8dbc4feb-193e-49c2-8d9b-b91699c8e006",
   "metadata": {},
   "outputs": [
    {
     "name": "stdout",
     "output_type": "stream",
     "text": [
      "{'name': 'Darmawati', 'hp': '080808', 'kelas': 'TEKOM F'}\n"
     ]
    }
   ],
   "source": [
    "person = {\"name\": \"Darmawati\", \"hp\": \"080808\", \"kelas\": \"TEKOM F\"}\n",
    "print(person)"
   ]
  },
  {
   "cell_type": "markdown",
   "id": "381f2831-ee13-4660-a0f7-66887ec61f31",
   "metadata": {},
   "source": [
    "#### Analisis\n",
    "Kode tersebut membuat dictionary bernama person dengan tiga pasangan key-value: \"name\": \"Darmawati\", \"hp\": \"080808\", dan \"kelas\": \"TEKOM F\". Saat perintah print(person) dijalankan, program menampilkan seluruh isi dictionary di layar dalam format {key: value}."
   ]
  },
  {
   "cell_type": "code",
   "execution_count": 7,
   "id": "14ac2ae7-d57a-442c-b738-59aafd9deb66",
   "metadata": {},
   "outputs": [
    {
     "name": "stdout",
     "output_type": "stream",
     "text": [
      "name : Darmawati\n",
      "hp : 080808\n",
      "kelas : TEKOM F\n"
     ]
    }
   ],
   "source": [
    "person = {\"name\": \"Darmawati\", \"hp\": \"080808\", \"kelas\": \"TEKOM F\"}\n",
    "for key, value in person.items():\n",
    "    print(key, \":\", value)"
   ]
  },
  {
   "cell_type": "markdown",
   "id": "b60824d2-e4d2-4f54-83af-14c5118777c3",
   "metadata": {},
   "source": [
    "#### Analisis\n",
    "Kode tersebut membuat dictionary person yang menyimpan data tentang seseorang dengan tiga pasangan key-value: \"name\": \"Darmawati\", \"hp\": \"080808\", dan \"kelas\": \"TEKOM F\". Selanjutnya, perulangan for key, value in person.items(): digunakan untuk mengakses setiap pasangan key-value dalam dictionary. Fungsi items() mengembalikan setiap elemen sebagai tuple (key, value), sehingga key dan value bisa dipisahkan dan dicetak dengan format key : value. Dengan begitu, output menampilkan informasi setiap atribut dictionary pada baris terpisah: nama, nomor hp, dan kelas."
   ]
  },
  {
   "cell_type": "code",
   "execution_count": 8,
   "id": "b80e8d27-f916-4866-84de-7c884e300ba3",
   "metadata": {},
   "outputs": [
    {
     "name": "stdout",
     "output_type": "stream",
     "text": [
      "0\n",
      "1\n",
      "2\n",
      "3\n",
      "4\n",
      "5\n"
     ]
    }
   ],
   "source": [
    "i = 0\n",
    "while i <= 5:\n",
    "    print(i)\n",
    "    i += 1"
   ]
  },
  {
   "cell_type": "markdown",
   "id": "7aa5b4e3-a707-4c1a-b782-0b7de88519c1",
   "metadata": {},
   "source": [
    "#### Analisis\n",
    "Kode tersebut menggunakan perulangan while untuk mencetak angka dari 0 sampai 5. Variabel i diinisialisasi dengan 0. Selama kondisi i <= 5 terpenuhi, program mencetak nilai i dan menambahkan 1 ke i setiap iterasi (i += 1). Perulangan berhenti ketika i menjadi 6, sehingga outputnya adalah 0, 1, 2, 3, 4, 5 secara berurutan."
   ]
  },
  {
   "cell_type": "code",
   "execution_count": 9,
   "id": "80d221ef-b9d0-4a0f-a9a2-0a913dcd8a70",
   "metadata": {},
   "outputs": [
    {
     "name": "stdout",
     "output_type": "stream",
     "text": [
      "0\n",
      "1\n",
      "2\n",
      "3\n",
      "4\n",
      "5\n",
      "6\n",
      "7\n",
      "8\n",
      "9\n"
     ]
    }
   ],
   "source": [
    "for i in range(10):\n",
    "  print(i)"
   ]
  },
  {
   "cell_type": "markdown",
   "id": "50de8e75-7a92-4856-b641-77649b37921a",
   "metadata": {},
   "source": [
    "#### Analisis\n",
    "Kode tersebut menggunakan perulangan for dengan fungsi range(10) untuk mencetak angka dari 0 hingga 9. Fungsi range(10) menghasilkan urutan angka mulai dari 0 sampai 9, dan setiap nilai i dicetak di dalam blok perulangan for. Output yang dihasilkan adalah angka 0 sampai 9, masing-masing pada baris baru."
   ]
  },
  {
   "cell_type": "code",
   "execution_count": 4,
   "id": "c227f68a-81c0-47d3-95ca-4a8e03057090",
   "metadata": {},
   "outputs": [
    {
     "name": "stdout",
     "output_type": "stream",
     "text": [
      "1\n",
      "2\n",
      "3\n",
      "4\n",
      "5\n"
     ]
    }
   ],
   "source": [
    "for i in range(1,6):\n",
    "  print(i)"
   ]
  },
  {
   "cell_type": "markdown",
   "id": "5a2b9d10-3052-4934-b15b-70ef5fd039cd",
   "metadata": {},
   "source": [
    "#### Analisis\n",
    "Kode tersebut menggunakan perulangan for dengan range(1, 6) untuk mencetak angka dari 1 hingga 5. Fungsi range(1, 6) menghasilkan urutan angka mulai dari 1 sampai 5 (angka 6 tidak termasuk). Setiap nilai i dicetak pada baris baru di dalam perulangan for, sehingga outputnya adalah 1, 2, 3, 4, 5 secara berurutan."
   ]
  },
  {
   "cell_type": "code",
   "execution_count": 11,
   "id": "eebe3a28-26b6-4e4b-8cad-46b2ce55518c",
   "metadata": {},
   "outputs": [
    {
     "name": "stdout",
     "output_type": "stream",
     "text": [
      "5\n",
      "6\n",
      "7\n",
      "8\n",
      "9\n"
     ]
    }
   ],
   "source": [
    "for i in range(5,10):\n",
    "  print(i)"
   ]
  },
  {
   "cell_type": "markdown",
   "id": "a0b92b0d-e679-499c-9d8a-fdcde0d4c189",
   "metadata": {},
   "source": [
    "#### Analisis\n",
    "Kode tersebut menggunakan perulangan for dengan range(5, 10) untuk mencetak angka dari 5 hingga 9. Fungsi range(5, 10) menghasilkan urutan angka mulai dari 5 sampai 9 (angka 10 tidak termasuk). Setiap nilai i dicetak pada baris baru, sehingga outputnya adalah 5, 6, 7, 8, 9 secara berurutan."
   ]
  },
  {
   "cell_type": "code",
   "execution_count": 12,
   "id": "a15c201d-128e-4cd6-8deb-31aea9ee7289",
   "metadata": {},
   "outputs": [
    {
     "name": "stdout",
     "output_type": "stream",
     "text": [
      "['cherry']\n"
     ]
    }
   ],
   "source": [
    "thislist = [\"apple\", \"banana\", \"cherry\", \"orange\", \"kiwi\", \"melon\", \"mango\"]\n",
    "print(thislist[2:3])"
   ]
  },
  {
   "cell_type": "markdown",
   "id": "8dd0dcef-c6de-4828-ad99-79a633a4b96a",
   "metadata": {},
   "source": [
    "#### Analisis\n",
    "Kode tersebut menggunakan slicing pada list untuk mengambil elemen dari indeks 2 sampai 3 (indeks 3 tidak termasuk). Dengan list thislist, elemen di indeks 2 adalah \"cherry\", sehingga thislist[2:3] menghasilkan list baru ['cherry']. Output yang dicetak adalah ['cherry']."
   ]
  },
  {
   "cell_type": "code",
   "execution_count": 13,
   "id": "042fbbdf-a8cb-4ddc-a11e-4b064601c9a5",
   "metadata": {},
   "outputs": [
    {
     "name": "stdout",
     "output_type": "stream",
     "text": [
      "['orange', 'kiwi', 'melon', 'mango']\n"
     ]
    }
   ],
   "source": [
    "thislist = [\"apple\", \"banana\", \"cherry\", \"orange\", \"kiwi\", \"melon\", \"mango\"]\n",
    "print(thislist[3:])"
   ]
  },
  {
   "cell_type": "markdown",
   "id": "b9c6aec9-f837-4cb7-9304-d29b1a63acc4",
   "metadata": {},
   "source": [
    "#### Analisis\n",
    "Kode tersebut menggunakan slicing pada list untuk mengambil elemen mulai dari indeks 3 sampai akhir list. Dengan thislist, elemen dari indeks 3 adalah \"orange\", \"kiwi\", \"melon\", dan \"mango\", sehingga thislist[3:] menghasilkan list baru ['orange', 'kiwi', 'melon', 'mango']. Output yang dicetak adalah list tersebut."
   ]
  },
  {
   "cell_type": "code",
   "execution_count": 14,
   "id": "c3967780-df78-4a92-b411-03ebc05203d7",
   "metadata": {},
   "outputs": [
    {
     "name": "stdout",
     "output_type": "stream",
     "text": [
      "['apple', 'banana', 'cherry', 'orange', 'kiwi', 'melon', 'mango']\n"
     ]
    }
   ],
   "source": [
    "thislist = [\"apple\", \"banana\", \"cherry\", \"orange\", \"kiwi\", \"melon\", \"mango\"]\n",
    "print(thislist[:])"
   ]
  },
  {
   "cell_type": "markdown",
   "id": "3a3756c6-f24a-4083-98e8-22bd9bcdb509",
   "metadata": {},
   "source": [
    "#### Analisis\n",
    "Kode tersebut menggunakan slicing pada list dengan [:] untuk mengambil seluruh elemen list dari awal hingga akhir. Dengan thislist, semua elemen tetap termasuk, sehingga thislist[:] menghasilkan list baru yang sama persis dengan list asli: ['apple', 'banana', 'cherry', 'orange', 'kiwi', 'melon', 'mango']. Output yang dicetak adalah list lengkap tersebut."
   ]
  },
  {
   "cell_type": "code",
   "execution_count": 15,
   "id": "ce287788-4522-4aea-8fe0-023c3f082f0e",
   "metadata": {},
   "outputs": [
    {
     "name": "stdout",
     "output_type": "stream",
     "text": [
      "['banana', 'cherry']\n"
     ]
    }
   ],
   "source": [
    "thislist = [\"apple\", \"banana\", \"cherry\", \"orange\", \"kiwi\", \"melon\", \"mango\"]\n",
    "print(thislist[1:3])"
   ]
  },
  {
   "cell_type": "markdown",
   "id": "437cb22a-fd48-4b20-ae70-1f78d41cab3a",
   "metadata": {},
   "source": [
    "#### Analisis\n",
    "Kode tersebut menggunakan slicing pada list untuk mengambil elemen mulai dari indeks 1 sampai sebelum indeks 3. Dengan thislist, elemen di indeks 1 dan 2 adalah \"banana\" dan \"cherry\", sehingga thislist[1:3] menghasilkan list baru ['banana', 'cherry']. Output yang dicetak adalah list tersebut."
   ]
  },
  {
   "cell_type": "code",
   "execution_count": 16,
   "id": "9a4ee2a6-76e3-43ef-9227-907de809a301",
   "metadata": {},
   "outputs": [
    {
     "name": "stdout",
     "output_type": "stream",
     "text": [
      "1\n",
      "3\n",
      "5\n",
      "7\n",
      "9\n"
     ]
    }
   ],
   "source": [
    "i = 1\n",
    "while i <= 9:\n",
    "    print(i)\n",
    "    i += 2"
   ]
  },
  {
   "cell_type": "markdown",
   "id": "f4ddc0e2-d5cd-4957-bc87-31942e06b303",
   "metadata": {},
   "source": [
    "#### Analisis\n",
    "Kode tersebut menggunakan perulangan while untuk mencetak angka dari 1 sampai 9 dengan increment 2 setiap iterasi. Variabel i mulai dari 1, lalu ditambah 2 setiap kali perulangan berjalan, sehingga nilai yang dicetak adalah 1, 3, 5, 7, 9. Perulangan berhenti ketika i melebihi 9."
   ]
  },
  {
   "cell_type": "code",
   "execution_count": 17,
   "id": "86bb34f1-c0b5-465b-a061-ca6f54926b9e",
   "metadata": {},
   "outputs": [
    {
     "name": "stdout",
     "output_type": "stream",
     "text": [
      "1\n",
      "3\n",
      "5\n",
      "WOW\n",
      "9\n",
      "11\n",
      "13\n"
     ]
    }
   ],
   "source": [
    "i = 1\n",
    "while i <= 13:\n",
    "    if i == 7:\n",
    "        print(\"WOW\")\n",
    "    else:\n",
    "        print(i)\n",
    "    i +=2"
   ]
  },
  {
   "cell_type": "markdown",
   "id": "a16e089e-5832-4ab9-b961-8547aa984933",
   "metadata": {},
   "source": [
    "#### Analisis\n",
    "Kode tersebut menggunakan perulangan while dengan penambahan 2 setiap iterasi dari 1 sampai 13. Saat i sama dengan 7, program mencetak \"WOW\", sedangkan nilai lainnya dicetak seperti biasa. Outputnya adalah 1, 3, 5, WOW, 9, 11, 13."
   ]
  },
  {
   "cell_type": "code",
   "execution_count": 19,
   "id": "9a979631-256a-492b-bccf-7606587b32ee",
   "metadata": {},
   "outputs": [
    {
     "name": "stdout",
     "output_type": "stream",
     "text": [
      "hidup\n",
      "mahasiswa\n",
      "hidup\n",
      "mahasiswa\n",
      "hidup\n",
      "mahasiswa\n",
      "hidup\n",
      "mahasiswa\n",
      "9\n",
      "10\n"
     ]
    }
   ],
   "source": [
    "for i in range(1, 11):\n",
    "    if i <= 8:\n",
    "        if i % 2 == 1:\n",
    "            print(\"hidup\")\n",
    "        else:\n",
    "            print(\"mahasiswa\")\n",
    "    else:\n",
    "        print(i)"
   ]
  },
  {
   "cell_type": "markdown",
   "id": "1dd9f3fa-6548-4f9a-b32d-0313b0ec88c6",
   "metadata": {},
   "source": [
    "#### Analisis\n",
    "Kode tersebut menggunakan perulanganfor dari 1 hingga 10. Di dalam perulangan, terdapat kondisi bersarang : jika nilai ikurang dari atau sama dengan 8, program memeriksa apakah iganjil atau genap. Jika ganjil ( i % 2 == 1), program pencetakan \"hidup\" ; jika genap, mencetak \"mahasiswa\" . Untuk iyang lebih besar dari 8 (yaitu 9 dan 10), program langsung mencetak nilai i. Dengan demikian, output akan berupa kombinasi kata-kata dan angka sesuai kondisi."
   ]
  },
  {
   "cell_type": "code",
   "execution_count": 20,
   "id": "bf2f57c6-dc1f-4c5b-abf3-ac520aaf23ef",
   "metadata": {},
   "outputs": [
    {
     "name": "stdout",
     "output_type": "stream",
     "text": [
      "1\n",
      "2\n",
      "Ha\n",
      "3\n",
      "4\n",
      "5\n",
      "Ha\n",
      "6\n",
      "7\n",
      "8\n",
      "Ha\n",
      "9\n",
      "10\n",
      "11\n",
      "Ha\n",
      "12\n",
      "13\n"
     ]
    }
   ],
   "source": [
    "for i in range(1, 14):\n",
    "    print(i)\n",
    "    if i % 3 == 2:  \n",
    "        print(\"Ha\")"
   ]
  },
  {
   "cell_type": "markdown",
   "id": "23f9ca52-8cca-48e8-87a3-788abbc111dc",
   "metadata": {},
   "source": [
    "#### Analisis\n",
    "Kode ini melakukan perulangan for dari 1 sampai 13. Setiap nilai i dicetak terlebih dahulu. Kemudian ada kondisi: jika sisa bagi i dengan 3 sama dengan 2 (i % 3 == 2), program mencetak \"Ha\". Jadi, setiap kali angka yang bersisa 2 saat dibagi 3 muncul, muncul juga kata \"Ha\" setelah angka tersebut. Outputnya adalah campuran angka dan kata \"Ha\" sesuai aturan."
   ]
  },
  {
   "cell_type": "code",
   "execution_count": 24,
   "id": "86396c9b-58ef-4b6d-ab3d-b9a64ac8a1c7",
   "metadata": {},
   "outputs": [
    {
     "name": "stdout",
     "output_type": "stream",
     "text": [
      "1\n",
      "2\n",
      "Ha\n",
      "4\n",
      "Hi\n",
      "Ha\n",
      "7\n",
      "8\n",
      "Ha\n",
      "Hi\n",
      "11\n",
      "Ha\n",
      "13\n"
     ]
    }
   ],
   "source": [
    "for i in range(1, 14):\n",
    "    if i not in [3, 5, 6, 9, 10, 12]:\n",
    "        print(i)\n",
    "        \n",
    "    if i in [2, 5, 8, 11]:\n",
    "        print(\"Ha\")\n",
    "\n",
    "    if i in [4, 9]:\n",
    "        print(\"Hi\")"
   ]
  },
  {
   "cell_type": "markdown",
   "id": "705bc3dd-8373-454a-bc29-754b31e90a56",
   "metadata": {},
   "source": [
    "#### Analisis\n",
    "Kode ini melakukan perulangan dari 1 sampai 13 dan mencetak angka atau kata tertentu berdasarkan kondisi. Angka dicetak jika tidak termasuk dalam [3, 5, 6, 9, 10, 12]. Kata \"Ha\" dicetak jika angka termasuk [2, 5, 8, 11], dan \"Hi\" dicetak jika angka termasuk [4, 9]. Dengan begitu, output merupakan campuran angka dan teks sesuai kondisi yang ditentukan."
   ]
  }
 ],
 "metadata": {
  "kernelspec": {
   "display_name": "Python [conda env:base] *",
   "language": "python",
   "name": "conda-base-py"
  },
  "language_info": {
   "codemirror_mode": {
    "name": "ipython",
    "version": 3
   },
   "file_extension": ".py",
   "mimetype": "text/x-python",
   "name": "python",
   "nbconvert_exporter": "python",
   "pygments_lexer": "ipython3",
   "version": "3.13.5"
  }
 },
 "nbformat": 4,
 "nbformat_minor": 5
}
