{
 "cells": [
  {
   "cell_type": "code",
   "execution_count": 1,
   "id": "639b712a-edd3-429b-ad03-9121b7df57ba",
   "metadata": {},
   "outputs": [
    {
     "name": "stdout",
     "output_type": "stream",
     "text": [
      "['Lisa', 'Isna', 'Dami', 'Iin', 'Steve']\n"
     ]
    }
   ],
   "source": [
    "mahasiswa = [\"Lisa\", \"Isna\", \"Dami\", \"Iin\", \"Steve\"]\n",
    "print(mahasiswa)"
   ]
  },
  {
   "cell_type": "code",
   "execution_count": 2,
   "id": "d50be1b0-6ec4-4ef5-9a53-fef66b599b1f",
   "metadata": {},
   "outputs": [
    {
     "name": "stdout",
     "output_type": "stream",
     "text": [
      "('Lisa', 'Isna', 'Dami', 'Iin', 'Steve')\n"
     ]
    }
   ],
   "source": [
    "mahasiswa = (\"Lisa\", \"Isna\", \"Dami\", \"Iin\", \"Steve\")\n",
    "print(mahasiswa)"
   ]
  },
  {
   "cell_type": "code",
   "execution_count": 25,
   "id": "0aea5015-cd6b-4374-a9f2-3c4c5c397c99",
   "metadata": {},
   "outputs": [
    {
     "ename": "TypeError",
     "evalue": "'set' object does not support item assignment",
     "output_type": "error",
     "traceback": [
      "\u001b[1;31m---------------------------------------------------------------------------\u001b[0m",
      "\u001b[1;31mTypeError\u001b[0m                                 Traceback (most recent call last)",
      "Cell \u001b[1;32mIn[25], line 2\u001b[0m\n\u001b[0;32m      1\u001b[0m mahasiswa \u001b[38;5;241m=\u001b[39m {\u001b[38;5;124m\"\u001b[39m\u001b[38;5;124mLisa\u001b[39m\u001b[38;5;124m\"\u001b[39m, \u001b[38;5;124m\"\u001b[39m\u001b[38;5;124mIsna\u001b[39m\u001b[38;5;124m\"\u001b[39m, \u001b[38;5;124m\"\u001b[39m\u001b[38;5;124mDami\u001b[39m\u001b[38;5;124m\"\u001b[39m, \u001b[38;5;124m\"\u001b[39m\u001b[38;5;124mIin\u001b[39m\u001b[38;5;124m\"\u001b[39m, \u001b[38;5;124m\"\u001b[39m\u001b[38;5;124mSteve\u001b[39m\u001b[38;5;124m\"\u001b[39m, \u001b[38;5;124m\"\u001b[39m\u001b[38;5;124mSteve\u001b[39m\u001b[38;5;124m\"\u001b[39m}\n\u001b[1;32m----> 2\u001b[0m mahasiswa [\u001b[38;5;241m0\u001b[39m] \u001b[38;5;241m=\u001b[39m \u001b[38;5;124m\"\u001b[39m\u001b[38;5;124mIkzan\u001b[39m\u001b[38;5;124m\"\u001b[39m\n\u001b[0;32m      3\u001b[0m \u001b[38;5;28mprint\u001b[39m(mahasiswa)\n",
      "\u001b[1;31mTypeError\u001b[0m: 'set' object does not support item assignment"
     ]
    }
   ],
   "source": [
    "mahasiswa = {\"Lisa\", \"Isna\", \"Dami\", \"Iin\", \"Steve\", \"Steve\"}\n",
    "mahasiswa [0] = \"Ikzan\"\n",
    "print(mahasiswa)"
   ]
  },
  {
   "cell_type": "code",
   "execution_count": 4,
   "id": "07b2ffc9-46a3-421d-9912-78cd25c24b65",
   "metadata": {},
   "outputs": [
    {
     "name": "stdout",
     "output_type": "stream",
     "text": [
      "Nama Mahasiswa:  Lisa\n",
      "Nama Mahasiswa:  Isna\n",
      "Nama Mahasiswa:  Iin\n",
      "Nama Mahasiswa:  Darma\n",
      "Nama Mahasiswa:  Dami\n",
      "Nama Mahasiswa:  Adit\n",
      "['Lisa', 'Isna', 'Iin', 'Darma', 'Dami', 'Adit']\n"
     ]
    }
   ],
   "source": [
    "mahasiswa = [\"Lisa\", \"Isna\", \"Dami\", \"Iin\", \"Steve\", \"Darma\"]\n",
    "mahasiswa.append(\"Rahmiati\")\n",
    "mahasiswa.insert(3, \"Adit\")\n",
    "mahasiswa.pop()\n",
    "mahasiswa.sort(reverse=True)\n",
    "mahasiswa.remove(\"Steve\")\n",
    "for nama in mahasiswa:\n",
    "    print(\"Nama Mahasiswa: \", nama)\n",
    "    \n",
    "print(mahasiswa)"
   ]
  },
  {
   "cell_type": "code",
   "execution_count": 5,
   "id": "137df25f-ed68-4526-bc7f-958fad300d78",
   "metadata": {},
   "outputs": [
    {
     "name": "stdout",
     "output_type": "stream",
     "text": [
      "Nama Mahasiswa ke- 1 :  Lisa\n",
      "Nama Mahasiswa ke- 2 :  Isna\n",
      "Nama Mahasiswa ke- 3 :  Iin\n",
      "Nama Mahasiswa ke- 4 :  Darma\n",
      "Nama Mahasiswa ke- 5 :  Dami\n",
      "Nama Mahasiswa ke- 6 :  Adit\n",
      "['Lisa', 'Isna', 'Iin', 'Darma', 'Dami', 'Adit']\n"
     ]
    }
   ],
   "source": [
    "mahasiswa = [\"Lisa\", \"Isna\", \"Dami\", \"Iin\", \"Steve\", \"Darma\"]\n",
    "mahasiswa.append(\"Rahmiati\")\n",
    "mahasiswa.insert(3, \"Adit\")\n",
    "mahasiswa.pop()\n",
    "mahasiswa.sort(reverse=True)\n",
    "mahasiswa.remove(\"Steve\")\n",
    "\n",
    "i = 1\n",
    "for nama in mahasiswa:\n",
    "    print(\"Nama Mahasiswa ke-\", i ,\": \", nama)\n",
    "    i+=1\n",
    "    \n",
    "print(mahasiswa)"
   ]
  },
  {
   "cell_type": "code",
   "execution_count": 6,
   "id": "8dbc4feb-193e-49c2-8d9b-b91699c8e006",
   "metadata": {},
   "outputs": [
    {
     "name": "stdout",
     "output_type": "stream",
     "text": [
      "{'name': 'Darmawati', 'hp': '080808', 'kelas': 'TEKOM F'}\n"
     ]
    }
   ],
   "source": [
    "person = {\"name\": \"Darmawati\", \"hp\": \"080808\", \"kelas\": \"TEKOM F\"}\n",
    "print(person)"
   ]
  },
  {
   "cell_type": "code",
   "execution_count": 7,
   "id": "14ac2ae7-d57a-442c-b738-59aafd9deb66",
   "metadata": {},
   "outputs": [
    {
     "name": "stdout",
     "output_type": "stream",
     "text": [
      "name : Darmawati\n",
      "hp : 080808\n",
      "kelas : TEKOM F\n"
     ]
    }
   ],
   "source": [
    "person = {\"name\": \"Darmawati\", \"hp\": \"080808\", \"kelas\": \"TEKOM F\"}\n",
    "for key, value in person.items():\n",
    "    print(key, \":\", value)"
   ]
  },
  {
   "cell_type": "code",
   "execution_count": 8,
   "id": "b80e8d27-f916-4866-84de-7c884e300ba3",
   "metadata": {},
   "outputs": [
    {
     "name": "stdout",
     "output_type": "stream",
     "text": [
      "0\n",
      "1\n",
      "2\n",
      "3\n",
      "4\n",
      "5\n"
     ]
    }
   ],
   "source": [
    "i = 0\n",
    "while i <= 5:\n",
    "    print(i)\n",
    "    i += 1"
   ]
  },
  {
   "cell_type": "code",
   "execution_count": 9,
   "id": "80d221ef-b9d0-4a0f-a9a2-0a913dcd8a70",
   "metadata": {},
   "outputs": [
    {
     "name": "stdout",
     "output_type": "stream",
     "text": [
      "0\n",
      "1\n",
      "2\n",
      "3\n",
      "4\n",
      "5\n",
      "6\n",
      "7\n",
      "8\n",
      "9\n"
     ]
    }
   ],
   "source": [
    "for i in range(10):\n",
    "  print(i)"
   ]
  },
  {
   "cell_type": "code",
   "execution_count": 10,
   "id": "c227f68a-81c0-47d3-95ca-4a8e03057090",
   "metadata": {},
   "outputs": [
    {
     "name": "stdout",
     "output_type": "stream",
     "text": [
      "1\n",
      "2\n",
      "3\n",
      "4\n",
      "5\n"
     ]
    }
   ],
   "source": [
    "for i in range(1,6):\n",
    "  print(i)"
   ]
  },
  {
   "cell_type": "code",
   "execution_count": 11,
   "id": "eebe3a28-26b6-4e4b-8cad-46b2ce55518c",
   "metadata": {},
   "outputs": [
    {
     "name": "stdout",
     "output_type": "stream",
     "text": [
      "5\n",
      "6\n",
      "7\n",
      "8\n",
      "9\n"
     ]
    }
   ],
   "source": [
    "for i in range(5,10):\n",
    "  print(i)"
   ]
  },
  {
   "cell_type": "code",
   "execution_count": 12,
   "id": "a15c201d-128e-4cd6-8deb-31aea9ee7289",
   "metadata": {},
   "outputs": [
    {
     "name": "stdout",
     "output_type": "stream",
     "text": [
      "['cherry']\n"
     ]
    }
   ],
   "source": [
    "thislist = [\"apple\", \"banana\", \"cherry\", \"orange\", \"kiwi\", \"melon\", \"mango\"]\n",
    "print(thislist[2:3])"
   ]
  },
  {
   "cell_type": "code",
   "execution_count": 13,
   "id": "042fbbdf-a8cb-4ddc-a11e-4b064601c9a5",
   "metadata": {},
   "outputs": [
    {
     "name": "stdout",
     "output_type": "stream",
     "text": [
      "['orange', 'kiwi', 'melon', 'mango']\n"
     ]
    }
   ],
   "source": [
    "thislist = [\"apple\", \"banana\", \"cherry\", \"orange\", \"kiwi\", \"melon\", \"mango\"]\n",
    "print(thislist[3:])"
   ]
  },
  {
   "cell_type": "code",
   "execution_count": 14,
   "id": "c3967780-df78-4a92-b411-03ebc05203d7",
   "metadata": {},
   "outputs": [
    {
     "name": "stdout",
     "output_type": "stream",
     "text": [
      "['apple', 'banana', 'cherry', 'orange', 'kiwi', 'melon', 'mango']\n"
     ]
    }
   ],
   "source": [
    "thislist = [\"apple\", \"banana\", \"cherry\", \"orange\", \"kiwi\", \"melon\", \"mango\"]\n",
    "print(thislist[:])"
   ]
  },
  {
   "cell_type": "code",
   "execution_count": 15,
   "id": "ce287788-4522-4aea-8fe0-023c3f082f0e",
   "metadata": {},
   "outputs": [
    {
     "name": "stdout",
     "output_type": "stream",
     "text": [
      "['banana', 'cherry']\n"
     ]
    }
   ],
   "source": [
    "thislist = [\"apple\", \"banana\", \"cherry\", \"orange\", \"kiwi\", \"melon\", \"mango\"]\n",
    "print(thislist[1:3])"
   ]
  },
  {
   "cell_type": "code",
   "execution_count": 16,
   "id": "9a4ee2a6-76e3-43ef-9227-907de809a301",
   "metadata": {},
   "outputs": [
    {
     "name": "stdout",
     "output_type": "stream",
     "text": [
      "1\n",
      "3\n",
      "5\n",
      "7\n",
      "9\n"
     ]
    }
   ],
   "source": [
    "i = 1\n",
    "while i <= 9:\n",
    "    print(i)\n",
    "    i += 2"
   ]
  },
  {
   "cell_type": "code",
   "execution_count": 17,
   "id": "86bb34f1-c0b5-465b-a061-ca6f54926b9e",
   "metadata": {},
   "outputs": [
    {
     "name": "stdout",
     "output_type": "stream",
     "text": [
      "1\n",
      "3\n",
      "5\n",
      "WOW\n",
      "9\n",
      "11\n",
      "13\n"
     ]
    }
   ],
   "source": [
    "i = 1\n",
    "while i <= 13:\n",
    "    if i == 7:\n",
    "        print(\"WOW\")\n",
    "    else:\n",
    "        print(i)\n",
    "    i +=2"
   ]
  },
  {
   "cell_type": "code",
   "execution_count": 19,
   "id": "9a979631-256a-492b-bccf-7606587b32ee",
   "metadata": {},
   "outputs": [
    {
     "name": "stdout",
     "output_type": "stream",
     "text": [
      "hidup\n",
      "mahasiswa\n",
      "hidup\n",
      "mahasiswa\n",
      "hidup\n",
      "mahasiswa\n",
      "hidup\n",
      "mahasiswa\n",
      "9\n",
      "10\n"
     ]
    }
   ],
   "source": [
    "for i in range(1, 11):\n",
    "    if i <= 8:\n",
    "        if i % 2 == 1:\n",
    "            print(\"hidup\")\n",
    "        else:\n",
    "            print(\"mahasiswa\")\n",
    "    else:\n",
    "        print(i)"
   ]
  },
  {
   "cell_type": "code",
   "execution_count": 20,
   "id": "bf2f57c6-dc1f-4c5b-abf3-ac520aaf23ef",
   "metadata": {},
   "outputs": [
    {
     "name": "stdout",
     "output_type": "stream",
     "text": [
      "1\n",
      "2\n",
      "Ha\n",
      "3\n",
      "4\n",
      "5\n",
      "Ha\n",
      "6\n",
      "7\n",
      "8\n",
      "Ha\n",
      "9\n",
      "10\n",
      "11\n",
      "Ha\n",
      "12\n",
      "13\n"
     ]
    }
   ],
   "source": [
    "for i in range(1, 14):\n",
    "    print(i)\n",
    "    if i % 3 == 2:  \n",
    "        print(\"Ha\")"
   ]
  },
  {
   "cell_type": "code",
   "execution_count": 24,
   "id": "86396c9b-58ef-4b6d-ab3d-b9a64ac8a1c7",
   "metadata": {},
   "outputs": [
    {
     "name": "stdout",
     "output_type": "stream",
     "text": [
      "1\n",
      "2\n",
      "Ha\n",
      "4\n",
      "Hi\n",
      "Ha\n",
      "7\n",
      "8\n",
      "Ha\n",
      "Hi\n",
      "11\n",
      "Ha\n",
      "13\n"
     ]
    }
   ],
   "source": [
    "for i in range(1, 14):\n",
    "    if i not in [3, 5, 6, 9, 10, 12]:\n",
    "        print(i)\n",
    "        \n",
    "    if i in [2, 5, 8, 11]:\n",
    "        print(\"Ha\")\n",
    "\n",
    "    if i in [4, 9]:\n",
    "        print(\"Hi\")"
   ]
  }
 ],
 "metadata": {
  "kernelspec": {
   "display_name": "Python [conda env:base] *",
   "language": "python",
   "name": "conda-base-py"
  },
  "language_info": {
   "codemirror_mode": {
    "name": "ipython",
    "version": 3
   },
   "file_extension": ".py",
   "mimetype": "text/x-python",
   "name": "python",
   "nbconvert_exporter": "python",
   "pygments_lexer": "ipython3",
   "version": "3.13.5"
  }
 },
 "nbformat": 4,
 "nbformat_minor": 5
}
