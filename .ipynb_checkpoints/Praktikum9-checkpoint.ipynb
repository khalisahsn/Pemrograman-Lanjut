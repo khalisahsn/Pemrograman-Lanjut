{
 "cells": [
  {
   "cell_type": "markdown",
   "id": "5ca076a7-3163-4410-97f0-20e551a3fc18",
   "metadata": {},
   "source": [
    "# PRAKTIKUM 9"
   ]
  },
  {
   "cell_type": "markdown",
   "id": "88d17803",
   "metadata": {},
   "source": [
    "Ini adalah percobaan pertama membuat kode menggunakan Python"
   ]
  },
  {
   "cell_type": "code",
   "execution_count": 1,
   "id": "42247116",
   "metadata": {},
   "outputs": [
    {
     "name": "stdout",
     "output_type": "stream",
     "text": [
      "Nama: Siti Nurkhalisah\n",
      "NIM: 240210501046\n"
     ]
    }
   ],
   "source": [
    "print(\"Nama: Siti Nurkhalisah\")\n",
    "print (\"NIM: 240210501046\")"
   ]
  },
  {
   "cell_type": "markdown",
   "id": "e056d735-02c6-4a99-bcda-cd78406ec875",
   "metadata": {},
   "source": [
    "## Python Learning"
   ]
  },
  {
   "cell_type": "code",
   "execution_count": null,
   "id": "a730f771-8579-41e3-a9b3-b63bccf86b90",
   "metadata": {},
   "outputs": [
    {
     "name": "stdout",
     "output_type": "stream",
     "text": [
      "Hello, World!\n"
     ]
    }
   ],
   "source": [
    "print(\"Hello, World!\")"
   ]
  },
  {
   "cell_type": "markdown",
   "id": "b1cb453f-cc50-40bf-ac90-25109bd413db",
   "metadata": {},
   "source": [
    "### Analisis\n",
    "\n",
    "Kode print(\"Hello, World!\") digunakan untuk menampilkan teks Hello, World! pada layar. Perintah ini memanfaatkan fungsi bawaan print() dalam Python yang berfungsi mencetak keluaran ke konsol."
   ]
  },
  {
   "cell_type": "markdown",
   "id": "8a9ddcb2-a33e-4eb9-96b1-56f8171736ad",
   "metadata": {},
   "source": [
    "## Python Indentation"
   ]
  },
  {
   "cell_type": "code",
   "execution_count": null,
   "id": "52dd7454-b565-4a23-ae71-8dedea6e0771",
   "metadata": {},
   "outputs": [
    {
     "name": "stdout",
     "output_type": "stream",
     "text": [
      "Five is greater than two!\n"
     ]
    }
   ],
   "source": [
    "if 5 > 2:\n",
    "  print(\"Five is greater than two!\")"
   ]
  },
  {
   "cell_type": "markdown",
   "id": "f9551663-a370-4fd9-851b-a80ad520f982",
   "metadata": {},
   "source": [
    "### Analisis\n",
    "\n",
    "Kode if 5 > 2: print(\"Five is greater than two!\") digunakan untuk membandingkan dua nilai, yaitu 5 dan 2. Karena kondisi 5 > 2 bernilai True, maka perintah di dalam blok if akan dijalankan dan menampilkan teks \"Five is greater than two!\" di layar."
   ]
  },
  {
   "cell_type": "code",
   "execution_count": null,
   "id": "e3e1c81e-7dfe-419a-bcf3-5d4000691b6b",
   "metadata": {},
   "outputs": [
    {
     "name": "stdout",
     "output_type": "stream",
     "text": [
      "Five is greater than two!\n",
      "Five is greater than two!\n"
     ]
    }
   ],
   "source": [
    "if 5 > 2:\n",
    " print(\"Five is greater than two!\") \n",
    "if 5 > 2:\n",
    "        print(\"Five is greater than two!\") "
   ]
  },
  {
   "cell_type": "markdown",
   "id": "9f602585-f190-420d-9518-bbfce69ed89b",
   "metadata": {},
   "source": [
    "### Analisis\n",
    "\n",
    "Kode ini membandingkan angka 5 dan 2. Karena 5 lebih besar dari 2, maka program menampilkan tulisan \"Five is greater than two!\" dua kali. Perbedaannya hanya di jumlah spasi, tapi hasilnya tetap sama."
   ]
  },
  {
   "cell_type": "markdown",
   "id": "d1d44c86-f310-4aa6-a07a-92031ce910a1",
   "metadata": {},
   "source": [
    "## Python Variables & Comments"
   ]
  },
  {
   "cell_type": "code",
   "execution_count": null,
   "id": "514ab002-9c84-49a9-8086-dcf15aefde9d",
   "metadata": {},
   "outputs": [],
   "source": [
    "x = 5\n",
    "y = \"Hello, World!\""
   ]
  },
  {
   "cell_type": "code",
   "execution_count": null,
   "id": "4fb6e420-8549-434e-8eb3-acbbb07db1a6",
   "metadata": {},
   "outputs": [
    {
     "name": "stdout",
     "output_type": "stream",
     "text": [
      "Hello, World!\n"
     ]
    }
   ],
   "source": [
    "#This is a comment.\n",
    "print(\"Hello, World!\")"
   ]
  },
  {
   "cell_type": "markdown",
   "id": "babb0109-f27d-44de-8081-a703b0147639",
   "metadata": {},
   "source": [
    "### Analisis\n",
    "\n",
    "Kode tersebut membuat dua variabel: x berisi angka 5 dan y berisi teks \"Hello, World!\". Tanda # digunakan untuk menulis komentar yang tidak dijalankan oleh program. Fungsi print() menampilkan teks \"Hello, World!\" ke layar."
   ]
  },
  {
   "cell_type": "markdown",
   "id": "ac7053b1-13c9-42bd-ac31-36f2c9426a95",
   "metadata": {},
   "source": [
    "## Statements"
   ]
  },
  {
   "cell_type": "code",
   "execution_count": null,
   "id": "52c7cf60-8ee3-4207-8d7b-b26026b10066",
   "metadata": {},
   "outputs": [
    {
     "name": "stdout",
     "output_type": "stream",
     "text": [
      "Python is fun!\n"
     ]
    }
   ],
   "source": [
    "print(\"Python is fun!\")"
   ]
  },
  {
   "cell_type": "markdown",
   "id": "32fe3704-836b-4511-b1c8-ef497e3527a9",
   "metadata": {},
   "source": [
    "### Analisis\n",
    "\n",
    "Kode print(\"Python is fun!\") adalah perintah (statement) dalam Python yang digunakan untuk menampilkan teks ke layar. Statement ini menunjukkan bahwa setiap baris kode dalam Python dieksekusi sebagai instruksi oleh komputer."
   ]
  },
  {
   "cell_type": "markdown",
   "id": "b5348755-41fc-42f5-9381-272f9a3eb330",
   "metadata": {},
   "source": [
    "## Many Statements"
   ]
  },
  {
   "cell_type": "code",
   "execution_count": null,
   "id": "4ca1bea8-6d4b-4871-8715-61383fcf0177",
   "metadata": {},
   "outputs": [
    {
     "name": "stdout",
     "output_type": "stream",
     "text": [
      "Hello World!\n",
      "Have a good day.\n",
      "Learning Python is fun!\n"
     ]
    }
   ],
   "source": [
    "print(\"Hello World!\")\n",
    "print(\"Have a good day.\")\n",
    "print(\"Learning Python is fun!\")"
   ]
  },
  {
   "cell_type": "markdown",
   "id": "92dd40db-8ed4-4a0a-9511-cfe48c8f1fc0",
   "metadata": {},
   "source": [
    "### Analisis\n",
    "\n",
    "Kode tersebut berisi tiga perintah print() yang masing-masing menampilkan teks berbeda. Semua perintah dijalankan satu per satu sesuai urutan penulisannya, sehingga program akan menampilkan tiga baris teks di layar secara berurutan."
   ]
  },
  {
   "cell_type": "markdown",
   "id": "a7a17a85-1349-40df-86a4-904c56e5c2f5",
   "metadata": {},
   "source": [
    "## Semicolons (Optional, Rarely Used)"
   ]
  },
  {
   "cell_type": "code",
   "execution_count": null,
   "id": "c564e79b-c93c-4a2b-a92f-cd6230cbbfbe",
   "metadata": {},
   "outputs": [
    {
     "name": "stdout",
     "output_type": "stream",
     "text": [
      "Hello\n",
      "How are you?\n",
      "Bye bye!\n"
     ]
    }
   ],
   "source": [
    "print(\"Hello\"); print(\"How are you?\"); print(\"Bye bye!\")"
   ]
  },
  {
   "cell_type": "markdown",
   "id": "05834605-75f1-4c3d-a38e-234bf9a07865",
   "metadata": {},
   "source": [
    "### Analisis\n",
    "\n",
    "Kode print(\"Hello\"); print(\"How are you?\"); print(\"Bye bye!\") menampilkan tiga teks berbeda dalam satu baris. Tanda titik koma (;) digunakan untuk memisahkan perintah"
   ]
  },
  {
   "cell_type": "markdown",
   "id": "8821049c-d9b8-4ee8-826e-539dcb821139",
   "metadata": {},
   "source": [
    "## Print Text"
   ]
  },
  {
   "cell_type": "code",
   "execution_count": null,
   "id": "d4978c2d-0f68-46c6-8498-217261f2d5ef",
   "metadata": {},
   "outputs": [
    {
     "name": "stdout",
     "output_type": "stream",
     "text": [
      "Hello World!\n"
     ]
    }
   ],
   "source": [
    "print(\"Hello World!\")"
   ]
  },
  {
   "cell_type": "markdown",
   "id": "ecae07e3-2910-4018-ad95-ecec738816e1",
   "metadata": {},
   "source": [
    "### Analisis\n",
    "\n",
    "Kode print(\"Hello World!\") digunakan untuk menampilkan teks Hello World! ke layar. Fungsi print() berfungsi menulis atau menampilkan hasil keluaran dalam program Python."
   ]
  },
  {
   "cell_type": "code",
   "execution_count": null,
   "id": "bf19dcea-2af0-47a1-b6d6-6caf083f674b",
   "metadata": {},
   "outputs": [
    {
     "name": "stdout",
     "output_type": "stream",
     "text": [
      "Hello World!\n",
      "I am learning Python.\n",
      "It is awesome!\n"
     ]
    }
   ],
   "source": [
    "print(\"Hello World!\")\n",
    "print(\"I am learning Python.\")\n",
    "print(\"It is awesome!\")"
   ]
  },
  {
   "cell_type": "markdown",
   "id": "ceb5fc1f-cc5a-4d2a-8a50-d5d39350f290",
   "metadata": {},
   "source": [
    "### Analisis\n",
    "\n",
    "Kode tersebut berisi tiga perintah print() yang masing-masing menampilkan teks berbeda. Setiap perintah print() akan menulis hasilnya di baris baru secara otomatis, sehingga muncul tiga baris teks saat program dijalankan."
   ]
  },
  {
   "cell_type": "markdown",
   "id": "c27f0736-95a8-49c5-9ae8-6e5cb3b27284",
   "metadata": {},
   "source": [
    "## Double Quotes"
   ]
  },
  {
   "cell_type": "code",
   "execution_count": null,
   "id": "a9ad7700-dbb9-45da-94be-973939ba7f16",
   "metadata": {},
   "outputs": [
    {
     "name": "stdout",
     "output_type": "stream",
     "text": [
      "This will work!\n",
      "This will also work!\n"
     ]
    }
   ],
   "source": [
    "print(\"This will work!\")\n",
    "print('This will also work!')"
   ]
  },
  {
   "cell_type": "markdown",
   "id": "f577d0a8-40f8-4be8-a7db-4cbdda593147",
   "metadata": {},
   "source": [
    "### Analisis\n",
    "\n",
    "Kode tersebut berisi dua perintah print() yang menampilkan teks ke layar. Baris pertama menggunakan tanda kutip ganda, sedangkan baris kedua menggunakan tanda kutip tunggal. Keduanya sama-sama benar dan menghasilkan output yang sama, yaitu teks ditampilkan di layar."
   ]
  },
  {
   "cell_type": "markdown",
   "id": "93dec263-9575-4a77-9fcf-6593e2a81a04",
   "metadata": {},
   "source": [
    "## Print Without a New Line"
   ]
  },
  {
   "cell_type": "code",
   "execution_count": null,
   "id": "0bfdd760-2515-46b8-b5eb-aa648336b48d",
   "metadata": {},
   "outputs": [
    {
     "name": "stdout",
     "output_type": "stream",
     "text": [
      "Hello World! I will print on the same line.\n"
     ]
    }
   ],
   "source": [
    "print(\"Hello World!\", end=\" \")\n",
    "print(\"I will print on the same line.\")"
   ]
  },
  {
   "cell_type": "markdown",
   "id": "aa530104-314b-4d01-b3e5-a6975390e396",
   "metadata": {},
   "source": [
    "### Analisis\n",
    "\n",
    "Kode tersebut menampilkan teks menggunakan fungsi print(). Python memperbolehkan penggunaan tanda kutip ganda (\" \") atau tunggal (' ') untuk menulis teks (string). Kedua baris kode menghasilkan output yang sama, yaitu menampilkan tulisan di layar."
   ]
  },
  {
   "cell_type": "markdown",
   "id": "0dee3746-43fe-44bb-a7e2-263d3e498d22",
   "metadata": {},
   "source": [
    "## Print Numbers"
   ]
  },
  {
   "cell_type": "code",
   "execution_count": null,
   "id": "6fb6a914-be5f-4c46-a496-9a19aaed622f",
   "metadata": {},
   "outputs": [
    {
     "name": "stdout",
     "output_type": "stream",
     "text": [
      "3\n",
      "358\n",
      "50000\n"
     ]
    }
   ],
   "source": [
    "print(3)\n",
    "print(358)\n",
    "print(50000)"
   ]
  },
  {
   "cell_type": "markdown",
   "id": "f5f4bafc-b51f-4de2-a4c6-d0c10e2472e6",
   "metadata": {},
   "source": [
    "### Analisis\n",
    "\n",
    "Kode penggunaan fungsi print() untuk menampilkan angka. Berbeda dengan teks, angka tidak ditulis di dalam tanda kutip karena dianggap sebagai nilai numerik. Contoh print(3), print(358), dan print(50000) akan menampilkan angka-angka tersebut langsung di layar."
   ]
  },
  {
   "cell_type": "code",
   "execution_count": null,
   "id": "c17b8dcb-bdff-462d-b393-64c59926a78e",
   "metadata": {},
   "outputs": [
    {
     "name": "stdout",
     "output_type": "stream",
     "text": [
      "6\n",
      "10\n"
     ]
    }
   ],
   "source": [
    "print(3 + 3)\n",
    "print(2 * 5)"
   ]
  },
  {
   "cell_type": "markdown",
   "id": "aee3db1c-5524-47c4-a554-ce55f1ada748",
   "metadata": {},
   "source": [
    "### Analisis\n",
    "\n",
    "Kode tersebut menampilkan hasil dari operasi aritmatika.\n",
    "Baris pertama print(3 + 3) menghasilkan 6, dan baris kedua print(2 * 5) menghasilkan 10."
   ]
  },
  {
   "cell_type": "markdown",
   "id": "6d51831b-10ee-4eea-8566-bdba46af9f98",
   "metadata": {},
   "source": [
    "## Mix Text and Numbers"
   ]
  },
  {
   "cell_type": "code",
   "execution_count": null,
   "id": "c019dbdb-3515-4df7-bf62-aac3e6752e40",
   "metadata": {},
   "outputs": [
    {
     "name": "stdout",
     "output_type": "stream",
     "text": [
      "I am 35 years old.\n"
     ]
    }
   ],
   "source": [
    "print(\"I am\", 35, \"years old.\")"
   ]
  },
  {
   "cell_type": "markdown",
   "id": "7c1038bd-dee3-4593-b521-9a7993a85430",
   "metadata": {},
   "source": [
    "### Analisis\n",
    "\n",
    "Kode menunjukkan cara menggabungkan teks dan angka dalam satu output menggunakan fungsi print() di Python. Dengan memisahkan elemen menggunakan koma, seperti pada contoh print(\"I am\", 35, \"years old.\"), Python akan menampilkan keduanya dalam satu baris dengan spasi otomatis di antara setiap elemen."
   ]
  },
  {
   "cell_type": "markdown",
   "id": "e0c26ef7-c2cd-4598-a13e-8b95b09a64b8",
   "metadata": {},
   "source": [
    "## Creating a Comment"
   ]
  },
  {
   "cell_type": "code",
   "execution_count": null,
   "id": "fcb94ba3-acd6-4663-ac74-3ba3dd2fe79f",
   "metadata": {},
   "outputs": [
    {
     "name": "stdout",
     "output_type": "stream",
     "text": [
      "Hello, World!\n"
     ]
    }
   ],
   "source": [
    "#This is a comment\n",
    "print(\"Hello, World!\")"
   ]
  },
  {
   "cell_type": "markdown",
   "id": "b3bd1014-393e-46ec-9638-35dab3b1de3d",
   "metadata": {},
   "source": [
    "### Analisis\n",
    "\n",
    "Kode pada penggunaan komentar dalam Python. Baris yang diawali dengan tanda pagar (#) seperti #This is a comment tidak akan dijalankan oleh program karena dianggap sebagai keterangan atau penjelasan untuk pembaca kode. Baris berikutnya, print(\"Hello, World!\"), merupakan perintah yang akan dijalankan dan menampilkan teks Hello, World! di layar."
   ]
  },
  {
   "cell_type": "code",
   "execution_count": null,
   "id": "2de7c15a-c5cf-46a7-9ac9-56d201062306",
   "metadata": {},
   "outputs": [
    {
     "name": "stdout",
     "output_type": "stream",
     "text": [
      "Hello, World!\n"
     ]
    }
   ],
   "source": [
    "print(\"Hello, World!\") #This is a comment"
   ]
  },
  {
   "cell_type": "markdown",
   "id": "43cd600a-acdc-4437-9e51-210853690721",
   "metadata": {},
   "source": [
    "### Analisis\n",
    "\n",
    "Kode ini menunjukkan bahwa komentar di Python juga bisa ditulis di akhir baris kode. Pada print(\"Hello, World!\") #This is a comment, bagian sebelum tanda pagar (#) adalah perintah yang akan dijalankan untuk menampilkan teks Hello, World!, sedangkan bagian setelah # adalah komentar yang diabaikan oleh Python."
   ]
  },
  {
   "cell_type": "code",
   "execution_count": null,
   "id": "32f76de7-c5cd-4312-b0d0-09628cb79713",
   "metadata": {},
   "outputs": [
    {
     "name": "stdout",
     "output_type": "stream",
     "text": [
      "Cheers, Mate!\n"
     ]
    }
   ],
   "source": [
    "#print(\"Hello, World!\")\n",
    "print(\"Cheers, Mate!\")"
   ]
  },
  {
   "cell_type": "markdown",
   "id": "594a6926-6dce-484d-b136-2aa9801badcb",
   "metadata": {},
   "source": [
    "### Analisis\n",
    "\n",
    "Baris tersebut diawali dengan tanda pagar (#), sehingga Python akan mengabaikannya. Hanya baris print(\"Cheers, Mate!\") yang dijalankan, dan hasil yang ditampilkan di layar adalah Cheers, Mate!."
   ]
  },
  {
   "cell_type": "markdown",
   "id": "66e2d303-e137-4c4f-83ad-ebd8ba181db4",
   "metadata": {},
   "source": [
    "## Multiline Comments"
   ]
  },
  {
   "cell_type": "code",
   "execution_count": null,
   "id": "bbf637b6-437b-423f-a258-860587d8c74e",
   "metadata": {},
   "outputs": [
    {
     "name": "stdout",
     "output_type": "stream",
     "text": [
      "Hello, World!\n"
     ]
    }
   ],
   "source": [
    "#This is a comment\n",
    "#written in\n",
    "#more than just one line\n",
    "print(\"Hello, World!\")"
   ]
  },
  {
   "cell_type": "markdown",
   "id": "ea710268-8e08-40d9-94bb-864550533d8e",
   "metadata": {},
   "source": [
    "### Analisis\n",
    "\n",
    "Kode ini menunjukkan cara membuat komentar lebih dari satu baris (multiline comment) dalam Python. Karena Python tidak memiliki sintaks khusus untuk komentar panjang, setiap baris komentar harus diawali dengan tanda pagar (#).Tiga baris pertama adalah komentar yang diabaikan oleh Python, sedangkan baris terakhir akan dijalankan dan menampilkan teks Hello, World! di layar."
   ]
  },
  {
   "cell_type": "code",
   "execution_count": null,
   "id": "d0d58c5f-17f7-446f-814e-bac5c08283ed",
   "metadata": {},
   "outputs": [
    {
     "name": "stdout",
     "output_type": "stream",
     "text": [
      "Hello, World!\n"
     ]
    }
   ],
   "source": [
    "\"\"\"\n",
    "This is a comment\n",
    "written in\n",
    "more than just one line\n",
    "\"\"\"\n",
    "print(\"Hello, World!\")"
   ]
  },
  {
   "cell_type": "markdown",
   "id": "73e5be7f-9127-4282-910b-d31397e88034",
   "metadata": {},
   "source": [
    "### Analisis\n",
    "\n",
    "Kode tersebut menggunakan tanda kutip tiga (\"\"\" ... \"\"\") untuk membuat komentar beberapa baris di Python. Teks di dalamnya diabaikan oleh program, sedangkan baris print(\"Hello, World!\") akan menampilkan output “Hello, World!”."
   ]
  },
  {
   "cell_type": "markdown",
   "id": "a2cb53ae-b2ef-47ac-b863-9c412307f05a",
   "metadata": {},
   "source": [
    "## Creating Variables"
   ]
  },
  {
   "cell_type": "code",
   "execution_count": null,
   "id": "de55cbbb-67e5-4a46-9125-e94aa87d9197",
   "metadata": {},
   "outputs": [
    {
     "name": "stdout",
     "output_type": "stream",
     "text": [
      "5\n",
      "John\n"
     ]
    }
   ],
   "source": [
    "x = 5\n",
    "y = \"John\"\n",
    "print(x)\n",
    "print(y)"
   ]
  },
  {
   "cell_type": "markdown",
   "id": "1528f8be-8b1a-494a-b865-567e8a648784",
   "metadata": {},
   "source": [
    "### Analisis\n",
    "\n",
    "Kode tersebut membuat variabel x dengan nilai 5 dan y dengan nilai \"John\", lalu menampilkannya menggunakan perintah print().\n"
   ]
  },
  {
   "cell_type": "code",
   "execution_count": null,
   "id": "e5f4536e-9510-47ba-853e-4f2e2059e70c",
   "metadata": {},
   "outputs": [
    {
     "name": "stdout",
     "output_type": "stream",
     "text": [
      "Sally\n"
     ]
    }
   ],
   "source": [
    "x = 4       # x is of type int\n",
    "x = \"Sally\" # x is now of type str\n",
    "print(x)"
   ]
  },
  {
   "cell_type": "markdown",
   "id": "584f8c12-c19b-4698-8e3f-9931dcbb321f",
   "metadata": {},
   "source": [
    "### Analisis\n",
    "\n",
    "Kode tersebut menunjukkan bahwa di Python, variabel tidak perlu dideklarasikan dengan tipe tertentu dan dapat berubah tipe nilainya. Awalnya, variabel x diberi nilai 4 (tipe int), lalu nilainya diubah menjadi \"Sally\" (tipe str). Ketika print(x) dijalankan, hasil yang ditampilkan adalah Sally."
   ]
  },
  {
   "cell_type": "markdown",
   "id": "059ee3f6-59d8-4d59-94ba-7462f1515fe6",
   "metadata": {},
   "source": [
    "## Casting"
   ]
  },
  {
   "cell_type": "code",
   "execution_count": null,
   "id": "ba0f0d5b-53de-4828-afc1-261a4c3c0dbd",
   "metadata": {},
   "outputs": [],
   "source": [
    "x = str(3)    # x will be '3'\n",
    "y = int(3)    # y will be 3\n",
    "z = float(3)  # z will be 3.0"
   ]
  },
  {
   "cell_type": "markdown",
   "id": "19aea77a-8705-4819-a66d-55a3d492965c",
   "metadata": {},
   "source": [
    "### Analisis\n",
    "\n",
    "Kode ini menunjukkan casting dalam Python, yaitu proses mengubah tipe data suatu nilai. Pada baris pertama, x = str(3) mengubah angka 3 menjadi string '3'. Baris kedua, y = int(3) menyimpan nilai 3 sebagai bilangan bulat. Sedangkan z = float(3) mengubah angka 3 menjadi bilangan desimal 3.0."
   ]
  },
  {
   "cell_type": "markdown",
   "id": "253cab84-eda7-4236-81c9-794bfc3a0ca7",
   "metadata": {},
   "source": [
    "## Get the Type"
   ]
  },
  {
   "cell_type": "code",
   "execution_count": null,
   "id": "5f731898-a12a-4f81-97e2-11ee347e2508",
   "metadata": {},
   "outputs": [
    {
     "name": "stdout",
     "output_type": "stream",
     "text": [
      "<class 'int'>\n",
      "<class 'str'>\n"
     ]
    }
   ],
   "source": [
    "x = 5\n",
    "y = \"John\"\n",
    "print(type(x))\n",
    "print(type(y))"
   ]
  },
  {
   "cell_type": "markdown",
   "id": "b763ce6f-30c0-4d92-84ff-cc7629aee011",
   "metadata": {},
   "source": [
    "### Analisis\n",
    "\n",
    "cara mengetahui tipe data suatu variabel menggunakan fungsi type() dalam Python. Variabel x diberi nilai 5 yang bertipe integer (int), sedangkan y berisi \"John\" yang bertipe string (str). Saat perintah print(type(x)) dan print(type(y)) dijalankan, hasilnya akan menampilkan tipe data masing-masing variabel."
   ]
  },
  {
   "cell_type": "markdown",
   "id": "12745f97-06a2-4f4e-b959-d0d95a806d8a",
   "metadata": {},
   "source": [
    "## Single or Double Quotes?"
   ]
  },
  {
   "cell_type": "code",
   "execution_count": null,
   "id": "8fa91ab0-9d62-4ec7-a9fd-43e27d97a50f",
   "metadata": {},
   "outputs": [],
   "source": [
    "x = \"John\"\n",
    "# is the same as\n",
    "x = 'John'"
   ]
  },
  {
   "cell_type": "markdown",
   "id": "96ced62e-694c-4238-911c-c70df7d07eb5",
   "metadata": {},
   "source": [
    "### Analisis\n",
    "\n",
    "Kode ini menjelaskan bahwa dalam Python, string dapat ditulis menggunakan tanda kutip tunggal (‘ ’) maupun kutip ganda (“ ”), dan keduanya memiliki fungsi yang sama. Pada contoh, x = \"John\" dan x = 'John' menghasilkan nilai yang identik, yaitu string berisi teks John."
   ]
  },
  {
   "cell_type": "markdown",
   "id": "e35a4ee1-1f74-45d6-a92f-62bcc23d05bc",
   "metadata": {},
   "source": [
    "## Case-Sensitive"
   ]
  },
  {
   "cell_type": "code",
   "execution_count": null,
   "id": "3b40e7fa-9259-47bf-8412-efcd8c490c35",
   "metadata": {},
   "outputs": [],
   "source": [
    "a = 4\n",
    "A = \"Sally\"\n",
    "#A will not overwrite a"
   ]
  },
  {
   "cell_type": "markdown",
   "id": "387fc68b-f75a-4138-994c-eab365cfaa0e",
   "metadata": {},
   "source": [
    "### Analisis\n",
    "\n",
    "Kode ini menunjukkan bahwa Python bersifat case-sensitive, artinya huruf besar dan huruf kecil dianggap berbeda. Pada contoh, a = 4 dan A = \"Sally\" adalah dua variabel yang berbeda, meskipun namanya mirip. Nilai dari a tidak akan menimpa nilai dari A, dan sebaliknya."
   ]
  },
  {
   "cell_type": "markdown",
   "id": "1fd4fa4d-823c-4239-a8b7-95c255c9ddcf",
   "metadata": {},
   "source": [
    "## Variable Names"
   ]
  },
  {
   "cell_type": "code",
   "execution_count": null,
   "id": "4ab2d553-3c79-46a6-8148-e6657fcebf60",
   "metadata": {},
   "outputs": [],
   "source": [
    "myvar = \"John\"\n",
    "my_var = \"John\"\n",
    "_my_var = \"John\"\n",
    "myVar = \"John\"\n",
    "MYVAR = \"John\"\n",
    "myvar2 = \"John\""
   ]
  },
  {
   "cell_type": "markdown",
   "id": "615333d4-1a84-4bbb-96ed-a91c3348ebb7",
   "metadata": {},
   "source": [
    "### Analisis\n",
    "\n",
    "Kode ini menjelaskan aturan penamaan variabel dalam Python. Nama variabel harus diawali huruf atau garis bawah, tidak boleh diawali angka, hanya boleh berisi huruf, angka, dan garis bawah, serta case-sensitive. Selain itu, tidak boleh menggunakan kata kunci Python. Contohnya: myvar, my_var, _my_var, myVar, dan myvar2."
   ]
  },
  {
   "cell_type": "markdown",
   "id": "fcd480e6-6761-41c8-b34a-0273e5f98a5f",
   "metadata": {},
   "source": [
    "## Camel Case"
   ]
  },
  {
   "cell_type": "code",
   "execution_count": null,
   "id": "0e26eef8-24d4-45b4-b6de-bf28d36102e1",
   "metadata": {},
   "outputs": [],
   "source": [
    "myVariableName = \"John\""
   ]
  },
  {
   "cell_type": "markdown",
   "id": "439022be-c358-4ae5-ab5b-8319bc7ea451",
   "metadata": {},
   "source": [
    "### Analisis\n",
    "\n",
    "Kode ini menjelaskan Camel Case, yaitu penulisan variabel di mana kata pertama huruf kecil dan kata berikutnya diawali huruf besar, seperti myVariableName = \"John\"."
   ]
  },
  {
   "cell_type": "markdown",
   "id": "1d172cc1-59a1-4dae-88da-bcf921a4b527",
   "metadata": {},
   "source": [
    "## Pascal Case"
   ]
  },
  {
   "cell_type": "code",
   "execution_count": null,
   "id": "9201b26b-5a10-4be3-ab71-bdfad64a7b23",
   "metadata": {},
   "outputs": [],
   "source": [
    "MyVariableName = \"John\""
   ]
  },
  {
   "cell_type": "markdown",
   "id": "23ca059d-ba38-4dc6-9586-f3a99425bbae",
   "metadata": {},
   "source": [
    "### Analisis\n",
    "\n",
    "Kode ini menjelaskan Pascal Case, yaitu gaya penulisan variabel di mana setiap kata diawali huruf besar, termasuk kata pertama. Contohnya, MyVariableName = \"John\". Gaya ini sering digunakan untuk penamaan kelas atau objek dalam pemrograman."
   ]
  },
  {
   "cell_type": "markdown",
   "id": "d8ff125b-c91b-4914-b4a1-45f22455a25e",
   "metadata": {},
   "source": [
    "## Snake Case"
   ]
  },
  {
   "cell_type": "code",
   "execution_count": null,
   "id": "e09d83dc-204f-4626-abae-3d23636c46c5",
   "metadata": {},
   "outputs": [],
   "source": [
    "my_variable_name = \"John\""
   ]
  },
  {
   "cell_type": "markdown",
   "id": "63f488de-9632-44e1-979a-27d206e2077c",
   "metadata": {},
   "source": [
    "### Analisis\n",
    "\n",
    "Kode ini menjelaskan Snake Case, yaitu gaya penulisan variabel di mana setiap kata dipisahkan dengan tanda garis bawah (_). Contohnya, my_variable_name = \"John\". "
   ]
  },
  {
   "cell_type": "markdown",
   "id": "a9e54143-0558-4016-bcc5-f77c70cdc783",
   "metadata": {},
   "source": [
    "## Many Values to Multiple Variables"
   ]
  },
  {
   "cell_type": "code",
   "execution_count": null,
   "id": "8466e46a-7905-4283-8487-68a2af737ad0",
   "metadata": {},
   "outputs": [
    {
     "name": "stdout",
     "output_type": "stream",
     "text": [
      "Orange\n",
      "Banana\n",
      "Cherry\n"
     ]
    }
   ],
   "source": [
    "x, y, z = \"Orange\", \"Banana\", \"Cherry\"\n",
    "print(x)\n",
    "print(y)\n",
    "print(z)"
   ]
  },
  {
   "cell_type": "markdown",
   "id": "e2d331e9-3fcc-47a8-9176-17503ad034c3",
   "metadata": {},
   "source": [
    "### Analisis\n",
    "\n",
    "Kode ini menunjukkan bahwa Python memungkinkan pemberian banyak nilai ke beberapa variabel sekaligus dalam satu baris. Pada contoh x, y, z = \"Orange\", \"Banana\", \"Cherry\", nilai \"Orange\" diberikan ke x, \"Banana\" ke y, dan \"Cherry\" ke z. Saat dicetak, masing-masing variabel menampilkan nilainya sendiri."
   ]
  },
  {
   "cell_type": "markdown",
   "id": "57f63751-a76b-4caf-bae1-75d257fca739",
   "metadata": {},
   "source": [
    "## One Value to Multiple Variables"
   ]
  },
  {
   "cell_type": "code",
   "execution_count": null,
   "id": "725acaaa-2fcd-4360-8357-b7fa421f6525",
   "metadata": {},
   "outputs": [
    {
     "name": "stdout",
     "output_type": "stream",
     "text": [
      "Orange\n",
      "Orange\n",
      "Orange\n"
     ]
    }
   ],
   "source": [
    "x = y = z = \"Orange\"\n",
    "print(x)\n",
    "print(y)\n",
    "print(z)"
   ]
  },
  {
   "cell_type": "markdown",
   "id": "9cebcb29-1f39-4fbc-9ff2-6fff2cb61c40",
   "metadata": {},
   "source": [
    "### Analisis\n",
    "\n",
    "Kode ini menunjukkan bahwa Python dapat memberikan satu nilai yang sama ke beberapa variabel sekaligus dalam satu baris. Pada contoh x = y = z = \"Orange\", ketiga variabel (x, y, dan z) akan berisi nilai yang sama, yaitu \"Orange\"."
   ]
  },
  {
   "cell_type": "markdown",
   "id": "be8d57b8-99b3-4301-bb0d-dc69abc1131b",
   "metadata": {},
   "source": [
    "## Unpack a Collection"
   ]
  },
  {
   "cell_type": "code",
   "execution_count": null,
   "id": "45a6a569-6665-480c-84aa-351b6f189ae2",
   "metadata": {},
   "outputs": [
    {
     "name": "stdout",
     "output_type": "stream",
     "text": [
      "apple\n",
      "banana\n",
      "cherry\n"
     ]
    }
   ],
   "source": [
    "fruits = [\"apple\", \"banana\", \"cherry\"]\n",
    "x, y, z = fruits\n",
    "print(x)\n",
    "print(y)\n",
    "print(z)"
   ]
  },
  {
   "cell_type": "markdown",
   "id": "948a3859-efe1-49b1-b976-48780a2d2c96",
   "metadata": {},
   "source": [
    "### Analisis\n",
    "\n",
    "Kode tersebut menunjukkan unpacking, yaitu mengambil nilai dari list ke beberapa variabel sekaligus. Contohnya, x, y, z = fruits akan memberi nilai \"apple\", \"banana\", dan \"cherry\" ke masing-masing variabel."
   ]
  },
  {
   "cell_type": "markdown",
   "id": "957df51e-e620-49bc-93bb-c49b629512c1",
   "metadata": {},
   "source": [
    "## Output Variables"
   ]
  },
  {
   "cell_type": "code",
   "execution_count": null,
   "id": "b5bb5237-8ab2-488b-9951-393140db9f3d",
   "metadata": {},
   "outputs": [
    {
     "name": "stdout",
     "output_type": "stream",
     "text": [
      "Python is awesome\n"
     ]
    }
   ],
   "source": [
    "x = \"Python is awesome\"\n",
    "print(x)\n"
   ]
  },
  {
   "cell_type": "markdown",
   "id": "b302f375-ac32-46ab-b6ff-91e28f48d3ab",
   "metadata": {},
   "source": [
    "### Analisis\n",
    "\n",
    "Kode tersebut menyimpan teks \"Python is awesome\" ke dalam variabel x, lalu menampilkannya di layar menggunakan perintah print(x). Hasilnya, program akan mencetak Python is awesome."
   ]
  },
  {
   "cell_type": "code",
   "execution_count": null,
   "id": "22764538-941e-417c-a75d-2c0e324adae4",
   "metadata": {},
   "outputs": [
    {
     "name": "stdout",
     "output_type": "stream",
     "text": [
      "Python is awesome\n"
     ]
    }
   ],
   "source": [
    "x = \"Python\"\n",
    "y = \"is\"\n",
    "z = \"awesome\"\n",
    "print(x, y, z)\n"
   ]
  },
  {
   "cell_type": "markdown",
   "id": "a5982f39-05f7-4cb4-abb4-05487738521b",
   "metadata": {},
   "source": [
    "### Analisis\n",
    "\n",
    "Kode tersebut membuat tiga variabel x, y, dan z yang masing-masing berisi teks \"Python\", \"is\", dan \"awesome\". Perintah print(x, y, z) menampilkan ketiganya dipisahkan spasi, sehingga hasil outputnya adalah Python is awesome."
   ]
  },
  {
   "cell_type": "code",
   "execution_count": null,
   "id": "a5e45292-23d2-4895-8854-e4b35ac5445c",
   "metadata": {},
   "outputs": [
    {
     "name": "stdout",
     "output_type": "stream",
     "text": [
      "Python is awesome\n"
     ]
    }
   ],
   "source": [
    "x = \"Python \"\n",
    "y = \"is \"\n",
    "z = \"awesome\"\n",
    "print(x + y + z)"
   ]
  },
  {
   "cell_type": "markdown",
   "id": "a20c9bcc-28c3-42b4-bcac-50f7103cca86",
   "metadata": {},
   "source": [
    "### Analisis\n",
    "\n",
    "Kode tersebut menggabungkan tiga string menggunakan operator +. Variabel x, y, dan z berisi teks \"Python \", \"is \", dan \"awesome\". Saat dicetak dengan print(x + y + z), hasilnya menjadi satu kalimat utuh: Python is awesome."
   ]
  },
  {
   "cell_type": "code",
   "execution_count": null,
   "id": "58288399-8212-427c-875e-c547f4e36fc6",
   "metadata": {},
   "outputs": [
    {
     "name": "stdout",
     "output_type": "stream",
     "text": [
      "15\n"
     ]
    }
   ],
   "source": [
    "x = 5\n",
    "y = 10\n",
    "print(x + y)"
   ]
  },
  {
   "cell_type": "markdown",
   "id": "8042258a-6271-446a-b3f9-feb68d15bc08",
   "metadata": {},
   "source": [
    "### Analisis\n",
    "\n",
    "Kode tersebut menjumlahkan dua nilai numerik. Variabel x bernilai 5 dan y bernilai 10. Perintah print(x + y) menghitung hasil penjumlahan keduanya, sehingga output yang ditampilkan adalah 15."
   ]
  },
  {
   "cell_type": "code",
   "execution_count": null,
   "id": "864798f6-8bbd-4aeb-bd3b-368860165d1d",
   "metadata": {},
   "outputs": [
    {
     "name": "stdout",
     "output_type": "stream",
     "text": [
      "5 John\n"
     ]
    }
   ],
   "source": [
    "x = 5\n",
    "y = \"John\"\n",
    "print(x, y)"
   ]
  },
  {
   "cell_type": "markdown",
   "id": "9a550a3b-8aca-41c0-aa5e-2f5f2f932f58",
   "metadata": {},
   "source": [
    "### Analisis\n",
    "\n",
    "Kode tersebut membuat dua variabel: x dengan nilai 5 (tipe integer) dan y dengan nilai \"John\" (tipe string). Saat dijalankan, print(x, y) menampilkan keduanya dipisahkan spasi, menghasilkan output 5 John."
   ]
  },
  {
   "cell_type": "markdown",
   "id": "0a3a58cc-e45c-4844-981e-ce0a4bd3608e",
   "metadata": {},
   "source": [
    "## Global Variables"
   ]
  },
  {
   "cell_type": "code",
   "execution_count": null,
   "id": "87cac6f9-dce7-4b25-995d-945948c7e950",
   "metadata": {},
   "outputs": [
    {
     "name": "stdout",
     "output_type": "stream",
     "text": [
      "Python is awesome\n"
     ]
    }
   ],
   "source": [
    "x = \"awesome\"\n",
    "\n",
    "def myfunc():\n",
    "  print(\"Python is \" + x)\n",
    "\n",
    "myfunc()"
   ]
  },
  {
   "cell_type": "markdown",
   "id": "8ed9407d-1598-47b9-902d-b7edf7030e76",
   "metadata": {},
   "source": [
    "### Analisis\n",
    "\n",
    "Kode tersebut mendemonstrasikan penggunaan variabel global di dalam fungsi. Variabel x berisi string \"awesome\" yang didefinisikan di luar fungsi. Fungsi myfunc() mencetak teks \"Python is \" yang digabung dengan nilai x. Saat fungsi dipanggil, hasil outputnya adalah Python is awesome."
   ]
  },
  {
   "cell_type": "code",
   "execution_count": null,
   "id": "432bd197-ebd8-43ff-bd26-8f4a27b7642f",
   "metadata": {},
   "outputs": [
    {
     "name": "stdout",
     "output_type": "stream",
     "text": [
      "Python is fantastic\n",
      "Python is awesome\n"
     ]
    }
   ],
   "source": [
    "x = \"awesome\"\n",
    "\n",
    "def myfunc():\n",
    "  x = \"fantastic\"\n",
    "  print(\"Python is \" + x)\n",
    "\n",
    "myfunc()\n",
    "\n",
    "print(\"Python is \" + x)"
   ]
  },
  {
   "cell_type": "markdown",
   "id": "7e46be01-b70e-45e5-b325-ecb812e95016",
   "metadata": {},
   "source": [
    "### Analisis\n",
    "\n",
    "Kode tersebut menunjukkan perbedaan antara variabel lokal dan global. Variabel global x bernilai \"awesome\", tetapi di dalam fungsi myfunc() dibuat variabel lokal x dengan nilai \"fantastic\". Saat fungsi dijalankan, outputnya adalah Python is fantastic, karena fungsi menggunakan variabel lokalnya sendiri. Setelah fungsi selesai, perintah print(\"Python is \" + x) di luar fungsi menampilkan Python is awesome, karena menggunakan variabel global."
   ]
  },
  {
   "cell_type": "markdown",
   "id": "488e1cb7-e70e-4998-870b-bc166844e952",
   "metadata": {},
   "source": [
    "## The global Keyword"
   ]
  },
  {
   "cell_type": "code",
   "execution_count": null,
   "id": "8589d620-538f-4956-9eb4-f7e67892e043",
   "metadata": {},
   "outputs": [
    {
     "name": "stdout",
     "output_type": "stream",
     "text": [
      "Python is fantastic\n"
     ]
    }
   ],
   "source": [
    "def myfunc():\n",
    "  global x\n",
    "  x = \"fantastic\"\n",
    "\n",
    "myfunc()\n",
    "\n",
    "print(\"Python is \" + x)"
   ]
  },
  {
   "cell_type": "markdown",
   "id": "77991ebb-1e7b-4e2c-9e23-e32e258844af",
   "metadata": {},
   "source": [
    "### Analisis\n",
    "\n",
    "Kode tersebut menggunakan kata kunci global untuk membuat variabel x bersifat global meskipun didefinisikan di dalam fungsi. Saat myfunc() dijalankan, x diberi nilai \"fantastic\" dan dapat diakses di luar fungsi. Karena itu, perintah print(\"Python is \" + x) menampilkan hasil Python is fantastic."
   ]
  },
  {
   "cell_type": "code",
   "execution_count": null,
   "id": "09e1b762-1820-4f3e-ad8b-ae2b9d6bdae1",
   "metadata": {},
   "outputs": [
    {
     "name": "stdout",
     "output_type": "stream",
     "text": [
      "Python is fantastic\n"
     ]
    }
   ],
   "source": [
    "x = \"awesome\"\n",
    "\n",
    "def myfunc():\n",
    "  global x\n",
    "  x = \"fantastic\"\n",
    "\n",
    "myfunc()\n",
    "\n",
    "print(\"Python is \" + x)\n"
   ]
  },
  {
   "cell_type": "markdown",
   "id": "7855bb4e-0f24-4037-9976-a6a11aab1269",
   "metadata": {},
   "source": [
    "### Analisis\n",
    "\n",
    "Kode tersebut menunjukkan penggunaan variabel global dalam fungsi. Awalnya, x bernilai \"awesome\". Di dalam fungsi myfunc(), perintah global x membuat variabel x di luar fungsi dapat diubah. Saat fungsi dijalankan, nilai x berubah menjadi \"fantastic\". Akibatnya, perintah print(\"Python is \" + x) menampilkan Python is fantastic."
   ]
  },
  {
   "cell_type": "markdown",
   "id": "08e2a2d6-45ab-444e-8b42-1c8ca35501bf",
   "metadata": {},
   "source": [
    "## Getting the Data Type"
   ]
  },
  {
   "cell_type": "code",
   "execution_count": null,
   "id": "217ef83c-f7af-4494-9a6b-c466c3f3e984",
   "metadata": {},
   "outputs": [
    {
     "name": "stdout",
     "output_type": "stream",
     "text": [
      "<class 'int'>\n"
     ]
    }
   ],
   "source": [
    "x = 5\n",
    "print(type(x))"
   ]
  },
  {
   "cell_type": "markdown",
   "id": "761cee55-16f6-46a7-9ae8-828efad469f5",
   "metadata": {},
   "source": [
    "### Analisis\n",
    "\n",
    "Kode tersebut digunakan untuk menampilkan tipe data dari variabel x. Karena x bernilai 5, maka tipenya adalah integer (int). Saat dijalankan, output yang muncul adalah <class 'int'>, yang menunjukkan bahwa x bertipe bilangan bulat."
   ]
  },
  {
   "cell_type": "markdown",
   "id": "9f3ba74a-2302-4ed4-9868-55c8db4f7fcc",
   "metadata": {},
   "source": [
    "## Python Numbers"
   ]
  },
  {
   "cell_type": "code",
   "execution_count": null,
   "id": "94a0ea1d-28f5-4826-89bc-7916bc52e1a6",
   "metadata": {},
   "outputs": [],
   "source": [
    "x = 1    # int\n",
    "y = 2.8  # float\n",
    "z = 1j   # complex"
   ]
  },
  {
   "cell_type": "markdown",
   "id": "666dc9db-e057-494b-813a-f7416c85720f",
   "metadata": {},
   "source": [
    "### Analisis\n",
    "\n",
    "Kode tersebut menunjukkan tiga tipe data angka di Python: x sebagai integer, y sebagai float, dan z sebagai complex. Python mendukung ketiganya untuk berbagai jenis perhitungan."
   ]
  },
  {
   "cell_type": "code",
   "execution_count": null,
   "id": "062b41a8-af36-4343-8520-7b276f8e800e",
   "metadata": {},
   "outputs": [
    {
     "name": "stdout",
     "output_type": "stream",
     "text": [
      "<class 'int'>\n",
      "<class 'float'>\n",
      "<class 'complex'>\n"
     ]
    }
   ],
   "source": [
    "print(type(x))\n",
    "print(type(y))\n",
    "print(type(z))"
   ]
  },
  {
   "cell_type": "markdown",
   "id": "7648c220-5a9e-4fa1-a70b-23a2b70283e1",
   "metadata": {},
   "source": [
    "### Analisis\n",
    "\n",
    "Kode tersebut digunakan untuk menampilkan tipe data dari masing-masing variabel. Fungsi type() akan menunjukkan bahwa x bertipe int, y bertipe float, dan z bertipe complex. Outputnya menegaskan perbedaan ketiga jenis data numerik tersebut."
   ]
  },
  {
   "cell_type": "markdown",
   "id": "4c8b739b-91ff-4806-856a-0e50bb0a49d3",
   "metadata": {},
   "source": [
    "## Int"
   ]
  },
  {
   "cell_type": "code",
   "execution_count": null,
   "id": "8b8e5519-825e-4537-ac7b-b70a41d01636",
   "metadata": {},
   "outputs": [
    {
     "name": "stdout",
     "output_type": "stream",
     "text": [
      "<class 'int'>\n",
      "<class 'int'>\n",
      "<class 'int'>\n"
     ]
    }
   ],
   "source": [
    "x = 1\n",
    "y = 35656222554887711\n",
    "z = -3255522\n",
    "\n",
    "print(type(x))\n",
    "print(type(y))\n",
    "print(type(z))"
   ]
  },
  {
   "cell_type": "markdown",
   "id": "7842c419-45e2-4d41-bd0e-1b9a50137651",
   "metadata": {},
   "source": [
    "### Analisis\n",
    "\n",
    "Kode tersebut mendefinisikan tiga variabel bertipe integer (int) dengan nilai berbeda: x bernilai kecil, y sangat besar, dan z bernilai negatif. Saat dicek dengan type(), ketiganya tetap bertipe int"
   ]
  },
  {
   "cell_type": "markdown",
   "id": "df78c6c7-cd7d-49ab-b45e-d47f827e9c11",
   "metadata": {},
   "source": [
    "## Float"
   ]
  },
  {
   "cell_type": "code",
   "execution_count": null,
   "id": "dbc9ee1b-69d7-40d3-a034-935f4953098d",
   "metadata": {},
   "outputs": [
    {
     "name": "stdout",
     "output_type": "stream",
     "text": [
      "<class 'float'>\n",
      "<class 'float'>\n",
      "<class 'float'>\n"
     ]
    }
   ],
   "source": [
    "x = 1.10\n",
    "y = 1.0\n",
    "z = -35.59\n",
    "\n",
    "print(type(x))\n",
    "print(type(y))\n",
    "print(type(z))"
   ]
  },
  {
   "cell_type": "markdown",
   "id": "8885f98f-35a5-4e50-8494-25101493db43",
   "metadata": {},
   "source": [
    "### Analisis\n",
    "\n",
    "Kode tersebut mendefinisikan tiga variabel bertipe float, yaitu bilangan desimal. Nilai x = 1.10, y = 1.0, dan z = -35.59 semuanya memiliki tanda titik desimal, sehingga Python mengenalinya sebagai tipe float. Saat diperiksa dengan type(), hasilnya menunjukkan <class 'float'> untuk ketiganya."
   ]
  },
  {
   "cell_type": "code",
   "execution_count": null,
   "id": "9558651d-63a5-4256-a512-93ac7cf9035c",
   "metadata": {},
   "outputs": [
    {
     "name": "stdout",
     "output_type": "stream",
     "text": [
      "<class 'float'>\n",
      "<class 'float'>\n",
      "<class 'float'>\n"
     ]
    }
   ],
   "source": [
    "x = 35e3\n",
    "y = 12E4\n",
    "z = -87.7e100\n",
    "\n",
    "print(type(x))\n",
    "print(type(y))\n",
    "print(type(z))"
   ]
  },
  {
   "cell_type": "markdown",
   "id": "b6568340-699b-466d-b188-0c3081713a87",
   "metadata": {},
   "source": [
    "### Analisis\n",
    "\n",
    "Kode tersebut menggunakan notasi ilmiah (scientific notation) untuk menulis angka dalam bentuk eksponensial. Nilai 35e3 berarti \n",
    "35\n",
    "×\n",
    "10\n",
    "3\n",
    "35×10\n",
    "3\n",
    " atau 35000, 12E4 berarti \n",
    "12\n",
    "×\n",
    "10\n",
    "4\n",
    "12×10\n",
    "4\n",
    " atau 120000, dan -87.7e100 berarti \n",
    "−\n",
    "87.7\n",
    "×\n",
    "10\n",
    "100\n",
    "−87.7×10\n",
    "100\n",
    ". Ketiganya bertipe float, karena notasi eksponensial selalu menghasilkan bilangan desimal dalam Python."
   ]
  },
  {
   "cell_type": "markdown",
   "id": "df7cf0f3-ad68-456e-b9ce-196ec524c04c",
   "metadata": {},
   "source": [
    "## Complex"
   ]
  },
  {
   "cell_type": "code",
   "execution_count": null,
   "id": "cd6e5bac-e03a-42ef-a516-2606fe3ee21f",
   "metadata": {},
   "outputs": [
    {
     "name": "stdout",
     "output_type": "stream",
     "text": [
      "<class 'complex'>\n",
      "<class 'complex'>\n",
      "<class 'complex'>\n"
     ]
    }
   ],
   "source": [
    "x = 3+5j\n",
    "y = 5j\n",
    "z = -5j\n",
    "\n",
    "print(type(x))\n",
    "print(type(y))\n",
    "print(type(z))"
   ]
  },
  {
   "cell_type": "markdown",
   "id": "e7eb5060-13d6-4b4d-bcbe-d2ff1e78a595",
   "metadata": {},
   "source": [
    "### Analisis\n",
    "\n",
    "Kode tersebut menunjukkan penggunaan bilangan kompleks dalam Python. Variabel x = 3+5j memiliki bagian real 3 dan imajiner 5, sedangkan y = 5j hanya memiliki bagian imajiner positif, dan z = -5j bagian imajiner negatif. Saat diperiksa dengan type(), ketiganya bertipe complex, ditampilkan sebagai <class 'complex'>."
   ]
  },
  {
   "cell_type": "markdown",
   "id": "08925a08-2b35-44a2-ab76-9206a49122c6",
   "metadata": {},
   "source": [
    "## Type Conversion"
   ]
  },
  {
   "cell_type": "code",
   "execution_count": null,
   "id": "9cad5187-e69d-4f78-8af8-a34695050247",
   "metadata": {},
   "outputs": [
    {
     "name": "stdout",
     "output_type": "stream",
     "text": [
      "1.0\n",
      "2\n",
      "(1+0j)\n",
      "<class 'float'>\n",
      "<class 'int'>\n",
      "<class 'complex'>\n"
     ]
    }
   ],
   "source": [
    "x = 1    # int\n",
    "y = 2.8  # float\n",
    "z = 1j   # complex\n",
    "\n",
    "#convert from int to float:\n",
    "a = float(x)\n",
    "\n",
    "#convert from float to int:\n",
    "b = int(y)\n",
    "\n",
    "#convert from int to complex:\n",
    "c = complex(x)\n",
    "\n",
    "print(a)\n",
    "print(b)\n",
    "print(c)\n",
    "\n",
    "print(type(a))\n",
    "print(type(b))\n",
    "print(type(c))"
   ]
  },
  {
   "cell_type": "markdown",
   "id": "10135ba5-7169-492c-be85-e3bd8efdf577",
   "metadata": {},
   "source": [
    "### Analisis\n",
    "\n",
    "Kode tersebut menunjukkan proses konversi tipe data numerik di Python. Variabel x, y, dan z masing-masing bertipe int, float, dan complex. Nilai x dikonversi menjadi float (a = float(x)), y dikonversi menjadi int (b = int(y)), dan x dikonversi menjadi complex (c = complex(x)). Hasil cetak menampilkan nilai 1.0, 2, dan (1+0j) beserta tipe datanya: float, int, dan complex. Ini menunjukkan bahwa Python dapat dengan mudah mengubah tipe angka sesuai kebutuhan perhitungan."
   ]
  },
  {
   "cell_type": "markdown",
   "id": "19b46abe-903f-45ee-9d0b-e0f17d1e4d77",
   "metadata": {},
   "source": [
    "## Random Number"
   ]
  },
  {
   "cell_type": "code",
   "execution_count": null,
   "id": "991cde9b-2bae-4c05-a5e3-fb71d61172a3",
   "metadata": {},
   "outputs": [
    {
     "name": "stdout",
     "output_type": "stream",
     "text": [
      "4\n"
     ]
    }
   ],
   "source": [
    "import random\n",
    "\n",
    "print(random.randrange(1, 10))"
   ]
  },
  {
   "cell_type": "markdown",
   "id": "2cf7033f-6a12-4f76-b2f3-65bede176d1b",
   "metadata": {},
   "source": [
    "### Analisis \n",
    "\n",
    "Kode tersebut menggunakan modul random untuk menghasilkan angka acak. Fungsi random.randrange(1, 10) akan menampilkan bilangan bulat acak dari 1 hingga 9 (batas atas 10 tidak termasuk). Setiap kali program dijalankan, hasilnya bisa berbeda karena dipilih secara acak oleh Python."
   ]
  },
  {
   "cell_type": "markdown",
   "id": "a171770f-7e28-48a8-972d-1f1ca63e02f3",
   "metadata": {},
   "source": [
    "## Python Casting"
   ]
  },
  {
   "cell_type": "code",
   "execution_count": null,
   "id": "0ca5dee6-783c-4a63-8973-63f625a1bbf6",
   "metadata": {},
   "outputs": [],
   "source": [
    "x = int(1)   # x will be 1\n",
    "y = int(2.8) # y will be 2\n",
    "z = int(\"3\") # z will be 3"
   ]
  },
  {
   "cell_type": "markdown",
   "id": "5b560cb2-3c2c-4bf0-8f34-e6a7b8f16a99",
   "metadata": {},
   "source": [
    "### Analisis\n",
    "\n",
    "Kode tersebut menunjukkan penggunaan fungsi int() untuk mengonversi berbagai tipe data menjadi bilangan bulat. Nilai 1 tetap menjadi 1, nilai 2.8 diubah menjadi 2 (bagian desimal dibuang), dan string \"3\" dikonversi menjadi angka 3. Fungsi ini berguna untuk memastikan data bertipe integer sebelum digunakan dalam perhitungan."
   ]
  },
  {
   "cell_type": "code",
   "execution_count": null,
   "id": "0e025b85-5c4d-47ce-ac9e-2f524998a637",
   "metadata": {},
   "outputs": [],
   "source": [
    "x = float(1)     # x will be 1.0\n",
    "y = float(2.8)   # y will be 2.8\n",
    "z = float(\"3\")   # z will be 3.0\n",
    "w = float(\"4.2\") # w will be 4.2"
   ]
  },
  {
   "cell_type": "markdown",
   "id": "f75552da-4456-4c8b-8449-0e3cc0009c59",
   "metadata": {},
   "source": [
    "### Analisis\n",
    "\n",
    "Kode tersebut menggunakan fungsi float() untuk mengonversi nilai menjadi bilangan desimal. Nilai 1 menjadi 1.0, 2.8 tetap 2.8, string \"3\" diubah menjadi 3.0, dan string \"4.2\" menjadi 4.2. Fungsi ini berguna untuk memastikan data bertipe float agar dapat digunakan dalam perhitungan desimal di Python."
   ]
  },
  {
   "cell_type": "code",
   "execution_count": null,
   "id": "35d453c7-9a0f-4daa-a7b0-76cee5672d02",
   "metadata": {},
   "outputs": [],
   "source": [
    "x = str(\"s1\") # x will be 's1'\n",
    "y = str(2)    # y will be '2'\n",
    "z = str(3.0)  # z will be '3.0'"
   ]
  },
  {
   "cell_type": "markdown",
   "id": "0fbb44dc-d603-4698-8a2f-c03165cf4a2e",
   "metadata": {},
   "source": [
    "### Analisis\n",
    "\n",
    "Kode tersebut menggunakan fungsi str() untuk mengonversi berbagai tipe data menjadi string (teks). Nilai \"s1\" tetap menjadi 's1', angka 2 diubah menjadi '2', dan angka desimal 3.0 menjadi '3.0'. Dengan demikian, semua variabel (x, y, dan z) bertipe string dan bisa digunakan untuk operasi berbasis teks."
   ]
  },
  {
   "cell_type": "markdown",
   "id": "890f2e4b-a48e-4962-8f22-e06735556017",
   "metadata": {},
   "source": [
    "## Strings"
   ]
  },
  {
   "cell_type": "code",
   "execution_count": null,
   "id": "52955a98-a664-4e6a-8e5c-24d3dc33fdf0",
   "metadata": {},
   "outputs": [
    {
     "name": "stdout",
     "output_type": "stream",
     "text": [
      "Hello\n",
      "Hello\n"
     ]
    }
   ],
   "source": [
    "print(\"Hello\")\n",
    "print('Hello')"
   ]
  },
  {
   "cell_type": "markdown",
   "id": "7f0fae43-73c5-4aa4-bc55-716afc41cbaf",
   "metadata": {},
   "source": [
    "### Analisis\n",
    "\n",
    "Kode tersebut menampilkan teks \"Hello\" ke layar. Python mengizinkan penggunaan tanda kutip tunggal (' ') maupun ganda (\" \") untuk membuat string, dan keduanya menghasilkan output yang sama. Jadi, kedua baris kode mencetak Hello tanpa perbedaan."
   ]
  },
  {
   "cell_type": "markdown",
   "id": "be71f712-9aa5-43d5-93da-dcceced75d26",
   "metadata": {},
   "source": [
    "## Quotes Inside Quotes"
   ]
  },
  {
   "cell_type": "code",
   "execution_count": null,
   "id": "b66728b2-8caa-401c-94f1-f29330440197",
   "metadata": {},
   "outputs": [
    {
     "name": "stdout",
     "output_type": "stream",
     "text": [
      "It's alright\n",
      "He is called 'Johnny'\n",
      "He is called \"Johnny\"\n"
     ]
    }
   ],
   "source": [
    "print(\"It's alright\")\n",
    "print(\"He is called 'Johnny'\")\n",
    "print('He is called \"Johnny\"')"
   ]
  },
  {
   "cell_type": "markdown",
   "id": "41cf8f47-2294-4df6-9bd6-b1574b449d55",
   "metadata": {},
   "source": [
    "### Analisis\n",
    "\n",
    "Kode tersebut menunjukkan cara menulis string yang berisi tanda kutip di dalamnya. Pada baris pertama, kutip ganda digunakan agar tanda ' pada kata It's tidak menimbulkan error. Baris kedua menampilkan teks dengan kutip tunggal di dalam string, sedangkan baris ketiga menggunakan kutip tunggal di luar dan kutip ganda di dalam."
   ]
  },
  {
   "cell_type": "markdown",
   "id": "0ab908f4-3643-4dfb-9591-faa5a43deb96",
   "metadata": {},
   "source": [
    "## Assign String to a Variable"
   ]
  },
  {
   "cell_type": "code",
   "execution_count": null,
   "id": "827b7f33-623f-4274-a38a-c01088941a92",
   "metadata": {},
   "outputs": [
    {
     "name": "stdout",
     "output_type": "stream",
     "text": [
      "Hello\n"
     ]
    }
   ],
   "source": [
    "a = \"Hello\"\n",
    "print(a)"
   ]
  },
  {
   "cell_type": "markdown",
   "id": "7692b547-0dd6-4a36-9d6a-4b2243e714db",
   "metadata": {},
   "source": [
    "### Analisis\n",
    "\n",
    "Kode tersebut mendefinisikan variabel a dengan nilai string \"Hello\", lalu mencetak isinya menggunakan print(a). Hasil outputnya adalah Hello, yang menunjukkan cara sederhana menampilkan teks yang disimpan dalam variabel di Python."
   ]
  },
  {
   "cell_type": "markdown",
   "id": "9eab75c9-2279-4847-87a6-3e87d9ff650c",
   "metadata": {},
   "source": [
    "## Multiline Strings"
   ]
  },
  {
   "cell_type": "code",
   "execution_count": null,
   "id": "d3b1b650-e04e-42c1-8f5f-76b3104302e6",
   "metadata": {},
   "outputs": [
    {
     "name": "stdout",
     "output_type": "stream",
     "text": [
      "Lorem ipsum dolor sit amet,\n",
      "consectetur adipiscing elit,\n",
      "sed do eiusmod tempor incididunt\n",
      "ut labore et dolore magna aliqua.\n"
     ]
    }
   ],
   "source": [
    "a = \"\"\"Lorem ipsum dolor sit amet,\n",
    "consectetur adipiscing elit,\n",
    "sed do eiusmod tempor incididunt\n",
    "ut labore et dolore magna aliqua.\"\"\"\n",
    "print(a)"
   ]
  },
  {
   "cell_type": "markdown",
   "id": "07b91da3-22b2-4699-bc54-c24a3709d381",
   "metadata": {},
   "source": [
    "### Analisis\n",
    "\n",
    "Kode tersebut menunjukkan penggunaan tanda kutip tiga (\"\"\" ... \"\"\") untuk membuat string multi-baris di Python. Dengan cara ini, teks dapat ditulis dalam beberapa baris tanpa perlu tanda \\n. Variabel a menyimpan paragraf panjang, dan print(a) menampilkan seluruh isi teks sesuai dengan format baris aslinya."
   ]
  },
  {
   "cell_type": "code",
   "execution_count": null,
   "id": "0974e85a-3089-408c-a0d2-643f94f879a2",
   "metadata": {},
   "outputs": [
    {
     "name": "stdout",
     "output_type": "stream",
     "text": [
      "Lorem ipsum dolor sit amet,\n",
      "consectetur adipiscing elit,\n",
      "sed do eiusmod tempor incididunt\n",
      "ut labore et dolore magna aliqua.\n"
     ]
    }
   ],
   "source": [
    "a = '''Lorem ipsum dolor sit amet,\n",
    "consectetur adipiscing elit,\n",
    "sed do eiusmod tempor incididunt\n",
    "ut labore et dolore magna aliqua.'''\n",
    "print(a)"
   ]
  },
  {
   "cell_type": "markdown",
   "id": "236d1f5f-d336-4d90-9897-dd2391b73e36",
   "metadata": {},
   "source": [
    "### Analisis\n",
    "\n",
    "Kode tersebut menggunakan tanda kutip tiga tunggal (''' ... ''') untuk membuat string multi-baris. Dengan cara ini, teks dapat ditulis dan disimpan dalam beberapa baris tanpa karakter khusus. Variabel a menyimpan paragraf teks, dan perintah print(a) menampilkan isi teks tersebut sesuai susunan baris aslinya."
   ]
  },
  {
   "cell_type": "markdown",
   "id": "0abc3b7e-d0ab-45cc-ab8f-2312cb515263",
   "metadata": {},
   "source": [
    "## Strings are Arrays"
   ]
  },
  {
   "cell_type": "code",
   "execution_count": null,
   "id": "103c7906-d836-4bbb-85e1-eec87c2f3cbf",
   "metadata": {},
   "outputs": [
    {
     "name": "stdout",
     "output_type": "stream",
     "text": [
      "e\n"
     ]
    }
   ],
   "source": [
    "a = \"Hello, World!\"\n",
    "print(a[1])"
   ]
  },
  {
   "cell_type": "markdown",
   "id": "f91f184d-d9a1-4787-a944-5aedfe5962c2",
   "metadata": {},
   "source": [
    "### Analisis\n",
    "\n",
    "Kode tersebut menampilkan karakter tertentu dari sebuah string menggunakan indeks. Variabel a berisi teks \"Hello, World!\", dan a[1] mengambil karakter pada posisi indeks ke-1 (karakter kedua, karena indeks dimulai dari 0). Hasilnya, program mencetak huruf ‘e’."
   ]
  },
  {
   "cell_type": "markdown",
   "id": "1d4e0e3b-8f49-45d4-955b-4f8be978e5ca",
   "metadata": {},
   "source": [
    "## Looping Through a String"
   ]
  },
  {
   "cell_type": "code",
   "execution_count": null,
   "id": "43b94ec9-ddf8-445b-b7d7-14d7be5dec03",
   "metadata": {},
   "outputs": [
    {
     "name": "stdout",
     "output_type": "stream",
     "text": [
      "b\n",
      "a\n",
      "n\n",
      "a\n",
      "n\n",
      "a\n"
     ]
    }
   ],
   "source": [
    "for x in \"banana\":\n",
    "  print(x)"
   ]
  },
  {
   "cell_type": "markdown",
   "id": "26ffdbcb-ceb7-4472-8df0-310c1212122c",
   "metadata": {},
   "source": [
    "### Analisis\n",
    "\n",
    "Kode tersebut menggunakan perulangan for untuk menelusuri setiap karakter dalam string \"banana\". Pada setiap iterasi, variabel x menyimpan satu huruf dari kata tersebut, lalu mencetaknya. Hasilnya, huruf b, a, n, a, n, a ditampilkan secara vertikal, satu per baris."
   ]
  },
  {
   "cell_type": "markdown",
   "id": "7fc3b6bd-52dc-4068-a917-5744615da140",
   "metadata": {},
   "source": [
    "## String Length"
   ]
  },
  {
   "cell_type": "code",
   "execution_count": null,
   "id": "754fd52d-f554-42a0-9edc-6ba8bb0048e7",
   "metadata": {},
   "outputs": [
    {
     "name": "stdout",
     "output_type": "stream",
     "text": [
      "13\n"
     ]
    }
   ],
   "source": [
    "a = \"Hello, World!\"\n",
    "print(len(a))"
   ]
  },
  {
   "cell_type": "markdown",
   "id": "1e12e998-bcde-423e-8254-337153e379c0",
   "metadata": {},
   "source": [
    "### Analisis\n",
    "\n",
    "Kode tersebut menggunakan fungsi len() untuk menghitung jumlah karakter dalam string. Variabel a berisi teks \"Hello, World!\", dan len(a) menghitung semua huruf, spasi, tanda koma, serta tanda seru. Hasilnya adalah 13, yang menunjukkan panjang total string tersebut."
   ]
  },
  {
   "cell_type": "markdown",
   "id": "283e578c-2f52-4fbf-8a77-8f17b8a3d764",
   "metadata": {},
   "source": [
    "## Check String"
   ]
  },
  {
   "cell_type": "code",
   "execution_count": null,
   "id": "57423720-a8e3-46bf-b3b9-6fc6e0061d9f",
   "metadata": {},
   "outputs": [
    {
     "name": "stdout",
     "output_type": "stream",
     "text": [
      "True\n"
     ]
    }
   ],
   "source": [
    "txt = \"The best things in life are free!\"\n",
    "print(\"free\" in txt)"
   ]
  },
  {
   "cell_type": "markdown",
   "id": "b59ff152-832f-4a11-948b-94a3b538235f",
   "metadata": {},
   "source": [
    "### Analisis\n",
    "\n",
    "Kode tersebut memeriksa apakah kata \"free\" terdapat di dalam string txt. Operator in digunakan untuk mengecek keberadaan substring. Karena kata \"free\" memang ada dalam teks \"The best things in life are free!\", hasil dari print(\"free\" in txt) adalah True."
   ]
  },
  {
   "cell_type": "code",
   "execution_count": null,
   "id": "9312cf95-6913-4af8-aef7-546cc1f87d8b",
   "metadata": {},
   "outputs": [
    {
     "name": "stdout",
     "output_type": "stream",
     "text": [
      "Yes, 'free' is present.\n"
     ]
    }
   ],
   "source": [
    "txt = \"The best things in life are free!\"\n",
    "if \"free\" in txt:\n",
    "  print(\"Yes, 'free' is present.\")"
   ]
  },
  {
   "cell_type": "markdown",
   "id": "e828dc93-6d01-4d91-9290-6645248c2d70",
   "metadata": {},
   "source": [
    "### Analisis\n",
    "\n",
    "Kode tersebut menggunakan operator in dalam pernyataan if untuk memeriksa apakah kata \"free\" ada di dalam string txt. Karena \"free\" memang terdapat dalam teks \"The best things in life are free!\", kondisi bernilai True, sehingga program mengeksekusi perintah di dalam blok if dan mencetak Yes, 'free' is present."
   ]
  },
  {
   "cell_type": "markdown",
   "id": "4bca3bcd-dfa0-4c31-81e9-2d0fe411df11",
   "metadata": {},
   "source": [
    "## Check if NOT"
   ]
  },
  {
   "cell_type": "code",
   "execution_count": null,
   "id": "56519d89-71f9-4ec1-9c98-b35668966ae1",
   "metadata": {},
   "outputs": [
    {
     "name": "stdout",
     "output_type": "stream",
     "text": [
      "True\n"
     ]
    }
   ],
   "source": [
    "txt = \"The best things in life are free!\"\n",
    "print(\"expensive\" not in txt)"
   ]
  },
  {
   "cell_type": "markdown",
   "id": "33c3b445-701a-4e4e-977f-fd9db32ffdc5",
   "metadata": {},
   "source": [
    "### Analisis\n",
    "\n",
    "Kode tersebut menggunakan operator not in untuk memeriksa apakah kata \"expensive\" tidak terdapat di dalam string txt. Karena teks \"The best things in life are free!\" tidak mengandung kata \"expensive\", maka hasil dari print(\"expensive\" not in txt) adalah True."
   ]
  },
  {
   "cell_type": "code",
   "execution_count": null,
   "id": "7ad71fd5-cdd1-4fd4-a5c5-2ae6446a8491",
   "metadata": {},
   "outputs": [
    {
     "name": "stdout",
     "output_type": "stream",
     "text": [
      "No, 'expensive' is NOT present.\n"
     ]
    }
   ],
   "source": [
    "txt = \"The best things in life are free!\"\n",
    "if \"expensive\" not in txt:\n",
    "  print(\"No, 'expensive' is NOT present.\")"
   ]
  },
  {
   "cell_type": "markdown",
   "id": "57ba8253-8ad9-4d53-b7b5-802fe0d975b0",
   "metadata": {},
   "source": [
    "### Analisis\n",
    "\n",
    "Kode tersebut menggunakan operator not in dalam pernyataan if untuk memeriksa apakah kata \"expensive\" tidak ada di dalam string txt. Karena teks \"The best things in life are free!\" memang tidak mengandung kata tersebut, kondisi bernilai True, sehingga program menampilkan output No, 'expensive' is NOT present."
   ]
  },
  {
   "cell_type": "markdown",
   "id": "d16aa3b4-8dbe-4617-822e-02127d5b4d9c",
   "metadata": {},
   "source": [
    "## Slicing"
   ]
  },
  {
   "cell_type": "code",
   "execution_count": null,
   "id": "1f1d36f7-a2f5-47a9-9109-228478a24aa7",
   "metadata": {},
   "outputs": [
    {
     "name": "stdout",
     "output_type": "stream",
     "text": [
      "llo\n"
     ]
    }
   ],
   "source": [
    "b = \"Hello, World!\"\n",
    "print(b[2:5])"
   ]
  },
  {
   "cell_type": "markdown",
   "id": "68c2efdb-eb24-46f5-bbf3-9567ebaf7d2f",
   "metadata": {},
   "source": [
    "### Analisis\n",
    "\n",
    "Kode ini menyimpan string \"Hello, World!\" ke dalam variabel b, lalu menggunakan slicing b[2:5] untuk mengambil sebagian karakter dari indeks 2 sampai sebelum indeks 5. Karakter yang diambil adalah 'l', 'l', dan 'o', sehingga saat dicetak, hasilnya adalah \"llo\"."
   ]
  },
  {
   "cell_type": "markdown",
   "id": "09f52543-00db-4844-952b-55639d7d4417",
   "metadata": {},
   "source": [
    "## Slice From the Start"
   ]
  },
  {
   "cell_type": "code",
   "execution_count": null,
   "id": "087c8303-d26d-4851-bc14-0cd21dbfc715",
   "metadata": {},
   "outputs": [
    {
     "name": "stdout",
     "output_type": "stream",
     "text": [
      "Hello\n"
     ]
    }
   ],
   "source": [
    "b = \"Hello, World!\"\n",
    "print(b[:5])"
   ]
  },
  {
   "cell_type": "markdown",
   "id": "fb29219e-d5e8-46c6-8b3b-ecaeef281eb2",
   "metadata": {},
   "source": [
    "### Analisis\n",
    "\n",
    "Kode ini menyimpan string \"Hello, World!\" ke dalam variabel b, kemudian menggunakan slicing b[:5] untuk mengambil karakter dari awal string hingga sebelum indeks 5. Karakter yang diambil adalah 'H', 'e', 'l', 'l', dan 'o', sehingga saat dicetak, hasilnya adalah \"Hello\"."
   ]
  },
  {
   "cell_type": "markdown",
   "id": "f4752c41-65b2-43f9-b753-28f27b9ff0b1",
   "metadata": {},
   "source": [
    "## Slice To the End"
   ]
  },
  {
   "cell_type": "code",
   "execution_count": null,
   "id": "2437041d-0312-438d-973f-4a9cd3b2f763",
   "metadata": {},
   "outputs": [
    {
     "name": "stdout",
     "output_type": "stream",
     "text": [
      "llo, World!\n"
     ]
    }
   ],
   "source": [
    "b = \"Hello, World!\"\n",
    "print(b[2:])"
   ]
  },
  {
   "cell_type": "markdown",
   "id": "411bae92-48b7-4f3e-b362-d3d6cd18828c",
   "metadata": {},
   "source": [
    "### Analisis\n",
    "\n",
    "Kode ini menyimpan string \"Hello, World!\" ke dalam variabel b, lalu menggunakan slicing b[2:] untuk mengambil karakter mulai dari indeks 2 sampai akhir string. Karakter yang diambil dimulai dari 'l' (indeks 2) hingga '!', sehingga saat dicetak, hasilnya adalah \"llo, World!\"."
   ]
  },
  {
   "cell_type": "markdown",
   "id": "6bde48a9-2d00-4c56-bb08-61658768d5f9",
   "metadata": {},
   "source": [
    "## Negative Indexing"
   ]
  },
  {
   "cell_type": "code",
   "execution_count": null,
   "id": "8209c0df-fc34-4129-a2b1-a9ed1b3811f1",
   "metadata": {},
   "outputs": [
    {
     "name": "stdout",
     "output_type": "stream",
     "text": [
      "orl\n"
     ]
    }
   ],
   "source": [
    "b = \"Hello, World!\"\n",
    "print(b[-5:-2])"
   ]
  },
  {
   "cell_type": "markdown",
   "id": "50eb3960-46c1-4c55-b69f-f12f2bef0b71",
   "metadata": {},
   "source": [
    "### Analisis\n",
    "\n",
    "Kode ini menyimpan string \"Hello, World!\" ke dalam variabel b, kemudian menggunakan slicing b[-5:-2] untuk mengambil karakter dari indeks negatif -5 sampai sebelum -2. Dengan menghitung dari akhir string, karakter yang diambil adalah 'o', 'r', dan 'l', sehingga saat dicetak, hasilnya adalah \"orl\"."
   ]
  },
  {
   "cell_type": "markdown",
   "id": "7e93d43e-1863-44aa-8f87-12721b840deb",
   "metadata": {},
   "source": [
    "## Upper Case"
   ]
  },
  {
   "cell_type": "code",
   "execution_count": null,
   "id": "c76103b5-8a1b-4022-b02d-59c50b21be6b",
   "metadata": {},
   "outputs": [
    {
     "name": "stdout",
     "output_type": "stream",
     "text": [
      "HELLO, WORLD!\n"
     ]
    }
   ],
   "source": [
    "a = \"Hello, World!\"\n",
    "print(a.upper())"
   ]
  },
  {
   "cell_type": "markdown",
   "id": "f5df88cd-bd02-431e-8d0e-c9e2eddcfafe",
   "metadata": {},
   "source": [
    "### Analisis\n",
    "\n",
    "Kode ini menyimpan string \"Hello, World!\" ke dalam variabel a, kemudian menggunakan metode upper() untuk mengubah semua huruf dalam string menjadi huruf kapital. Hasilnya adalah string \"HELLO, WORLD!\", yang kemudian dicetak ke layar."
   ]
  },
  {
   "cell_type": "markdown",
   "id": "995779d3-d87b-4a0b-be5f-fa1a4b1ab2d9",
   "metadata": {},
   "source": [
    "## Lower Case"
   ]
  },
  {
   "cell_type": "code",
   "execution_count": null,
   "id": "a428c6c7-ef22-451e-b42d-04b286ace7a1",
   "metadata": {},
   "outputs": [
    {
     "name": "stdout",
     "output_type": "stream",
     "text": [
      "hello, world!\n"
     ]
    }
   ],
   "source": [
    "a = \"Hello, World!\"\n",
    "print(a.lower())"
   ]
  },
  {
   "cell_type": "markdown",
   "id": "a75a229b-446c-4098-8079-08266f7e023a",
   "metadata": {},
   "source": [
    "### Analisis\n",
    "\n",
    "Kode ini menyimpan string \"Hello, World!\" ke dalam variabel a, kemudian menggunakan metode lower() untuk mengubah semua huruf dalam string menjadi huruf kecil. Hasilnya adalah \"hello, world!\", yang kemudian dicetak ke layar."
   ]
  },
  {
   "cell_type": "markdown",
   "id": "5d9a1f8a-e01f-485b-a2be-5ec9c8510112",
   "metadata": {},
   "source": [
    "## Remove Whitespace"
   ]
  },
  {
   "cell_type": "code",
   "execution_count": null,
   "id": "d2a7d4cb-dbe1-4e12-abd1-28824f45cce8",
   "metadata": {},
   "outputs": [
    {
     "name": "stdout",
     "output_type": "stream",
     "text": [
      "Hello, World!\n"
     ]
    }
   ],
   "source": [
    "a = \" Hello, World! \"\n",
    "print(a.strip()) # returns \"Hello, World!\""
   ]
  },
  {
   "cell_type": "markdown",
   "id": "3290666b-dafb-4a29-90ef-ffeea3143f9c",
   "metadata": {},
   "source": [
    "### Analisis\n",
    "\n",
    "Kode ini menyimpan string \" Hello, World! \" ke dalam variabel a, yang memiliki spasi di awal dan akhir. Metode strip() digunakan untuk menghapus spasi kosong di kedua ujung string tanpa mengubah spasi di tengah. Hasilnya adalah \"Hello, World!\", yang kemudian dicetak ke layar."
   ]
  },
  {
   "cell_type": "markdown",
   "id": "9871b7f6-b1b6-4972-bcd8-4ebe5952bc2f",
   "metadata": {},
   "source": [
    "## Replace String"
   ]
  },
  {
   "cell_type": "code",
   "execution_count": null,
   "id": "895e2d6e-08e6-47e6-b5d3-a6ed781b1ace",
   "metadata": {},
   "outputs": [
    {
     "name": "stdout",
     "output_type": "stream",
     "text": [
      "Jello, World!\n"
     ]
    }
   ],
   "source": [
    "a = \"Hello, World!\"\n",
    "print(a.replace(\"H\", \"J\"))\n"
   ]
  },
  {
   "cell_type": "markdown",
   "id": "a8d79717-0a14-47c8-8759-7e20b455b9c1",
   "metadata": {},
   "source": [
    "### Analisis\n",
    "\n",
    "Kode ini menyimpan string \"Hello, World!\" ke dalam variabel a, kemudian menggunakan metode replace(\"H\", \"J\") untuk mengganti semua kemunculan huruf \"H\" dengan huruf \"J\". Hasilnya adalah \"Jello, World!\", yang kemudian dicetak ke layar."
   ]
  },
  {
   "cell_type": "markdown",
   "id": "bbfbfe21-7880-4120-bc4b-1e9023dc811e",
   "metadata": {},
   "source": [
    "## Split String"
   ]
  },
  {
   "cell_type": "code",
   "execution_count": null,
   "id": "12ff44af-0098-41ce-90b5-7387fe2de696",
   "metadata": {},
   "outputs": [
    {
     "name": "stdout",
     "output_type": "stream",
     "text": [
      "['Hello', ' World!']\n"
     ]
    }
   ],
   "source": [
    "a = \"Hello, World!\"\n",
    "print(a.split(\",\")) # returns ['Hello', ' World!']\n"
   ]
  },
  {
   "cell_type": "markdown",
   "id": "3e6bee37-fa9c-4dc5-a331-8ae61d07fcde",
   "metadata": {},
   "source": [
    "### Analisis\n",
    "\n",
    "Kode ini menyimpan string \"Hello, World!\" ke dalam variabel a, kemudian menggunakan metode split(\",\") untuk memisahkan string menjadi daftar (list) berdasarkan pemisah koma ,. String akan dipecah di setiap koma, sehingga hasilnya adalah list ['Hello', ' World!'], yang kemudian dicetak ke layar."
   ]
  },
  {
   "cell_type": "markdown",
   "id": "dbe35813-6c08-4b49-adad-45e2d4b27811",
   "metadata": {},
   "source": [
    "## String Concatenation"
   ]
  },
  {
   "cell_type": "code",
   "execution_count": null,
   "id": "9a1ad7db-a265-4ed4-802b-4c12bf8a7f22",
   "metadata": {},
   "outputs": [
    {
     "name": "stdout",
     "output_type": "stream",
     "text": [
      "HelloWorld\n"
     ]
    }
   ],
   "source": [
    "a = \"Hello\"\n",
    "b = \"World\"\n",
    "c = a + b\n",
    "print(c)"
   ]
  },
  {
   "cell_type": "markdown",
   "id": "28d61dee-f8b2-4992-ba35-ca707dac8999",
   "metadata": {},
   "source": [
    "### Analisis\n",
    "\n",
    "Kode ini menyimpan string \"Hello\" ke dalam variabel a dan \"World\" ke dalam variabel b, kemudian menggunakan operator + untuk menggabungkan kedua string menjadi satu string baru c. Hasil penggabungan adalah \"HelloWorld\", yang kemudian dicetak ke layar."
   ]
  },
  {
   "cell_type": "code",
   "execution_count": null,
   "id": "242c3eb5-ed81-47d2-8512-a42bd4a38e43",
   "metadata": {},
   "outputs": [
    {
     "name": "stdout",
     "output_type": "stream",
     "text": [
      "Hello World\n"
     ]
    }
   ],
   "source": [
    "a = \"Hello\"\n",
    "b = \"World\"\n",
    "c = a + \" \" + b\n",
    "print(c)"
   ]
  },
  {
   "cell_type": "markdown",
   "id": "c99d5c82-a1db-487f-9cbd-74cbd24be4a0",
   "metadata": {},
   "source": [
    "### Analisis\n",
    "\n",
    "Kode ini menyimpan string \"Hello\" ke dalam variabel a dan \"World\" ke dalam variabel b, kemudian menggunakan operator + untuk menggabungkan a, sebuah spasi \" \", dan b menjadi satu string baru c. Hasilnya adalah \"Hello World\", yang kemudian dicetak ke layar."
   ]
  },
  {
   "cell_type": "markdown",
   "id": "998b1200-a69c-4866-a1d2-6f51cf01cd17",
   "metadata": {},
   "source": [
    "## F-Strings"
   ]
  },
  {
   "cell_type": "code",
   "execution_count": null,
   "id": "b2c05e76-9bbd-4d88-a6a7-db913bc083ad",
   "metadata": {},
   "outputs": [
    {
     "name": "stdout",
     "output_type": "stream",
     "text": [
      "My name is John, I am 36\n"
     ]
    }
   ],
   "source": [
    "age = 36\n",
    "txt = f\"My name is John, I am {age}\"\n",
    "print(txt)"
   ]
  },
  {
   "cell_type": "markdown",
   "id": "9e13a30c-54e7-4fb3-a137-b64cb58c8c0c",
   "metadata": {},
   "source": [
    "### Analisis\n",
    "\n",
    "Kode ini menyimpan angka 36 ke dalam variabel age, kemudian membuat string txt menggunakan f-string (f\"...\"). F-string memungkinkan menyisipkan nilai variabel langsung ke dalam string dengan {}. Di sini, {age} digantikan dengan 36, sehingga txt menjadi \"My name is John, I am 36\", yang kemudian dicetak ke layar."
   ]
  },
  {
   "cell_type": "markdown",
   "id": "82ee2cea-772e-4146-8b9c-66c3ce3cf355",
   "metadata": {},
   "source": [
    "## Placeholders and Modifiers"
   ]
  },
  {
   "cell_type": "code",
   "execution_count": null,
   "id": "2231f8cc-442b-4356-a9eb-6895325b3ba2",
   "metadata": {},
   "outputs": [
    {
     "name": "stdout",
     "output_type": "stream",
     "text": [
      "The price is 59 dollars\n"
     ]
    }
   ],
   "source": [
    "price = 59\n",
    "txt = f\"The price is {price} dollars\"\n",
    "print(txt)"
   ]
  },
  {
   "cell_type": "markdown",
   "id": "71627cb7-3a25-4d0e-892d-949595fa654b",
   "metadata": {},
   "source": [
    "### Analisis\n",
    "\n",
    "Kode ini menyimpan angka 59 ke dalam variabel price, kemudian membuat string txt menggunakan f-string (f\"...\"). F-string memungkinkan memasukkan nilai variabel langsung ke dalam string menggunakan {}. Di sini, {price} digantikan dengan 59, sehingga txt menjadi \"The price is 59 dollars\", yang kemudian dicetak ke layar."
   ]
  },
  {
   "cell_type": "code",
   "execution_count": null,
   "id": "87f0bfc8-7af7-468e-af82-8708ba84a73a",
   "metadata": {},
   "outputs": [
    {
     "name": "stdout",
     "output_type": "stream",
     "text": [
      "The price is 59.00 dollars\n"
     ]
    }
   ],
   "source": [
    "price = 59\n",
    "txt = f\"The price is {price:.2f} dollars\"\n",
    "print(txt)"
   ]
  },
  {
   "cell_type": "markdown",
   "id": "29159fc6-9084-4da6-8668-8f808b3d4244",
   "metadata": {},
   "source": [
    "### Analisis\n",
    "\n",
    "Kode ini menyimpan angka 59 ke dalam variabel price, kemudian membuat string txt menggunakan f-string dengan format {price:.2f}. Format .2f digunakan untuk menampilkan angka sebagai floating point dengan 2 angka di belakang koma. Meskipun price adalah bilangan bulat 59, hasil format ini menjadi 59.00. Jadi txt menjadi \"The price is 59.00 dollars\", yang kemudian dicetak ke layar."
   ]
  },
  {
   "cell_type": "code",
   "execution_count": null,
   "id": "23c1eca5-0be0-469b-88b9-f90bf11d3401",
   "metadata": {},
   "outputs": [
    {
     "name": "stdout",
     "output_type": "stream",
     "text": [
      "The price is 1180 dollars\n"
     ]
    }
   ],
   "source": [
    "txt = f\"The price is {20 * 59} dollars\"\n",
    "print(txt)"
   ]
  },
  {
   "cell_type": "markdown",
   "id": "54d47201-55c9-4c0e-82ea-0f31864710fe",
   "metadata": {},
   "source": [
    "### Analisis\n",
    "\n",
    "Kode ini menggunakan f-string untuk membuat string txt dengan menyisipkan hasil ekspresi {20 * 59} langsung ke dalam string. Python akan menghitung 20 * 59 terlebih dahulu, hasilnya 1180, lalu menyisipkannya ke dalam string. Sehingga txt menjadi \"The price is 1180 dollars\", yang kemudian dicetak ke layar."
   ]
  },
  {
   "cell_type": "markdown",
   "id": "f06c2701-0702-4c70-9783-2df9e83ae48b",
   "metadata": {},
   "source": [
    "## Escape Character"
   ]
  },
  {
   "cell_type": "code",
   "execution_count": null,
   "id": "762dde66-e194-4b63-8001-602c6bf6f468",
   "metadata": {},
   "outputs": [],
   "source": [
    "txt = \"We are the so-called \\\"Vikings\\\" from the north.\""
   ]
  },
  {
   "cell_type": "markdown",
   "id": "47f202d6-78fa-4ebf-abcc-f4dd69ad48ff",
   "metadata": {},
   "source": [
    "### Analisis\n",
    "\n",
    "Kode ini menyimpan string \"We are the so-called \\\"Vikings\\\" from the north.\" ke dalam variabel txt. Tanda backslash \\ digunakan untuk escape karakter kutip ganda di dalam string sehingga Python mengenalinya sebagai bagian dari string, bukan penutup string."
   ]
  },
  {
   "cell_type": "markdown",
   "id": "d4299086-6851-4058-8774-c77244b52918",
   "metadata": {},
   "source": [
    "## Boolean Values"
   ]
  },
  {
   "cell_type": "code",
   "execution_count": null,
   "id": "48d3b47a-90e6-480f-a64c-bdd643647583",
   "metadata": {},
   "outputs": [
    {
     "name": "stdout",
     "output_type": "stream",
     "text": [
      "True\n",
      "False\n",
      "False\n"
     ]
    }
   ],
   "source": [
    "print(10 > 9)\n",
    "print(10 == 9)\n",
    "print(10 < 9)"
   ]
  },
  {
   "cell_type": "markdown",
   "id": "b9f2703e-e233-4b6a-8346-a6520f33c6e4",
   "metadata": {},
   "source": [
    "### Analisis\n",
    "\n",
    "Kode ini melakukan perbandingan angka dan mencetak hasilnya. Pernyataan 10 > 9 mengecek apakah 10 lebih besar dari 9 dan menghasilkan True, 10 == 9 mengecek apakah 10 sama dengan 9 dan menghasilkan False, sedangkan 10 < 9 mengecek apakah 10 lebih kecil dari 9 dan juga menghasilkan False. Output yang dicetak berturut-turut adalah True, False, dan False."
   ]
  },
  {
   "cell_type": "code",
   "execution_count": null,
   "id": "d3e851e5-aec3-4cdc-8ce9-91541727b473",
   "metadata": {},
   "outputs": [
    {
     "name": "stdout",
     "output_type": "stream",
     "text": [
      "b is not greater than a\n"
     ]
    }
   ],
   "source": [
    "a = 200\n",
    "b = 33\n",
    "\n",
    "if b > a:\n",
    "  print(\"b is greater than a\")\n",
    "else:\n",
    "  print(\"b is not greater than a\")\n"
   ]
  },
  {
   "cell_type": "markdown",
   "id": "297fb2aa-a9cb-4849-89fc-717106036568",
   "metadata": {},
   "source": [
    "### Analisis\n",
    "\n",
    "Kode ini membandingkan dua variabel angka, a = 200 dan b = 33, menggunakan pernyataan if-else. Kondisi if b > a mengecek apakah b lebih besar dari a. Karena 33 tidak lebih besar dari 200, kondisi ini False, sehingga blok else dijalankan. Hasilnya, program mencetak \"b is not greater than a\"."
   ]
  },
  {
   "cell_type": "markdown",
   "id": "972f26d3-6a78-4afd-89dd-0e227305b3a7",
   "metadata": {},
   "source": [
    "## Evaluate Values and Variables"
   ]
  },
  {
   "cell_type": "code",
   "execution_count": null,
   "id": "81f43b9c-953f-48a3-81f8-3e62bc54b6d5",
   "metadata": {},
   "outputs": [
    {
     "name": "stdout",
     "output_type": "stream",
     "text": [
      "True\n",
      "True\n"
     ]
    }
   ],
   "source": [
    "print(bool(\"Hello\"))\n",
    "print(bool(15))"
   ]
  },
  {
   "cell_type": "markdown",
   "id": "5ccd764d-7006-4d46-9a33-802bab5d458d",
   "metadata": {},
   "source": [
    "### Analisis\n",
    "\n",
    "Kode ini menggunakan fungsi bool() untuk mengubah nilai menjadi tipe boolean. String \"Hello\" dianggap True karena tidak kosong, sedangkan angka 15 juga dianggap True karena bukan nol. Dengan demikian, kedua pernyataan tersebut menghasilkan output True yang dicetak ke layar."
   ]
  },
  {
   "cell_type": "code",
   "execution_count": null,
   "id": "4e9cdc4e-1ce2-4c9f-8eca-9c1d136439f3",
   "metadata": {},
   "outputs": [
    {
     "name": "stdout",
     "output_type": "stream",
     "text": [
      "True\n",
      "True\n"
     ]
    }
   ],
   "source": [
    "x = \"Hello\"\n",
    "y = 15\n",
    "\n",
    "print(bool(x))\n",
    "print(bool(y))"
   ]
  },
  {
   "cell_type": "markdown",
   "id": "cfb7a800-b8ab-494f-9f36-6e5f50887ddd",
   "metadata": {},
   "source": [
    "### Analisis\n",
    "\n",
    "Kode ini menyimpan string \"Hello\" ke dalam variabel x dan angka 15 ke dalam variabel y, kemudian menggunakan fungsi bool() untuk mengubah keduanya menjadi tipe boolean. String \"Hello\" tidak kosong, sehingga bool(x) bernilai True, sedangkan angka 15 bukan nol, sehingga bool(y) juga bernilai True. Kedua hasil ini kemudian dicetak ke layar."
   ]
  },
  {
   "cell_type": "markdown",
   "id": "574d417a-ba02-4f6d-9f8d-4ceca83ecbe9",
   "metadata": {},
   "source": [
    "## Most Values are True"
   ]
  },
  {
   "cell_type": "code",
   "execution_count": null,
   "id": "a883d781-3309-4457-93d5-8934ae80df79",
   "metadata": {},
   "outputs": [
    {
     "data": {
      "text/plain": [
       "True"
      ]
     },
     "execution_count": 91,
     "metadata": {},
     "output_type": "execute_result"
    }
   ],
   "source": [
    "bool(\"abc\")\n",
    "bool(123)\n",
    "bool([\"apple\", \"cherry\", \"banana\"])"
   ]
  },
  {
   "cell_type": "markdown",
   "id": "7e20741c-c604-4ec7-bf71-c95fb1c0bc96",
   "metadata": {},
   "source": [
    "### Analisis \n",
    "\n",
    "Kode ini menggunakan fungsi bool() untuk mengubah berbagai nilai menjadi tipe boolean. String \"abc\" dianggap True karena tidak kosong, angka 123 dianggap True karena bukan nol, dan list [\"apple\", \"cherry\", \"banana\"] juga dianggap True karena tidak kosong. Dengan demikian, ketiga pernyataan ini semua menghasilkan nilai boolean True."
   ]
  },
  {
   "cell_type": "markdown",
   "id": "0e502e8c-6122-4f71-8dd6-a9282660c8b7",
   "metadata": {},
   "source": [
    "## Some Values are False"
   ]
  },
  {
   "cell_type": "code",
   "execution_count": null,
   "id": "0cf36ffb-993b-4617-b9dc-d4ceaab6be8e",
   "metadata": {},
   "outputs": [
    {
     "data": {
      "text/plain": [
       "False"
      ]
     },
     "execution_count": 92,
     "metadata": {},
     "output_type": "execute_result"
    }
   ],
   "source": [
    "bool(False)\n",
    "bool(None)\n",
    "bool(0)\n",
    "bool(\"\")\n",
    "bool(())\n",
    "bool([])\n",
    "bool({})"
   ]
  },
  {
   "cell_type": "markdown",
   "id": "0492c473-5981-4820-83da-b93d23426c19",
   "metadata": {},
   "source": [
    "### Analisis\n",
    "\n",
    "Kode ini menggunakan fungsi bool() untuk mengubah berbagai nilai menjadi tipe boolean. Nilai-nilai seperti False, None, angka 0, string kosong \"\", tuple kosong (), list kosong [], dan dictionary kosong {} semua dianggap False dalam Python. Dengan demikian, semua pernyataan ini menghasilkan nilai boolean False."
   ]
  },
  {
   "cell_type": "code",
   "execution_count": null,
   "id": "86487236-4d77-47a9-b8e0-c1d6b38b23fa",
   "metadata": {},
   "outputs": [
    {
     "name": "stdout",
     "output_type": "stream",
     "text": [
      "False\n"
     ]
    }
   ],
   "source": [
    "class myclass():\n",
    "  def __len__(self):\n",
    "    return 0\n",
    "\n",
    "myobj = myclass()\n",
    "print(bool(myobj))"
   ]
  },
  {
   "cell_type": "markdown",
   "id": "0bfbcbd5-fcbe-4e93-9df0-de843a4f0086",
   "metadata": {},
   "source": [
    "### Analisis\n",
    "\n",
    "Kode ini mendefinisikan sebuah kelas myclass dengan metode khusus __len__() yang selalu mengembalikan 0. Setelah membuat objek myobj dari kelas ini, Python menggunakan aturan boolean untuk objek: jika objek memiliki metode __len__() yang mengembalikan 0, objek dianggap False saat dikonversi menjadi boolean. Oleh karena itu, bool(myobj) menghasilkan False dan dicetak ke layar."
   ]
  },
  {
   "cell_type": "markdown",
   "id": "7f679eeb-0aea-4b34-b168-75fcd4c30e4a",
   "metadata": {},
   "source": [
    "## Functions can Return a Boolean"
   ]
  },
  {
   "cell_type": "code",
   "execution_count": null,
   "id": "08c7982e-81e1-4998-8ced-4765ecc2d93b",
   "metadata": {},
   "outputs": [
    {
     "name": "stdout",
     "output_type": "stream",
     "text": [
      "True\n"
     ]
    }
   ],
   "source": [
    "def myFunction() :\n",
    "  return True\n",
    "\n",
    "print(myFunction())"
   ]
  },
  {
   "cell_type": "markdown",
   "id": "afea337e-52a9-4927-b429-b695f8c55127",
   "metadata": {},
   "source": [
    "### Analisis\n",
    "\n",
    "Kode ini mendefinisikan sebuah fungsi myFunction() yang selalu mengembalikan nilai True menggunakan pernyataan return True. Saat fungsi dipanggil dengan print(myFunction()), fungsi mengembalikan True, sehingga yang dicetak ke layar adalah True."
   ]
  },
  {
   "cell_type": "code",
   "execution_count": null,
   "id": "b09824be-60cb-485c-a984-f67f770b2711",
   "metadata": {},
   "outputs": [
    {
     "name": "stdout",
     "output_type": "stream",
     "text": [
      "YES!\n"
     ]
    }
   ],
   "source": [
    "def myFunction() :\n",
    "  return True\n",
    "\n",
    "if myFunction():\n",
    "  print(\"YES!\")\n",
    "else:\n",
    "  print(\"NO!\")"
   ]
  },
  {
   "cell_type": "markdown",
   "id": "15ef98f9-2ce0-431f-a5f9-f4c755b46a1b",
   "metadata": {},
   "source": [
    "### Analisis\n",
    "\n",
    "Kode ini mendefinisikan fungsi myFunction() yang selalu mengembalikan True. Pernyataan if myFunction(): memanggil fungsi tersebut dan mengevaluasi nilai kembalian. Karena fungsi mengembalikan True, blok if dijalankan, sehingga program mencetak \"YES!\" ke layar, sedangkan blok else tidak dijalankan."
   ]
  },
  {
   "cell_type": "code",
   "execution_count": null,
   "id": "6f9669ae-b532-415f-b7c8-f4729e535570",
   "metadata": {},
   "outputs": [
    {
     "name": "stdout",
     "output_type": "stream",
     "text": [
      "True\n"
     ]
    }
   ],
   "source": [
    "x = 200\n",
    "print(isinstance(x, int))"
   ]
  },
  {
   "cell_type": "markdown",
   "id": "f92c1b91-256f-4d21-a4a8-9a0f1e18f9e0",
   "metadata": {},
   "source": [
    "### Analisis\n",
    "\n",
    "Kode ini menyimpan angka 200 ke dalam variabel x, kemudian menggunakan fungsi isinstance() untuk memeriksa apakah x adalah objek dari tipe int. Karena x memang berupa bilangan bulat, isinstance(x, int) mengembalikan True, yang kemudian dicetak ke layar."
   ]
  },
  {
   "cell_type": "markdown",
   "id": "bf47d034-21b9-4f87-920c-52fe6a05fc4a",
   "metadata": {},
   "source": [
    "## Python Operators"
   ]
  },
  {
   "cell_type": "code",
   "execution_count": null,
   "id": "217b50e7-e662-477f-a257-1a98a76f0433",
   "metadata": {},
   "outputs": [
    {
     "name": "stdout",
     "output_type": "stream",
     "text": [
      "15\n"
     ]
    }
   ],
   "source": [
    "print(10 + 5)"
   ]
  },
  {
   "cell_type": "markdown",
   "id": "f5ea23e5-c52d-4d0c-bc4b-4f3116e17e0c",
   "metadata": {},
   "source": [
    "### Analisis\n",
    "\n",
    "Kode ini melakukan operasi penjumlahan antara angka 10 dan 5 menggunakan operator +. Hasil penjumlahan adalah 15, yang kemudian dicetak ke layar."
   ]
  },
  {
   "cell_type": "code",
   "execution_count": null,
   "id": "8690bb21-6d66-4652-a263-b66a3f66ab6c",
   "metadata": {},
   "outputs": [],
   "source": [
    "sum1 = 100 + 50      # 150 (100 + 50)\n",
    "sum2 = sum1 + 250    # 400 (150 + 250)\n",
    "sum3 = sum2 + sum2   # 800 (400 + 400)"
   ]
  },
  {
   "cell_type": "markdown",
   "id": "8570ff82-eebb-4e83-9785-ad53f95d2984",
   "metadata": {},
   "source": [
    "### Analisis\n",
    "\n",
    "Kode ini melakukan beberapa operasi penjumlahan bertahap dan menyimpan hasilnya ke variabel. Pertama, sum1 = 100 + 50 menghasilkan 150. Kemudian, sum2 = sum1 + 250 menambahkan 150 dengan 250 sehingga menjadi 400. Terakhir, sum3 = sum2 + sum2 menambahkan 400 dengan dirinya sendiri, menghasilkan 800. Setiap hasil disimpan untuk digunakan pada langkah berikutnya."
   ]
  },
  {
   "cell_type": "markdown",
   "id": "c95df861-f18f-4436-8fb7-4e50c284392c",
   "metadata": {},
   "source": [
    "## Arithmetic Operators"
   ]
  },
  {
   "cell_type": "code",
   "execution_count": null,
   "id": "78e7f405-6762-4d22-899f-149649f3b311",
   "metadata": {},
   "outputs": [
    {
     "name": "stdout",
     "output_type": "stream",
     "text": [
      "19\n",
      "11\n",
      "60\n",
      "3.75\n",
      "3\n",
      "50625\n",
      "3\n"
     ]
    }
   ],
   "source": [
    "x = 15\n",
    "y = 4\n",
    "\n",
    "print(x + y)\n",
    "print(x - y)\n",
    "print(x * y)\n",
    "print(x / y)\n",
    "print(x % y)\n",
    "print(x ** y)\n",
    "print(x // y)"
   ]
  },
  {
   "cell_type": "markdown",
   "id": "9a92317f-6420-4515-879c-ea688371ebf9",
   "metadata": {},
   "source": [
    "### Analisis\n",
    "\n",
    "Kode ini menyimpan angka 15 ke dalam variabel x dan 4 ke dalam variabel y, lalu melakukan berbagai operasi aritmatika. Penjumlahan x + y menghasilkan 19, pengurangan x - y menghasilkan 11, dan perkalian x * y menghasilkan 60. Pembagian biasa x / y menghasilkan 3.75, sedangkan sisa pembagian x % y menghasilkan 3. Operasi pangkat x ** y menghasilkan 50625, dan pembagian bulat x // y menghasilkan 3. Dengan demikian, kode ini menunjukkan semua operasi aritmatika dasar di Python."
   ]
  },
  {
   "cell_type": "markdown",
   "id": "c8f7f531-8e87-475b-baf0-4c07c6134131",
   "metadata": {},
   "source": [
    "## Division in Python"
   ]
  },
  {
   "cell_type": "code",
   "execution_count": null,
   "id": "ecdbedd8-d822-4425-af9a-75d55ec67928",
   "metadata": {},
   "outputs": [
    {
     "name": "stdout",
     "output_type": "stream",
     "text": [
      "2.4\n"
     ]
    }
   ],
   "source": [
    "x = 12\n",
    "y = 5\n",
    "\n",
    "print(x / y)"
   ]
  },
  {
   "cell_type": "markdown",
   "id": "f009835d-3d1f-426d-85d9-25d4f15c2d27",
   "metadata": {},
   "source": [
    "### Analisis\n",
    "\n",
    "Kode ini menyimpan angka 12 ke dalam variabel x dan 5 ke dalam variabel y, kemudian melakukan pembagian biasa menggunakan operator /. Hasil pembagian 12 ÷ 5 adalah 2.4, yang kemudian dicetak ke layar."
   ]
  },
  {
   "cell_type": "code",
   "execution_count": null,
   "id": "14b3e198-bb8a-432e-8da5-dd53cea6e347",
   "metadata": {},
   "outputs": [
    {
     "name": "stdout",
     "output_type": "stream",
     "text": [
      "2\n"
     ]
    }
   ],
   "source": [
    "x = 12\n",
    "y = 5\n",
    "\n",
    "print(x // y)"
   ]
  },
  {
   "cell_type": "markdown",
   "id": "ca517a68-5278-4b25-9e0f-eaf7b7f520b8",
   "metadata": {},
   "source": [
    "### Analisis\n",
    "\n",
    "Kode ini menyimpan angka 12 ke dalam variabel x dan 5 ke dalam variabel y, kemudian melakukan pembagian bulat menggunakan operator //. Operator ini membagi x dengan y dan hanya mengambil bagian bilangan bulat dari hasilnya. Hasil 12 ÷ 5 adalah 2.4, sehingga x // y menghasilkan 2, yang kemudian dicetak ke layar."
   ]
  },
  {
   "cell_type": "markdown",
   "id": "d0fd93b4-a84b-45c7-b170-b3585840bea5",
   "metadata": {},
   "source": [
    "## The Walrus Operator"
   ]
  },
  {
   "cell_type": "code",
   "execution_count": null,
   "id": "b44a5623-3d8d-4fc5-96aa-af0bfbea512a",
   "metadata": {},
   "outputs": [
    {
     "name": "stdout",
     "output_type": "stream",
     "text": [
      "List has 5 elements\n",
      "List has 5 elements\n"
     ]
    }
   ],
   "source": [
    "numbers = [1, 2, 3, 4, 5]\n",
    "count = len(numbers)\n",
    "if count > 3:\n",
    "    print(f\"List has {count} elements\")\n",
    "\n",
    "if (count := len(numbers)) > 3:\n",
    "    print(f\"List has {count} elements\")\n"
   ]
  },
  {
   "cell_type": "markdown",
   "id": "a385498d-03d8-47fe-8c61-b5a7026f9046",
   "metadata": {},
   "source": [
    "### Analisis\n",
    "\n",
    "Kode ini menghitung jumlah elemen dalam list [1, 2, 3, 4, 5] dan mencetak \"List has 5 elements\" jika lebih dari 3. Cara pertama menyimpan hasil len(numbers) ke variabel count sebelum pengecekan, sedangkan cara kedua menggunakan walrus operator := untuk menghitung dan menyimpan sekaligus. Kedua cara menghasilkan output yang sama."
   ]
  },
  {
   "cell_type": "markdown",
   "id": "eb628846-092e-474b-b6b0-e6fd0a0f7f0e",
   "metadata": {},
   "source": [
    "## Comparison Operators"
   ]
  },
  {
   "cell_type": "code",
   "execution_count": null,
   "id": "8baf86e7-b13b-43cc-a299-726d80ae30d3",
   "metadata": {},
   "outputs": [
    {
     "name": "stdout",
     "output_type": "stream",
     "text": [
      "False\n",
      "True\n",
      "True\n",
      "False\n",
      "True\n",
      "False\n"
     ]
    }
   ],
   "source": [
    "x = 5\n",
    "y = 3\n",
    "\n",
    "print(x == y)\n",
    "print(x != y)\n",
    "print(x > y)\n",
    "print(x < y)\n",
    "print(x >= y)\n",
    "print(x <= y)"
   ]
  },
  {
   "cell_type": "markdown",
   "id": "f5242118-a89f-44e9-8f5b-c312213a2500",
   "metadata": {},
   "source": [
    "### Analisis\n",
    "\n",
    "Kode ini membandingkan dua variabel x = 5 dan y = 3 menggunakan berbagai operator perbandingan. Pernyataan x == y bernilai False karena 5 tidak sama dengan 3, sedangkan x != y bernilai True karena 5 tidak sama dengan 3. x > y bernilai True karena 5 lebih besar dari 3, sedangkan x < y bernilai False. Operator x >= y bernilai True karena 5 lebih besar atau sama dengan 3, dan x <= y bernilai False karena 5 tidak lebih kecil atau sama dengan 3."
   ]
  },
  {
   "cell_type": "markdown",
   "id": "fbe0dd68-4494-4685-8282-c58e62a02712",
   "metadata": {},
   "source": [
    "## Chaining Comparison Operators"
   ]
  },
  {
   "cell_type": "code",
   "execution_count": null,
   "id": "c4d8fb91-21b6-4ea5-a285-4e34cd3ccd5a",
   "metadata": {},
   "outputs": [
    {
     "name": "stdout",
     "output_type": "stream",
     "text": [
      "True\n",
      "True\n"
     ]
    }
   ],
   "source": [
    "x = 5\n",
    "\n",
    "print(1 < x < 10)\n",
    "\n",
    "print(1 < x and x < 10)\n"
   ]
  },
  {
   "cell_type": "markdown",
   "id": "856a4b53-3832-4765-89a0-214a3f5155c6",
   "metadata": {},
   "source": [
    "### Analisis\n",
    "\n",
    "Kode ini mengecek apakah x = 5 berada di antara 1 dan 10 dengan dua cara. Pertama, menggunakan chained comparison 1 < x < 10, yang langsung mengevaluasi apakah 1 < 5 < 10, menghasilkan True. Kedua, menggunakan operator logika and dengan 1 < x and x < 10, yang mengecek kondisi yang sama secara terpisah, juga menghasilkan True."
   ]
  },
  {
   "cell_type": "markdown",
   "id": "039aea8e-2eab-4b2f-9ece-6886b3818055",
   "metadata": {},
   "source": [
    "## Logical Operators"
   ]
  },
  {
   "cell_type": "code",
   "execution_count": null,
   "id": "03bc1689-4830-4dd3-8801-951524f1a6b5",
   "metadata": {},
   "outputs": [
    {
     "name": "stdout",
     "output_type": "stream",
     "text": [
      "True\n"
     ]
    }
   ],
   "source": [
    "x = 5\n",
    "\n",
    "print(x > 0 and x < 10)"
   ]
  },
  {
   "cell_type": "markdown",
   "id": "e27b415a-7605-41c4-9bc0-5dd12e258331",
   "metadata": {},
   "source": [
    "### Analisis\n",
    "\n",
    "Kode ini menyimpan angka 5 ke dalam variabel x dan menggunakan operator logika and untuk mengecek dua kondisi sekaligus: apakah x > 0 dan x < 10. Karena 5 lebih besar dari 0 dan juga lebih kecil dari 10, kedua kondisi bernilai True, sehingga seluruh ekspresi x > 0 and x < 10 bernilai True, yang kemudian dicetak ke layar."
   ]
  },
  {
   "cell_type": "code",
   "execution_count": null,
   "id": "0ebf05db-1c20-429d-9531-01916ae4d18e",
   "metadata": {},
   "outputs": [
    {
     "name": "stdout",
     "output_type": "stream",
     "text": [
      "False\n"
     ]
    }
   ],
   "source": [
    "x = 5\n",
    "\n",
    "print(x < 5 or x > 10)"
   ]
  },
  {
   "cell_type": "markdown",
   "id": "60ea62c3-ceb6-4fe9-aaa1-cc3b3e97e327",
   "metadata": {},
   "source": [
    "### Analisis\n",
    "\n",
    "Kode ini menyimpan angka 5 ke dalam variabel x dan menggunakan operator logika or untuk mengecek apakah salah satu dari dua kondisi benar: x < 5 atau x > 10. Karena 5 tidak kurang dari 5 dan juga tidak lebih dari 10, kedua kondisi bernilai False. Dengan operator or, ekspresi hanya True jika salah satu kondisi True, sehingga hasil x < 5 or x > 10 adalah False, yang kemudian dicetak ke layar."
   ]
  },
  {
   "cell_type": "code",
   "execution_count": null,
   "id": "eb19c000-aaca-4ad2-8b2f-63571e50670f",
   "metadata": {},
   "outputs": [
    {
     "name": "stdout",
     "output_type": "stream",
     "text": [
      "False\n"
     ]
    }
   ],
   "source": [
    "x = 5\n",
    "\n",
    "print(not(x > 3 and x < 10))"
   ]
  },
  {
   "cell_type": "markdown",
   "id": "4867de1f-789f-4eb3-9366-6f648380d113",
   "metadata": {},
   "source": [
    "### Analisis\n",
    "\n",
    "Kode ini menyimpan angka 5 ke dalam variabel x dan mengevaluasi ekspresi (x > 3 and x < 10) yang memeriksa apakah 5 lebih besar dari 3 dan kurang dari 10. Karena kedua kondisi ini True, ekspresi awal bernilai True. Kemudian operator not membalik nilai tersebut, sehingga hasil akhirnya menjadi False, yang kemudian dicetak ke layar."
   ]
  },
  {
   "cell_type": "markdown",
   "id": "590dabf1-e264-48e0-80b2-7922e52f433c",
   "metadata": {},
   "source": [
    "## Identity Operators"
   ]
  },
  {
   "cell_type": "code",
   "execution_count": null,
   "id": "b27b6533-501b-417f-a9f5-bcfee650b497",
   "metadata": {},
   "outputs": [
    {
     "name": "stdout",
     "output_type": "stream",
     "text": [
      "True\n",
      "False\n",
      "True\n"
     ]
    }
   ],
   "source": [
    "x = [\"apple\", \"banana\"]\n",
    "y = [\"apple\", \"banana\"]\n",
    "z = x\n",
    "\n",
    "print(x is z)\n",
    "print(x is y)\n",
    "print(x == y)"
   ]
  },
  {
   "cell_type": "markdown",
   "id": "f25252fa-dbed-4fb6-a487-b0e1fe74c607",
   "metadata": {},
   "source": [
    "### Analisis\n",
    "\n",
    "Kode ini membandingkan list x, y, dan z menggunakan operator is dan ==. Pernyataan x is z bernilai True karena z adalah referensi ke list yang sama dengan x. Pernyataan x is y bernilai False karena meskipun x dan y memiliki isi yang sama, mereka adalah objek berbeda di memori. Sedangkan x == y bernilai True karena operator == membandingkan isi list, dan kedua list memiliki elemen yang sama."
   ]
  },
  {
   "cell_type": "code",
   "execution_count": null,
   "id": "99827b6e-287e-4132-b807-de18e021a6a4",
   "metadata": {},
   "outputs": [
    {
     "name": "stdout",
     "output_type": "stream",
     "text": [
      "True\n"
     ]
    }
   ],
   "source": [
    "x = [\"apple\", \"banana\"]\n",
    "y = [\"apple\", \"banana\"]\n",
    "\n",
    "print(x is not y)"
   ]
  },
  {
   "cell_type": "markdown",
   "id": "56d95c67-1e2a-42a5-884a-0087083e4f81",
   "metadata": {},
   "source": [
    "### Analisis\n",
    "\n",
    "Kode ini menyimpan dua list x dan y yang memiliki isi sama, tetapi merupakan objek berbeda di memori. Pernyataan x is not y menggunakan operator is not untuk memeriksa apakah kedua variabel bukan objek yang sama. Karena x dan y adalah list terpisah, hasilnya adalah True, yang kemudian dicetak ke layar."
   ]
  },
  {
   "cell_type": "markdown",
   "id": "f899155b-ffc2-42e6-add7-96290bfd34f8",
   "metadata": {},
   "source": [
    "## Difference Between is and =="
   ]
  },
  {
   "cell_type": "code",
   "execution_count": null,
   "id": "3008d6ef-4a06-4fb2-9bf9-da595f4a6314",
   "metadata": {},
   "outputs": [
    {
     "name": "stdout",
     "output_type": "stream",
     "text": [
      "True\n",
      "False\n"
     ]
    }
   ],
   "source": [
    "x = [1, 2, 3]\n",
    "y = [1, 2, 3]\n",
    "\n",
    "print(x == y)\n",
    "print(x is y)"
   ]
  },
  {
   "cell_type": "markdown",
   "id": "b58a77df-ae14-46e5-baf6-56b345ab430d",
   "metadata": {},
   "source": [
    "### Analisis\n",
    "\n",
    "Kode ini membandingkan dua list x = [1, 2, 3] dan y = [1, 2, 3] menggunakan operator == dan is. Pernyataan x == y bernilai True karena kedua list memiliki isi yang sama, sedangkan x is y bernilai False karena meskipun isinya sama, x dan y adalah objek berbeda di memori. Dengan demikian, == memeriksa kesamaan isi, sedangkan is memeriksa identitas objek."
   ]
  },
  {
   "cell_type": "markdown",
   "id": "62d28c7d-56d4-495b-af87-df03e0709bbc",
   "metadata": {},
   "source": [
    "## Membership Operators"
   ]
  },
  {
   "cell_type": "code",
   "execution_count": null,
   "id": "9152fd07-c56f-4ec1-a2aa-849ee09275eb",
   "metadata": {},
   "outputs": [
    {
     "name": "stdout",
     "output_type": "stream",
     "text": [
      "True\n"
     ]
    }
   ],
   "source": [
    "fruits = [\"apple\", \"banana\", \"cherry\"]\n",
    "\n",
    "print(\"banana\" in fruits)"
   ]
  },
  {
   "cell_type": "markdown",
   "id": "03cc93a0-dfe1-45a3-9d85-77d6fde330c3",
   "metadata": {},
   "source": [
    "### Analisis\n",
    "\n",
    "Kode ini menyimpan list fruits = [\"apple\", \"banana\", \"cherry\"] dan menggunakan operator in untuk memeriksa apakah string \"banana\" ada di dalam list. Karena \"banana\" termasuk dalam elemen list, ekspresi \"banana\" in fruits\" bernilai True, yang kemudian dicetak ke layar."
   ]
  },
  {
   "cell_type": "code",
   "execution_count": null,
   "id": "3e2f379e-3649-4692-aa56-8d40f2a7c722",
   "metadata": {},
   "outputs": [
    {
     "name": "stdout",
     "output_type": "stream",
     "text": [
      "True\n"
     ]
    }
   ],
   "source": [
    "fruits = [\"apple\", \"banana\", \"cherry\"]\n",
    "\n",
    "print(\"pineapple\" not in fruits)"
   ]
  },
  {
   "cell_type": "markdown",
   "id": "ea670c95-89b5-467e-8e77-236752bb2b85",
   "metadata": {},
   "source": [
    "### Analisis\n",
    "\n",
    "Kode ini menyimpan list fruits = [\"apple\", \"banana\", \"cherry\"] dan menggunakan operator not in untuk memeriksa apakah string \"pineapple\" tidak ada di dalam list. Karena \"pineapple\" bukan elemen list, ekspresi \"pineapple\" not in fruits\" bernilai True, yang kemudian dicetak ke layar."
   ]
  },
  {
   "cell_type": "markdown",
   "id": "5d4463e8-66e5-4284-a0ca-bed140bc69fa",
   "metadata": {},
   "source": [
    "## Membership in Strings"
   ]
  },
  {
   "cell_type": "code",
   "execution_count": null,
   "id": "aa3b3ded-d103-43ff-a2a1-e8db75d12a14",
   "metadata": {},
   "outputs": [
    {
     "name": "stdout",
     "output_type": "stream",
     "text": [
      "True\n",
      "False\n",
      "True\n"
     ]
    }
   ],
   "source": [
    "text = \"Hello World\"\n",
    "\n",
    "print(\"H\" in text)\n",
    "print(\"hello\" in text)\n",
    "print(\"z\" not in text)"
   ]
  },
  {
   "cell_type": "markdown",
   "id": "955fd281-bef9-44d8-9e5b-09ed876fead3",
   "metadata": {},
   "source": [
    "### Analisis\n",
    "\n",
    "Kode ini memeriksa keberadaan karakter atau substring dalam string text = \"Hello World\" menggunakan operator in dan not in. Pernyataan \"H\" in text bernilai True karena karakter 'H' ada di string, sedangkan \"hello\" in text bernilai False karena Python membedakan huruf besar dan kecil (case-sensitive) sehingga 'hello' tidak sama dengan 'Hello'. Pernyataan \"z\" not in text\" bernilai True karena karakter 'z' memang tidak ada dalam string."
   ]
  },
  {
   "cell_type": "markdown",
   "id": "07a8b531-87b5-40fb-8cd3-e43a5d042cbd",
   "metadata": {},
   "source": [
    "## Bitwise Operators"
   ]
  },
  {
   "cell_type": "code",
   "execution_count": null,
   "id": "ef021d0c-c687-4ebf-8381-435fa361730d",
   "metadata": {},
   "outputs": [
    {
     "name": "stdout",
     "output_type": "stream",
     "text": [
      "2\n"
     ]
    }
   ],
   "source": [
    "print(6 & 3)"
   ]
  },
  {
   "cell_type": "markdown",
   "id": "81589a91-89f1-4635-bd02-eca6c265bc30",
   "metadata": {},
   "source": [
    "### Analisis\n",
    "\n",
    "Kode ini menggunakan operator bitwise AND (&) pada angka 6 dan 3. Dalam biner, 6 direpresentasikan sebagai 110 dan 3 sebagai 011. Operator AND membandingkan setiap bit: 1 & 0 = 0, 1 & 1 = 1, 0 & 1 = 0, sehingga menghasilkan 010 dalam biner atau 2 dalam desimal. Dengan demikian, kode ini mencetak 2 ke layar."
   ]
  },
  {
   "cell_type": "code",
   "execution_count": null,
   "id": "86193104-357c-46a9-8e1c-9d1d78c98ed5",
   "metadata": {},
   "outputs": [
    {
     "name": "stdout",
     "output_type": "stream",
     "text": [
      "7\n"
     ]
    }
   ],
   "source": [
    "print(6 | 3)"
   ]
  },
  {
   "cell_type": "markdown",
   "id": "65657dad-0efe-4c18-a9d7-b41edb48657e",
   "metadata": {},
   "source": [
    "### Analisis\n",
    "\n",
    "Kode ini menggunakan operator bitwise OR (|) pada angka 6 dan 3. Dalam biner, 6 direpresentasikan sebagai 110 dan 3 sebagai 011. Operator OR membandingkan setiap bit: 1 | 0 = 1, 1 | 1 = 1, 0 | 1 = 1, sehingga menghasilkan 111 dalam biner atau 7 dalam desimal. Dengan demikian, kode ini mencetak 7 ke layar."
   ]
  },
  {
   "cell_type": "code",
   "execution_count": null,
   "id": "1023d0a6-8814-45be-b509-3fff77632c37",
   "metadata": {},
   "outputs": [
    {
     "name": "stdout",
     "output_type": "stream",
     "text": [
      "5\n"
     ]
    }
   ],
   "source": [
    "print(6 ^ 3)"
   ]
  },
  {
   "cell_type": "markdown",
   "id": "c4fe3df7-44e6-468c-80e9-9e0bb92b0c1a",
   "metadata": {},
   "source": [
    "### Analisis\n",
    "\n",
    "Kode ini menggunakan operator bitwise XOR (^) pada angka 6 dan 3. Dalam biner, 6 direpresentasikan sebagai 110 dan 3 sebagai 011. Operator XOR menghasilkan 1 jika kedua bit berbeda dan 0 jika sama, sehingga perhitungan bit demi bit menghasilkan 101 dalam biner atau 5 dalam desimal. Dengan demikian, kode ini mencetak 5 ke layar."
   ]
  },
  {
   "cell_type": "markdown",
   "id": "4778f82d-f39e-4cf7-8e8e-0a5eceed8aa6",
   "metadata": {},
   "source": [
    "## Operator Precedence"
   ]
  },
  {
   "cell_type": "code",
   "execution_count": null,
   "id": "f7c54ca0-a363-4cc0-b928-88a3be02187b",
   "metadata": {},
   "outputs": [
    {
     "name": "stdout",
     "output_type": "stream",
     "text": [
      "0\n"
     ]
    }
   ],
   "source": [
    "print((6 + 3) - (6 + 3))"
   ]
  },
  {
   "cell_type": "markdown",
   "id": "29b20ce8-f720-496b-ac61-a5c627209cd8",
   "metadata": {},
   "source": [
    "### Analisis\n",
    "\n",
    "Kode ini melakukan operasi aritmatika sederhana. Pertama, (6 + 3) dihitung menjadi 9. Kemudian ekspresi menjadi 9 - 9, yang hasilnya 0. Dengan demikian, print((6 + 3) - (6 + 3)) mencetak 0 ke layar."
   ]
  },
  {
   "cell_type": "code",
   "execution_count": null,
   "id": "5038e113-cbec-4e10-ab9a-e83737f78567",
   "metadata": {},
   "outputs": [
    {
     "name": "stdout",
     "output_type": "stream",
     "text": [
      "115\n"
     ]
    }
   ],
   "source": [
    "print(100 + 5 * 3)"
   ]
  },
  {
   "cell_type": "markdown",
   "id": "20e10906-6c12-4512-a01e-162f681279fb",
   "metadata": {},
   "source": [
    "### Analisis\n",
    "\n",
    "Kode ini melakukan operasi aritmatika dengan memperhatikan prioritas operator. Perkalian 5 * 3 dihitung terlebih dahulu menjadi 15, kemudian hasilnya dijumlahkan dengan 100, sehingga totalnya menjadi 115. Dengan demikian, kode ini mencetak 115 ke layar."
   ]
  },
  {
   "cell_type": "markdown",
   "id": "d2a28cbc-f3e8-4374-b498-1cd1b18619b4",
   "metadata": {},
   "source": [
    "## Left-to-Right Evaluation"
   ]
  },
  {
   "cell_type": "code",
   "execution_count": null,
   "id": "8c3cd507-5f7a-4f43-8705-8dac16411c81",
   "metadata": {},
   "outputs": [
    {
     "name": "stdout",
     "output_type": "stream",
     "text": [
      "5\n"
     ]
    }
   ],
   "source": [
    "print(5 + 4 - 7 + 3)"
   ]
  },
  {
   "cell_type": "markdown",
   "id": "52e6c235-c51c-4241-a144-920bec729539",
   "metadata": {},
   "source": [
    "### Analisis\n",
    "\n",
    "Kode ini melakukan operasi aritmatika penjumlahan dan pengurangan secara berurutan. Pertama, 5 + 4 menghasilkan 9, kemudian dikurangi 7 menjadi 2, dan terakhir ditambah 3 sehingga totalnya menjadi 5. Dengan demikian, kode ini mencetak 5 ke layar."
   ]
  },
  {
   "cell_type": "markdown",
   "id": "ad5fde7c-c087-42e3-a09e-0ad268b15bfa",
   "metadata": {},
   "source": [
    "## Python Conditions and If statements"
   ]
  },
  {
   "cell_type": "code",
   "execution_count": null,
   "id": "4bda4c41-0d08-458e-a7a1-64f65ca16c60",
   "metadata": {},
   "outputs": [
    {
     "name": "stdout",
     "output_type": "stream",
     "text": [
      "b is greater than a\n"
     ]
    }
   ],
   "source": [
    "a = 33\n",
    "b = 200\n",
    "if b > a:\n",
    "  print(\"b is greater than a\")"
   ]
  },
  {
   "cell_type": "markdown",
   "id": "2bea9ad9-dcce-48e0-90fe-511ff21d7128",
   "metadata": {},
   "source": [
    "### Analisis\n",
    "\n",
    "Kode tersebut menggunakan struktur percabangan if untuk membandingkan dua nilai variabel, yaitu a = 33 dan b = 200. Kondisi if b > a akan dicek, dan karena nilai b memang lebih besar dari a, maka pernyataan di dalam blok if akan dijalankan. Hasilnya, program menampilkan teks \"b is greater than a\" di layar."
   ]
  },
  {
   "cell_type": "markdown",
   "id": "e18a4826-d1fd-44bd-8e57-76117e636f10",
   "metadata": {},
   "source": [
    "## How If Statements Work"
   ]
  },
  {
   "cell_type": "code",
   "execution_count": null,
   "id": "ae4a9a0f-2b1b-4438-a6df-af70a3a63a85",
   "metadata": {},
   "outputs": [
    {
     "name": "stdout",
     "output_type": "stream",
     "text": [
      "The number is positive\n"
     ]
    }
   ],
   "source": [
    "number = 15\n",
    "if number > 0:\n",
    "  print(\"The number is positive\")"
   ]
  },
  {
   "cell_type": "markdown",
   "id": "3f87c081-55f6-4800-ab87-6113efeb1656",
   "metadata": {},
   "source": [
    "### Analisis\n",
    "\n",
    "Kode tersebut menggunakan percabangan if untuk memeriksa apakah nilai variabel number lebih besar dari nol. Karena number = 15, maka kondisi number > 0 bernilai benar. Akibatnya, program menjalankan perintah di dalam blok if dan menampilkan teks \"The number is positive\" di layar."
   ]
  },
  {
   "cell_type": "markdown",
   "id": "5a148edd-ba31-43ca-992e-45a02df8d43f",
   "metadata": {},
   "source": [
    "## Multiple Statements in If Block"
   ]
  },
  {
   "cell_type": "code",
   "execution_count": null,
   "id": "02ade118-d347-4f99-a458-61644c4f7a41",
   "metadata": {},
   "outputs": [
    {
     "name": "stdout",
     "output_type": "stream",
     "text": [
      "You are an adult\n",
      "You can vote\n",
      "You have full legal rights\n"
     ]
    }
   ],
   "source": [
    "age = 20\n",
    "if age >= 18:\n",
    "  print(\"You are an adult\")\n",
    "  print(\"You can vote\")\n",
    "  print(\"You have full legal rights\")\n"
   ]
  },
  {
   "cell_type": "markdown",
   "id": "d0dbd29d-f369-4963-bf96-564bb3fa2972",
   "metadata": {},
   "source": [
    "### Analisis\n",
    "\n",
    "Kode tersebut menggunakan percabangan if untuk mengevaluasi apakah nilai variabel age lebih besar atau sama dengan 18. Karena age = 20, kondisi tersebut bernilai benar. Maka, semua perintah di dalam blok if dijalankan, dan program menampilkan tiga baris teks: \"You are an adult\", \"You can vote\", dan \"You have full legal rights\"."
   ]
  },
  {
   "cell_type": "markdown",
   "id": "2f893543-53c0-4c1b-8680-07f7b238ce98",
   "metadata": {},
   "source": [
    "## Using Variables in Conditions"
   ]
  },
  {
   "cell_type": "code",
   "execution_count": null,
   "id": "2eb20bab-0007-4118-ae9e-6773b8bdbe20",
   "metadata": {},
   "outputs": [
    {
     "name": "stdout",
     "output_type": "stream",
     "text": [
      "Welcome back!\n"
     ]
    }
   ],
   "source": [
    "is_logged_in = True\n",
    "if is_logged_in:\n",
    "  print(\"Welcome back!\")"
   ]
  },
  {
   "cell_type": "markdown",
   "id": "0ac0cf92-a4b5-453c-8fb8-8cceff8dff9f",
   "metadata": {},
   "source": [
    "### Analisis\n",
    "\n",
    "Kode tersebut menggunakan percabangan if untuk memeriksa nilai boolean pada variabel is_logged_in. Karena is_logged_in bernilai True, maka kondisi if terpenuhi dan perintah di dalam blok dijalankan. Akibatnya, program menampilkan teks \"Welcome back!\" di layar sebagai tanda bahwa pengguna telah berhasil login."
   ]
  },
  {
   "cell_type": "markdown",
   "id": "cd962795-7a95-4db0-aa8e-bf54ea29e625",
   "metadata": {},
   "source": [
    "## The Elif Keyword"
   ]
  },
  {
   "cell_type": "code",
   "execution_count": null,
   "id": "64b80603-df09-481e-99e3-90d5f6838966",
   "metadata": {},
   "outputs": [
    {
     "name": "stdout",
     "output_type": "stream",
     "text": [
      "a and b are equal\n"
     ]
    }
   ],
   "source": [
    "a = 33\n",
    "b = 33\n",
    "if b > a:\n",
    "  print(\"b is greater than a\")\n",
    "elif a == b:\n",
    "  print(\"a and b are equal\")"
   ]
  },
  {
   "cell_type": "markdown",
   "id": "bad82b44-9006-4bbe-8846-634cc87181b3",
   "metadata": {},
   "source": [
    "### Analisis\n",
    "\n",
    "Kode tersebut menggunakan struktur percabangan if-elif untuk membandingkan dua nilai, yaitu a = 33 dan b = 33. Pertama, program memeriksa apakah b > a, namun kondisi ini salah karena kedua nilai sama. Lalu program melanjutkan ke kondisi elif a == b, yang bernilai benar. Akibatnya, program menampilkan teks \"a and b are equal\" di layar, menunjukkan bahwa kedua variabel memiliki nilai yang sama."
   ]
  },
  {
   "cell_type": "markdown",
   "id": "97c38cd0-66c5-4094-adb3-ecf148e36710",
   "metadata": {},
   "source": [
    "## Multiple Elif Statements"
   ]
  },
  {
   "cell_type": "code",
   "execution_count": null,
   "id": "20b286fe-af24-49f8-a8cf-348c133215a3",
   "metadata": {},
   "outputs": [
    {
     "name": "stdout",
     "output_type": "stream",
     "text": [
      "Grade: C\n"
     ]
    }
   ],
   "source": [
    "score = 75\n",
    "\n",
    "if score >= 90:\n",
    "  print(\"Grade: A\")\n",
    "elif score >= 80:\n",
    "  print(\"Grade: B\")\n",
    "elif score >= 70:\n",
    "  print(\"Grade: C\")\n",
    "elif score >= 60:\n",
    "  print(\"Grade: D\")"
   ]
  },
  {
   "cell_type": "markdown",
   "id": "83a6c2ca-03a1-41f4-abcc-40ed7d9e29f4",
   "metadata": {},
   "source": [
    "### Analisis\n",
    "\n",
    "Kode tersebut menggunakan percabangan if-elif untuk menentukan nilai huruf berdasarkan skor. Variabel score bernilai 75, sehingga program memeriksa beberapa kondisi secara berurutan. Kondisi score >= 90 dan score >= 80 bernilai salah, tetapi score >= 70 bernilai benar. Maka, program menjalankan perintah pada blok tersebut dan menampilkan teks \"Grade: C\" di layar, yang berarti nilai 75 dikategorikan sebagai Grade C."
   ]
  },
  {
   "cell_type": "markdown",
   "id": "f1b67f53-10e8-4cfe-b873-5c7f75a68922",
   "metadata": {},
   "source": [
    "## How Elif Works"
   ]
  },
  {
   "cell_type": "code",
   "execution_count": null,
   "id": "2b1ae8bb-7406-496a-ac0b-29654af5ca79",
   "metadata": {},
   "outputs": [
    {
     "name": "stdout",
     "output_type": "stream",
     "text": [
      "You are an adult\n"
     ]
    }
   ],
   "source": [
    "age = 25\n",
    "\n",
    "if age < 13:\n",
    "  print(\"You are a child\")\n",
    "elif age < 20:\n",
    "  print(\"You are a teenager\")\n",
    "elif age < 65:\n",
    "  print(\"You are an adult\")\n",
    "elif age >= 65:\n",
    "  print(\"You are a senior\")"
   ]
  },
  {
   "cell_type": "markdown",
   "id": "003d1f77-1595-4ed9-b9d0-77a029e32176",
   "metadata": {},
   "source": [
    "### Analisis\n",
    "\n",
    "Kode tersebut menggunakan percabangan if-elif untuk mengelompokkan usia ke dalam beberapa kategori. Variabel age bernilai 25, sehingga program memeriksa kondisi secara berurutan. Kondisi age < 13 dan age < 20 bernilai salah, tetapi age < 65 bernilai benar. Oleh karena itu, program menjalankan blok tersebut dan menampilkan teks \"You are an adult\", yang berarti usia 25 dikategorikan sebagai dewasa."
   ]
  },
  {
   "cell_type": "markdown",
   "id": "15fd5660-533a-4e3f-980c-4776e70157be",
   "metadata": {},
   "source": [
    "## When to Use Elif"
   ]
  },
  {
   "cell_type": "code",
   "execution_count": null,
   "id": "d187af8f-b302-49b8-861c-7dc16025e262",
   "metadata": {},
   "outputs": [
    {
     "name": "stdout",
     "output_type": "stream",
     "text": [
      "Wednesday\n"
     ]
    }
   ],
   "source": [
    "day = 3\n",
    "\n",
    "if day == 1:\n",
    "  print(\"Monday\")\n",
    "elif day == 2:\n",
    "  print(\"Tuesday\")\n",
    "elif day == 3:\n",
    "  print(\"Wednesday\")\n",
    "elif day == 4:\n",
    "  print(\"Thursday\")\n",
    "elif day == 5:\n",
    "  print(\"Friday\")\n",
    "elif day == 6:\n",
    "  print(\"Saturday\")\n",
    "elif day == 7:\n",
    "  print(\"Sunday\")"
   ]
  },
  {
   "cell_type": "markdown",
   "id": "1297b480-c241-4f2f-92fd-4a4ba19012a5",
   "metadata": {},
   "source": [
    "### Analisis\n",
    "\n",
    "Kode tersebut menggunakan percabangan if-elif untuk menentukan nama hari berdasarkan nilai variabel day. Karena day = 3, maka kondisi day == 3 bernilai benar, sementara kondisi sebelumnya bernilai salah. Akibatnya, program mengeksekusi perintah pada blok tersebut dan menampilkan teks \"Wednesday\" di layar, yang berarti nilai 3 mewakili hari Rabu."
   ]
  },
  {
   "cell_type": "markdown",
   "id": "7477bceb-2c39-4da5-b6de-55614ce365d1",
   "metadata": {},
   "source": [
    "## The Else Keyword"
   ]
  },
  {
   "cell_type": "code",
   "execution_count": null,
   "id": "a5fe8e49-2fa0-42bb-ac8b-3499fca6ee69",
   "metadata": {},
   "outputs": [
    {
     "name": "stdout",
     "output_type": "stream",
     "text": [
      "a is greater than b\n"
     ]
    }
   ],
   "source": [
    "a = 200\n",
    "b = 33\n",
    "if b > a:\n",
    "  print(\"b is greater than a\")\n",
    "elif a == b:\n",
    "  print(\"a and b are equal\")\n",
    "else:\n",
    "  print(\"a is greater than b\")"
   ]
  },
  {
   "cell_type": "markdown",
   "id": "9f974454-4b67-4d4d-84f3-646204e3b236",
   "metadata": {},
   "source": [
    "### Analisis\n",
    "\n",
    "Kode tersebut menggunakan struktur percabangan if-elif-else untuk membandingkan dua nilai, yaitu a = 200 dan b = 33. Pertama, kondisi b > a bernilai salah karena 33 tidak lebih besar dari 200. Kondisi a == b juga salah karena nilainya tidak sama. Maka, program menjalankan bagian else dan menampilkan teks \"a is greater than b\", yang menunjukkan bahwa nilai a lebih besar dari b."
   ]
  },
  {
   "cell_type": "markdown",
   "id": "c507f06a-4840-49a9-b6ea-1dc50cbd5185",
   "metadata": {},
   "source": [
    "## Else Without Elif"
   ]
  },
  {
   "cell_type": "code",
   "execution_count": null,
   "id": "6a02191b-ff1f-4de0-9ce9-a0a7d96a4876",
   "metadata": {},
   "outputs": [
    {
     "name": "stdout",
     "output_type": "stream",
     "text": [
      "b is not greater than a\n"
     ]
    }
   ],
   "source": [
    "a = 200\n",
    "b = 33\n",
    "if b > a:\n",
    "  print(\"b is greater than a\")\n",
    "else:\n",
    "  print(\"b is not greater than a\")"
   ]
  },
  {
   "cell_type": "markdown",
   "id": "4691cf76-c1fa-4734-84c5-c569270d08ed",
   "metadata": {},
   "source": [
    "### Analisis\n",
    "\n",
    "Kode tersebut menggunakan percabangan if-else untuk membandingkan dua nilai, yaitu a = 200 dan b = 33. Kondisi b > a bernilai salah karena 33 tidak lebih besar dari 200. Oleh karena itu, program mengeksekusi bagian else dan menampilkan teks \"b is not greater than a\", yang berarti nilai b lebih kecil dari a."
   ]
  },
  {
   "cell_type": "markdown",
   "id": "320f56a2-09b8-4d7b-b001-c0ad16ec587e",
   "metadata": {},
   "source": [
    "## How Else Works"
   ]
  },
  {
   "cell_type": "code",
   "execution_count": null,
   "id": "d329dc76-b1bc-4956-84b8-c6396f216d1b",
   "metadata": {},
   "outputs": [
    {
     "name": "stdout",
     "output_type": "stream",
     "text": [
      "The number is odd\n"
     ]
    }
   ],
   "source": [
    "number = 7\n",
    "\n",
    "if number % 2 == 0:\n",
    "  print(\"The number is even\")\n",
    "else:\n",
    "  print(\"The number is odd\")"
   ]
  },
  {
   "cell_type": "markdown",
   "id": "74000e66-c044-4fdb-af9c-ab6f81431e5b",
   "metadata": {},
   "source": [
    "### Analisis\n",
    "\n",
    "Kode tersebut menggunakan percabangan if-else untuk menentukan apakah sebuah bilangan genap atau ganjil. Variabel number bernilai 7, lalu program memeriksa kondisi number % 2 == 0. Karena hasil sisa bagi 7 dengan 2 adalah 1, kondisi tersebut bernilai salah. Maka, program menjalankan bagian else dan menampilkan teks \"The number is odd\", yang berarti angka 7 adalah bilangan ganjil."
   ]
  },
  {
   "cell_type": "markdown",
   "id": "6359b32e-edad-4e6d-b91e-745dd97e614a",
   "metadata": {},
   "source": [
    "## Complete If-Elif-Else Chain"
   ]
  },
  {
   "cell_type": "code",
   "execution_count": null,
   "id": "18f68e4a-c311-42c0-97b2-9478cdb94181",
   "metadata": {},
   "outputs": [
    {
     "name": "stdout",
     "output_type": "stream",
     "text": [
      "It's warm outside\n"
     ]
    }
   ],
   "source": [
    "temperature = 22\n",
    "\n",
    "if temperature > 30:\n",
    "  print(\"It's hot outside!\")\n",
    "elif temperature > 20:\n",
    "  print(\"It's warm outside\")\n",
    "elif temperature > 10:\n",
    "  print(\"It's cool outside\")\n",
    "else:\n",
    "  print(\"It's cold outside!\")"
   ]
  },
  {
   "cell_type": "markdown",
   "id": "5bf19cac-685f-49a9-8d91-41a517a7a68e",
   "metadata": {},
   "source": [
    "### Analisis\n",
    "\n",
    "Kode tersebut menggunakan percabangan if-elif-else untuk menentukan kondisi cuaca berdasarkan suhu. Variabel temperature bernilai 22, sehingga kondisi temperature > 30 bernilai salah, tetapi temperature > 20 bernilai benar. Akibatnya, program menjalankan blok tersebut dan menampilkan teks \"It's warm outside\", yang berarti suhu 22 derajat dikategorikan sebagai hangat."
   ]
  },
  {
   "cell_type": "markdown",
   "id": "765b2e6e-726d-466a-b513-ba9c0feb3e7e",
   "metadata": {},
   "source": [
    "## Else as Fallback"
   ]
  },
  {
   "cell_type": "code",
   "execution_count": null,
   "id": "35648cde-a093-49b1-adc9-8e306a943ca1",
   "metadata": {},
   "outputs": [
    {
     "name": "stdout",
     "output_type": "stream",
     "text": [
      "Welcome, Emil!\n"
     ]
    }
   ],
   "source": [
    "username = \"Emil\"\n",
    "\n",
    "if len(username) > 0:\n",
    "  print(f\"Welcome, {username}!\")\n",
    "else:\n",
    "  print(\"Error: Username cannot be empty\")"
   ]
  },
  {
   "cell_type": "markdown",
   "id": "e3cf3257-2bfd-4e65-8a29-35d267add9ce",
   "metadata": {},
   "source": [
    "### Analisis\n",
    "\n",
    "Kode menggunakan percabangan if-else untuk memeriksa apakah variabel username berisi teks atau kosong. Fungsi len(username) menghitung panjang string, dan karena username = \"Emil\" memiliki panjang lebih dari 0, kondisi len(username) > 0 bernilai benar. Maka, program menampilkan teks \"Welcome, Emil!\", yang menunjukkan bahwa pengguna berhasil diidentifikasi."
   ]
  },
  {
   "cell_type": "markdown",
   "id": "f5683965-0d92-4317-bd85-e86829d867ee",
   "metadata": {},
   "source": [
    "## Short Hand If"
   ]
  },
  {
   "cell_type": "code",
   "execution_count": null,
   "id": "dadfbfbe-f8d8-45a3-8806-5381a0737063",
   "metadata": {},
   "outputs": [
    {
     "name": "stdout",
     "output_type": "stream",
     "text": [
      "a is greater than b\n"
     ]
    }
   ],
   "source": [
    "a = 5\n",
    "b = 2\n",
    "if a > b: print(\"a is greater than b\")"
   ]
  },
  {
   "cell_type": "markdown",
   "id": "82a3f74c-d4da-4d05-aced-66b0317d5f11",
   "metadata": {},
   "source": [
    "### Analisis\n",
    "\n",
    "Kode tersebut menggunakan percabangan if dalam satu baris untuk membandingkan dua nilai, yaitu a = 5 dan b = 2. Kondisi a > b bernilai benar karena 5 lebih besar dari 2. Karena itu, perintah setelah tanda titik dua (:) dijalankan, dan program menampilkan teks \"a is greater than b\" di layar."
   ]
  },
  {
   "cell_type": "markdown",
   "id": "3d878ce1-0b8d-412a-8147-47e86877faa8",
   "metadata": {},
   "source": [
    "## Short Hand If ... Else"
   ]
  },
  {
   "cell_type": "code",
   "execution_count": null,
   "id": "3d8e717e-a043-4d68-9f5c-b94bded91042",
   "metadata": {},
   "outputs": [
    {
     "name": "stdout",
     "output_type": "stream",
     "text": [
      "B\n"
     ]
    }
   ],
   "source": [
    "a = 2\n",
    "b = 330\n",
    "print(\"A\") if a > b else print(\"B\")"
   ]
  },
  {
   "cell_type": "markdown",
   "id": "508c6aad-361b-470a-ad62-b8870be08380",
   "metadata": {},
   "source": [
    "### Analisis\n",
    "\n",
    "Kode tersebut menggunakan percabangan if-else dalam satu baris (ternary operator) untuk membandingkan dua nilai, yaitu a = 2 dan b = 330. Kondisi a > b bernilai salah karena 2 lebih kecil dari 330, sehingga bagian setelah else yang dijalankan. Program menampilkan huruf \"B\" di layar."
   ]
  },
  {
   "cell_type": "markdown",
   "id": "5fa5e99d-21b1-4a0b-a4a6-c0d12012103a",
   "metadata": {},
   "source": [
    "## Assign a Value With If ... Else"
   ]
  },
  {
   "cell_type": "code",
   "execution_count": null,
   "id": "4ac922d9-baed-4aa6-bdf9-57b81870893e",
   "metadata": {},
   "outputs": [
    {
     "name": "stdout",
     "output_type": "stream",
     "text": [
      "Bigger is 20\n"
     ]
    }
   ],
   "source": [
    "a = 10\n",
    "b = 20\n",
    "bigger = a if a > b else b\n",
    "print(\"Bigger is\", bigger)"
   ]
  },
  {
   "cell_type": "markdown",
   "id": "5b159e1d-b99c-4a84-8e50-11fcd8665e60",
   "metadata": {},
   "source": [
    "### Analisis\n",
    "\n",
    "Kode tersebut menggunakan operator ternary (if-else satu baris) untuk menentukan nilai yang lebih besar antara a dan b. Karena a = 10 dan b = 20, kondisi a > b bernilai salah, sehingga variabel bigger diisi dengan nilai b. Akibatnya, program menampilkan teks \"Bigger is 20\", yang menunjukkan bahwa nilai terbesar adalah 20."
   ]
  },
  {
   "cell_type": "markdown",
   "id": "cbdb504e-428f-47e7-9412-aa59bb68c1ef",
   "metadata": {},
   "source": [
    "## Multiple Conditions on One Line"
   ]
  },
  {
   "cell_type": "code",
   "execution_count": null,
   "id": "6847f53e-73a7-4cdb-8101-c0c517917082",
   "metadata": {},
   "outputs": [
    {
     "name": "stdout",
     "output_type": "stream",
     "text": [
      "=\n"
     ]
    }
   ],
   "source": [
    "a = 330\n",
    "b = 330\n",
    "print(\"A\") if a > b else print(\"=\") if a == b else print(\"B\")"
   ]
  },
  {
   "cell_type": "markdown",
   "id": "1a484cf1-3656-47cc-99f9-2966a5e90df2",
   "metadata": {},
   "source": [
    "### Analisis\n",
    "\n",
    "Kode tersebut menggunakan operator ternary bertingkat untuk membandingkan a dan b. Karena keduanya bernilai 330, kondisi a == b benar, sehingga outputnya adalah tanda sama dengan \"=\"."
   ]
  },
  {
   "cell_type": "markdown",
   "id": "d66b710a-2450-4b66-8190-6cd7a4a761fd",
   "metadata": {},
   "source": [
    "## Practical Examples"
   ]
  },
  {
   "cell_type": "code",
   "execution_count": null,
   "id": "ffaa98df-4dc5-4d40-b6ce-c5714f5d8550",
   "metadata": {},
   "outputs": [
    {
     "name": "stdout",
     "output_type": "stream",
     "text": [
      "Maximum value: 20\n"
     ]
    }
   ],
   "source": [
    "x = 15\n",
    "y = 20\n",
    "max_value = x if x > y else y\n",
    "print(\"Maximum value:\", max_value)"
   ]
  },
  {
   "cell_type": "markdown",
   "id": "e8db540d-fc04-4b0d-b925-0b6c1679392c",
   "metadata": {},
   "source": [
    "### Analisis\n",
    "\n",
    "Kode tersebut menggunakan operator ternary untuk menentukan nilai terbesar antara x dan y. Jika x lebih besar dari y, maka max_value diisi dengan x; jika tidak, diisi dengan y. Karena x = 15 dan y = 20, kondisi x > y salah, sehingga max_value bernilai 20. Hasil yang dicetak adalah “Maximum value: 20”."
   ]
  },
  {
   "cell_type": "code",
   "execution_count": null,
   "id": "e96ed29a-0225-42ad-99f7-7c369da20aec",
   "metadata": {},
   "outputs": [
    {
     "name": "stdout",
     "output_type": "stream",
     "text": [
      "Welcome, Guest\n"
     ]
    }
   ],
   "source": [
    "username = \"\"\n",
    "display_name = username if username else \"Guest\"\n",
    "print(\"Welcome,\", display_name)\n"
   ]
  },
  {
   "cell_type": "markdown",
   "id": "3da0c8e9-340a-41a0-bd3e-52af62146265",
   "metadata": {},
   "source": [
    "### Analisis\n",
    "\n",
    "Kode tersebut menggunakan operator ternary untuk menentukan nilai yang akan ditampilkan sebagai nama pengguna. Jika variabel username berisi teks (tidak kosong), maka display_name akan bernilai sama dengan username. Namun, jika username kosong (seperti pada contoh), maka display_name diisi dengan string \"Guest\". Karena username kosong, output yang dihasilkan adalah “Welcome, Guest”."
   ]
  },
  {
   "cell_type": "markdown",
   "id": "bffc9cf2-0fb2-4032-8d15-cd921d03485b",
   "metadata": {},
   "source": [
    "## The and Operator"
   ]
  },
  {
   "cell_type": "code",
   "execution_count": null,
   "id": "c4f978e3-bf2b-481f-a6cc-68d8f8537d38",
   "metadata": {},
   "outputs": [
    {
     "name": "stdout",
     "output_type": "stream",
     "text": [
      "Both conditions are True\n"
     ]
    }
   ],
   "source": [
    "a = 200\n",
    "b = 33\n",
    "c = 500\n",
    "if a > b and c > a:\n",
    "  print(\"Both conditions are True\")"
   ]
  },
  {
   "cell_type": "markdown",
   "id": "7af043d5-f077-47f2-8bc2-9f620987e68c",
   "metadata": {},
   "source": [
    "### Analisis\n",
    "\n",
    "Kode tersebut menggunakan operator logika and untuk memeriksa dua kondisi sekaligus. Kondisi pertama adalah a > b, dan kondisi kedua adalah c > a. Keduanya harus bernilai True agar perintah di dalam blok if dijalankan. Dengan nilai a = 200, b = 33, dan c = 500, kedua kondisi benar karena 200 lebih besar dari 33 dan 500 lebih besar dari 200. Akibatnya, program mencetak “Both conditions are True”."
   ]
  },
  {
   "cell_type": "markdown",
   "id": "40e44e08-f98f-4abe-a2a8-30ca3dd4135c",
   "metadata": {},
   "source": [
    "## The or Operator"
   ]
  },
  {
   "cell_type": "code",
   "execution_count": null,
   "id": "dde1382b-c6ad-4417-abd7-10eb583076f5",
   "metadata": {},
   "outputs": [
    {
     "name": "stdout",
     "output_type": "stream",
     "text": [
      "At least one of the conditions is True\n"
     ]
    }
   ],
   "source": [
    "a = 200\n",
    "b = 33\n",
    "c = 500\n",
    "if a > b or a > c:\n",
    "  print(\"At least one of the conditions is True\")"
   ]
  },
  {
   "cell_type": "markdown",
   "id": "8a120f73-acc8-4097-94f1-88ee550c3315",
   "metadata": {},
   "source": [
    "### Analisis\n",
    "\n",
    "Kode tersebut menggunakan operator logika or untuk memeriksa dua kondisi: apakah a > b atau a > c. Jika salah satu dari kondisi tersebut bernilai True, maka perintah di dalam blok if akan dijalankan. Dengan nilai a = 200, b = 33, dan c = 500, kondisi a > b benar (karena 200 lebih besar dari 33), meskipun a > c salah. Karena operator or hanya membutuhkan satu kondisi benar, hasilnya tetap True, sehingga program mencetak “At least one of the conditions is True”."
   ]
  },
  {
   "cell_type": "markdown",
   "id": "9955fc17-3710-4d91-bfae-5c8c8d0c49a0",
   "metadata": {},
   "source": [
    "## The not Operator"
   ]
  },
  {
   "cell_type": "code",
   "execution_count": null,
   "id": "c4ef23c0-c1ed-40e4-8c22-770ef9785ce4",
   "metadata": {},
   "outputs": [
    {
     "name": "stdout",
     "output_type": "stream",
     "text": [
      "a is NOT greater than b\n"
     ]
    }
   ],
   "source": [
    "a = 33\n",
    "b = 200\n",
    "if not a > b:\n",
    "  print(\"a is NOT greater than b\")"
   ]
  },
  {
   "cell_type": "markdown",
   "id": "fde5449c-f29c-44d1-a3c4-e671eb15a821",
   "metadata": {},
   "source": [
    "### Analisis\n",
    "\n",
    "Kode tersebut menggunakan operator logika not untuk membalik hasil dari kondisi a > b. Dengan nilai a = 33 dan b = 200, kondisi a > b bernilai False karena 33 tidak lebih besar dari 200. Namun, karena ada not, hasilnya dibalik menjadi True, sehingga perintah di dalam blok if dijalankan dan program mencetak “a is NOT greater than b”."
   ]
  },
  {
   "cell_type": "markdown",
   "id": "5008bf47-4c80-4398-b73f-2f74e367e32a",
   "metadata": {},
   "source": [
    "## Combining Multiple Operators"
   ]
  },
  {
   "cell_type": "code",
   "execution_count": null,
   "id": "05b7adef-9585-4483-ab96-edb09268ea50",
   "metadata": {},
   "outputs": [
    {
     "name": "stdout",
     "output_type": "stream",
     "text": [
      "Discount applies!\n"
     ]
    }
   ],
   "source": [
    "age = 25\n",
    "is_student = False\n",
    "has_discount_code = True\n",
    "\n",
    "if (age < 18 or age > 65) and not is_student or has_discount_code:\n",
    "  print(\"Discount applies!\")"
   ]
  },
  {
   "cell_type": "markdown",
   "id": "9934f63b-254a-4caf-b15b-9d70909cf44e",
   "metadata": {},
   "source": [
    "### Analisis\n",
    "\n",
    "Kode tersebut memeriksa syarat diskon dengan operator logika. Karena umur 25 tidak memenuhi syarat usia, tetapi memiliki has_discount_code = True, kondisi menjadi benar dan program mencetak “Discount applies!”."
   ]
  },
  {
   "cell_type": "markdown",
   "id": "2f0d9c0b-eb16-4a17-bae0-ea51371c3afd",
   "metadata": {},
   "source": [
    "## Using Parentheses for Clarity"
   ]
  },
  {
   "cell_type": "code",
   "execution_count": null,
   "id": "9cbe4a2f-d69e-489a-bfb6-8af66c395279",
   "metadata": {},
   "outputs": [
    {
     "name": "stdout",
     "output_type": "stream",
     "text": [
      "Great day for outdoor activities!\n"
     ]
    }
   ],
   "source": [
    "temperature = 25\n",
    "is_raining = False\n",
    "is_weekend = True\n",
    "\n",
    "if (temperature > 20 and not is_raining) or is_weekend:\n",
    "  print(\"Great day for outdoor activities!\")"
   ]
  },
  {
   "cell_type": "markdown",
   "id": "cb8762f0-e796-42e5-ace3-4896b3971e36",
   "metadata": {},
   "source": [
    "### Analisis\n",
    "\n",
    "Kode tersebut menggunakan operator logika and, or, dan not untuk menentukan apakah hari tersebut cocok untuk aktivitas luar ruangan. Kondisi if menyatakan bahwa jika suhu lebih dari 20 derajat dan tidak hujan, atau hari itu adalah akhir pekan, maka akan mencetak “Great day for outdoor activities!”. Pada kode ini, temperature = 25, is_raining = False, dan is_weekend = True. Karena suhu tinggi dan tidak hujan, bagian pertama sudah benar, dan ditambah is_weekend juga True, maka seluruh kondisi bernilai True. Akibatnya, program mencetak “Great day for outdoor activities!”."
   ]
  },
  {
   "cell_type": "markdown",
   "id": "84523925-7d15-4f6e-ad79-6a11bc702323",
   "metadata": {},
   "source": [
    "## More Examples"
   ]
  },
  {
   "cell_type": "code",
   "execution_count": null,
   "id": "fd43db0f-3d83-488a-9200-2d138ac782c9",
   "metadata": {},
   "outputs": [
    {
     "name": "stdout",
     "output_type": "stream",
     "text": [
      "Login successful\n"
     ]
    }
   ],
   "source": [
    "username = \"Tobias\"\n",
    "password = \"secret123\"\n",
    "is_verified = True\n",
    "\n",
    "if username and password and is_verified:\n",
    "  print(\"Login successful\")\n",
    "else:\n",
    "  print(\"Login failed\")"
   ]
  },
  {
   "cell_type": "markdown",
   "id": "9fa8c804-cecd-45a5-aa70-7f5c113b353f",
   "metadata": {},
   "source": [
    "### Analisis\n",
    "\n",
    "Kode tersebut memeriksa tiga kondisi sekaligus menggunakan operator logika and. Kondisinya adalah: username harus terisi, password harus terisi, dan is_verified harus bernilai True. Semua kondisi ini harus benar agar login dianggap berhasil. Pada contoh ini, username = \"Tobias\", password = \"secret123\", dan is_verified = True, sehingga semua kondisi terpenuhi. Hasilnya, program mencetak “Login successful”."
   ]
  },
  {
   "cell_type": "code",
   "execution_count": null,
   "id": "46be5c56-40ef-4280-9b46-40f4014c9970",
   "metadata": {},
   "outputs": [
    {
     "name": "stdout",
     "output_type": "stream",
     "text": [
      "Valid score\n"
     ]
    }
   ],
   "source": [
    "score = 85\n",
    "\n",
    "if score >= 0 and score <= 100:\n",
    "  print(\"Valid score\")\n",
    "else:\n",
    "  print(\"Invalid score\")"
   ]
  },
  {
   "cell_type": "markdown",
   "id": "a4d677be-1639-4a71-b3dd-9abd5df21dbc",
   "metadata": {},
   "source": [
    "### Analisis\n",
    "\n",
    "Kode tersebut menggunakan operator logika and untuk memeriksa apakah nilai score berada dalam rentang 0 hingga 100. Jika kedua kondisi (score >= 0 dan score <= 100) benar, maka program mencetak “Valid score”. Jika salah satu kondisi tidak terpenuhi, artinya nilai berada di luar rentang tersebut, maka akan mencetak “Invalid score”. Karena score = 85, yang berada dalam rentang 0–100, hasil outputnya adalah “Valid score”."
   ]
  },
  {
   "cell_type": "markdown",
   "id": "59ff641c-38a4-4d71-8e6a-30d6492472eb",
   "metadata": {},
   "source": [
    "## Nested If Statements"
   ]
  },
  {
   "cell_type": "code",
   "execution_count": null,
   "id": "9cfd07ec-712f-439a-8cd4-15f5b90b53b0",
   "metadata": {},
   "outputs": [
    {
     "name": "stdout",
     "output_type": "stream",
     "text": [
      "Above ten,\n",
      "and also above 20!\n"
     ]
    }
   ],
   "source": [
    "x = 41\n",
    "\n",
    "if x > 10:\n",
    "  print(\"Above ten,\")\n",
    "  if x > 20:\n",
    "    print(\"and also above 20!\")\n",
    "  else:\n",
    "    print(\"but not above 20.\")\n"
   ]
  },
  {
   "cell_type": "markdown",
   "id": "e887dd5a-70fa-490c-8b3d-7082395db54e",
   "metadata": {},
   "source": [
    "### Analisis\n",
    "\n",
    "Kode tersebut menggunakan percabangan bersarang (nested if) untuk memeriksa dua kondisi berurutan. Pertama, program mengecek apakah x > 10. Jika benar, maka mencetak “Above ten,”. Setelah itu, di dalam blok yang sama, ada if kedua yang memeriksa apakah x > 20. Jika benar, program mencetak “and also above 20!”, tetapi jika salah, mencetak “but not above 20.”. Karena x = 41, kedua kondisi x > 10 dan x > 20 bernilai benar."
   ]
  },
  {
   "cell_type": "markdown",
   "id": "07185133-278a-42a1-9dfe-c3d3126a327d",
   "metadata": {},
   "source": [
    "## How Nested If Works"
   ]
  },
  {
   "cell_type": "code",
   "execution_count": null,
   "id": "a0d2df05-5d65-4253-ae06-c6c8f2ae219b",
   "metadata": {},
   "outputs": [
    {
     "name": "stdout",
     "output_type": "stream",
     "text": [
      "You can drive\n"
     ]
    }
   ],
   "source": [
    "age = 25\n",
    "has_license = True\n",
    "\n",
    "if age >= 18:\n",
    "  if has_license:\n",
    "    print(\"You can drive\")\n",
    "  else:\n",
    "    print(\"You need a license\")\n",
    "else:\n",
    "  print(\"You are too young to drive\")"
   ]
  },
  {
   "cell_type": "markdown",
   "id": "159d7a98-93e4-4418-9aa3-d3969a70772a",
   "metadata": {},
   "source": [
    "### Analisis\n",
    "\n",
    "Kode tersebut menggunakan percabangan bersarang (nested if) untuk menentukan apakah seseorang boleh mengemudi. Pertama, program memeriksa apakah age >= 18. Jika benar, maka lanjut memeriksa apakah has_license bernilai True. Jika kedua kondisi terpenuhi, program mencetak “You can drive”. Jika usia cukup tapi tidak memiliki lisensi, akan mencetak “You need a license”. Jika umur kurang dari 18, program mencetak “You are too young to drive”. Karena age = 25 dan has_license = True, outputnya adalah “You can drive”."
   ]
  },
  {
   "cell_type": "markdown",
   "id": "6d12a38d-8643-4f04-87b8-5931471b1d92",
   "metadata": {},
   "source": [
    "## Multiple Levels of Nesting"
   ]
  },
  {
   "cell_type": "code",
   "execution_count": null,
   "id": "01fa04f1-f29b-4b06-9702-9d119622fcfa",
   "metadata": {},
   "outputs": [
    {
     "name": "stdout",
     "output_type": "stream",
     "text": [
      "Pass with good standing\n"
     ]
    }
   ],
   "source": [
    "score = 85\n",
    "attendance = 90\n",
    "submitted = True\n",
    "\n",
    "if score >= 60:\n",
    "  if attendance >= 80:\n",
    "    if submitted:\n",
    "      print(\"Pass with good standing\")\n",
    "    else:\n",
    "      print(\"Pass but missing assignment\")\n",
    "  else:\n",
    "    print(\"Pass but low attendance\")\n",
    "else:\n",
    "  print(\"Fail\")"
   ]
  },
  {
   "cell_type": "markdown",
   "id": "6efc367f-324b-431a-842a-fcc2363790db",
   "metadata": {},
   "source": [
    "### Analisis\n",
    "\n",
    "Kode tersebut menggunakan percabangan bersarang (nested if) untuk menilai kelulusan berdasarkan tiga kriteria: nilai (score), kehadiran (attendance), dan pengumpulan tugas (submitted). Pertama, program memeriksa apakah score >= 60. Jika ya, lanjut memeriksa apakah attendance >= 80. Jika kedua syarat terpenuhi, program mengecek submitted. Jika submitted bernilai True, maka mencetak “Pass with good standing”. Jika tidak, mencetak “Pass but missing assignment”. Jika kehadiran kurang dari 80, mencetak “Pass but low attendance”, dan jika nilai di bawah 60, mencetak “Fail”. Karena score = 85, attendance = 90, dan submitted = True, semua kondisi terpenuhi, sehingga outputnya adalah “Pass with good standing”."
   ]
  },
  {
   "cell_type": "markdown",
   "id": "b374e8e1-b382-412d-8288-5c1ea70dd9c2",
   "metadata": {},
   "source": [
    "## Nested If vs Logical Operators"
   ]
  },
  {
   "cell_type": "code",
   "execution_count": null,
   "id": "62764057-4a64-4663-bcc1-1b234199c984",
   "metadata": {},
   "outputs": [
    {
     "name": "stdout",
     "output_type": "stream",
     "text": [
      "Perfect beach weather!\n"
     ]
    }
   ],
   "source": [
    "temperature = 25\n",
    "is_sunny = True\n",
    "\n",
    "if temperature > 20:\n",
    "  if is_sunny:\n",
    "    print(\"Perfect beach weather!\")"
   ]
  },
  {
   "cell_type": "markdown",
   "id": "15375267-e95c-44c1-ad80-502b7b7cb0b0",
   "metadata": {},
   "source": [
    "### Analisis\n",
    "\n",
    "Kode tersebut menggunakan percabangan bersarang (nested if) untuk mengecek dua kondisi: suhu (temperature) dan cuaca (is_sunny). Pertama, program memeriksa apakah temperature > 20. Jika benar, maka lanjut memeriksa apakah is_sunny bernilai True. Jika kedua kondisi terpenuhi, program mencetak “Perfect beach weather!”. Karena temperature = 25 (lebih dari 20) dan is_sunny = True, kedua syarat terpenuhi, sehingga output yang dihasilkan adalah “Perfect beach weather!”."
   ]
  },
  {
   "cell_type": "code",
   "execution_count": null,
   "id": "fed2ecd5-238a-44b2-b8c2-e7bd520fa61d",
   "metadata": {},
   "outputs": [
    {
     "name": "stdout",
     "output_type": "stream",
     "text": [
      "Perfect beach weather!\n"
     ]
    }
   ],
   "source": [
    "temperature = 25\n",
    "is_sunny = True\n",
    "\n",
    "if temperature > 20 and is_sunny:\n",
    "  print(\"Perfect beach weather!\")"
   ]
  },
  {
   "cell_type": "markdown",
   "id": "bf2b00fc-8fe8-4b9a-8c28-d3c3dfd34b06",
   "metadata": {},
   "source": [
    "### Analisis\n",
    "\n",
    "Kode tersebut menggunakan operator logika and untuk memeriksa dua kondisi sekaligus dalam satu baris if. Kondisinya adalah suhu (temperature) harus lebih dari 20 dan cuaca (is_sunny) harus True. Jika kedua kondisi benar, maka program mencetak “Perfect beach weather!”. Karena temperature = 25 dan is_sunny = True, kedua syarat terpenuhi, sehingga output yang dihasilkan adalah “Perfect beach weather!”."
   ]
  },
  {
   "cell_type": "markdown",
   "id": "4716a296-dd8b-423b-9da4-72cb0fd64791",
   "metadata": {},
   "source": [
    "## More Examples"
   ]
  },
  {
   "cell_type": "code",
   "execution_count": null,
   "id": "6db98b5d-d0e1-46bb-9ac6-98fa493990ee",
   "metadata": {},
   "outputs": [
    {
     "name": "stdout",
     "output_type": "stream",
     "text": [
      "Login successful\n"
     ]
    }
   ],
   "source": [
    "username = \"Emil\"\n",
    "password = \"python123\"\n",
    "is_active = True\n",
    "\n",
    "if username:\n",
    "  if password:\n",
    "    if is_active:\n",
    "      print(\"Login successful\")\n",
    "    else:\n",
    "      print(\"Account is not active\")\n",
    "  else:\n",
    "    print(\"Password required\")\n",
    "else:\n",
    "  print(\"Username required\")"
   ]
  },
  {
   "cell_type": "markdown",
   "id": "3459bac0-00a7-452c-ac01-90183ea0000b",
   "metadata": {},
   "source": [
    "### Analisis\n",
    "\n",
    "Kode tersebut menggunakan percabangan bersarang (nested if) untuk memeriksa proses login secara bertahap. Pertama, program mengecek apakah variabel username berisi nilai. Jika ya, dilanjutkan dengan pengecekan apakah password juga terisi. Jika kedua kondisi terpenuhi, program memeriksa apakah akun aktif melalui is_active. Jika semua bernilai benar, maka mencetak “Login successful”. Jika akun tidak aktif, mencetak “Account is not active”. Jika password kosong, mencetak “Password required”, dan jika username kosong, mencetak “Username required”. Karena username = \"Emil\", password = \"python123\", dan is_active = True, semua kondisi terpenuhi, sehingga outputnya adalah “Login successful”."
   ]
  },
  {
   "cell_type": "code",
   "execution_count": null,
   "id": "7e4c2e6b-27de-4d53-8a6e-8b045c8ada24",
   "metadata": {},
   "outputs": [
    {
     "name": "stdout",
     "output_type": "stream",
     "text": [
      "A+ grade\n"
     ]
    }
   ],
   "source": [
    "score = 92\n",
    "extra_credit = 5\n",
    "\n",
    "if score >= 90:\n",
    "  if extra_credit > 0:\n",
    "    print(\"A+ grade\")\n",
    "  else:\n",
    "    print(\"A grade\")\n",
    "elif score >= 80:\n",
    "  print(\"B grade\")\n",
    "else:\n",
    "  print(\"C grade or below\")"
   ]
  },
  {
   "cell_type": "markdown",
   "id": "b9909ff9-4ca0-4ea3-9cd2-9d0db26d2535",
   "metadata": {},
   "source": [
    "### Analisis\n",
    "\n",
    "Kode tersebut menggunakan percabangan bersarang (nested if-elif-else) untuk menentukan nilai akhir berdasarkan score dan extra_credit. Pertama, program memeriksa apakah score >= 90. Jika benar, maka memeriksa apakah extra_credit > 0. Jika ya, mencetak “A+ grade”, jika tidak, mencetak “A grade”. Jika nilai tidak mencapai 90, program melanjutkan ke elif score >= 80 dan mencetak “B grade”, atau ke else untuk nilai di bawah 80 dengan output “C grade or below”. Karena score = 92 dan extra_credit = 5, kedua kondisi pertama benar, sehingga program mencetak “A+ grade”."
   ]
  },
  {
   "cell_type": "markdown",
   "id": "376f2f99-75c6-40ea-85bc-4318f31c8c32",
   "metadata": {},
   "source": [
    "## The pass Statement"
   ]
  },
  {
   "cell_type": "code",
   "execution_count": null,
   "id": "c450b9f5-28fd-450a-b58f-c26bd4e60840",
   "metadata": {},
   "outputs": [],
   "source": [
    "a = 33\n",
    "b = 200\n",
    "\n",
    "if b > a:\n",
    "  pass"
   ]
  },
  {
   "cell_type": "markdown",
   "id": "520336f3-1049-4316-a56c-4af8ba8ceeb0",
   "metadata": {},
   "source": [
    "### Analisis\n",
    "\n",
    "Kode tersebut menggunakan pernyataan pass di dalam blok if. Kondisi if b > a memeriksa apakah b lebih besar dari a, dan dalam kasus ini benar karena 200 lebih besar dari 33. Namun, karena blok if hanya berisi pass, program tidak melakukan apa pun meskipun kondisi benar. Pernyataan pass digunakan sebagai placeholder, artinya blok tersebut sengaja dibiarkan kosong tanpa menyebabkan error sintaks."
   ]
  },
  {
   "cell_type": "markdown",
   "id": "63db41ba-4505-4f5d-ad72-0bd8e2228b54",
   "metadata": {},
   "source": [
    "## pass in Development"
   ]
  },
  {
   "cell_type": "code",
   "execution_count": null,
   "id": "510bc955-dbcc-4470-9008-0e7179b8a8f9",
   "metadata": {},
   "outputs": [],
   "source": [
    "age = 16\n",
    "\n",
    "if age < 18:\n",
    "  pass # TODO: Add underage logic later\n",
    "else:\n",
    "  print(\"Access granted\")"
   ]
  },
  {
   "cell_type": "markdown",
   "id": "7c9abe9b-2991-4340-a51c-93c8b9833224",
   "metadata": {},
   "source": [
    "### Analisis\n",
    "\n",
    "Kode tersebut menggunakan pernyataan pass sebagai placeholder dalam blok if. Program memeriksa apakah age < 18. Jika benar, blok if dijalankan, tetapi karena hanya berisi pass, tidak ada aksi yang dilakukan—komentar # TODO: Add underage logic later menunjukkan bahwa logika tambahan akan ditulis nanti. Jika kondisi salah (usia 18 atau lebih), maka program mencetak “Access granted”. Karena age = 16, kondisi age < 18 benar, jadi program tidak menampilkan output apa pun."
   ]
  },
  {
   "cell_type": "markdown",
   "id": "9019b186-4943-4ab1-8001-8242ad3c096d",
   "metadata": {},
   "source": [
    "## pass vs Comments"
   ]
  },
  {
   "cell_type": "code",
   "execution_count": null,
   "id": "5d1a95fc-8b0d-4a7e-8fa4-173ea19c23f0",
   "metadata": {},
   "outputs": [
    {
     "name": "stdout",
     "output_type": "stream",
     "text": [
      "Score processed\n"
     ]
    }
   ],
   "source": [
    "score = 85\n",
    "\n",
    "if score > 90:\n",
    "  pass # This is excellent\n",
    "print(\"Score processed\")"
   ]
  },
  {
   "cell_type": "markdown",
   "id": "3a7f6fc2-ac8c-4c83-8b73-d92eb10579a3",
   "metadata": {},
   "source": [
    "### Analisis\n",
    "\n",
    "Kode tersebut menggunakan pass sebagai placeholder di dalam blok if. Program memeriksa apakah score > 90. Jika kondisi benar, blok if akan dijalankan, tetapi karena hanya berisi pass, tidak ada tindakan yang dilakukan. Jika kondisi salah, blok if dilewati dan program tetap melanjutkan eksekusi. Karena score = 85 tidak lebih besar dari 90, kondisi if salah, dan program langsung mencetak “Score processed”."
   ]
  },
  {
   "cell_type": "markdown",
   "id": "fe1f11df-4aa2-4e64-9f74-c8447f77223f",
   "metadata": {},
   "source": [
    "## pass with Multiple Conditions"
   ]
  },
  {
   "cell_type": "code",
   "execution_count": null,
   "id": "439a7810-f630-439f-8787-91c9c26b5e91",
   "metadata": {},
   "outputs": [
    {
     "name": "stdout",
     "output_type": "stream",
     "text": [
      "Positive value\n"
     ]
    }
   ],
   "source": [
    "value = 50\n",
    "\n",
    "if value < 0:\n",
    "  print(\"Negative value\")\n",
    "elif value == 0:\n",
    "  pass # Zero case - no action needed\n",
    "else:\n",
    "  print(\"Positive value\")"
   ]
  },
  {
   "cell_type": "markdown",
   "id": "3cf76210-9dc4-4d40-b6b0-ed45b509f980",
   "metadata": {},
   "source": [
    "### Analisis\n",
    "\n",
    "Kode tersebut menggunakan percabangan if-elif-else untuk mengelompokkan nilai value. Jika value kurang dari 0, program mencetak “Negative value”. Jika value sama dengan 0, blok elif dijalankan, tetapi hanya berisi pass, sehingga tidak melakukan apa pun — ini menandakan bagian tersebut disiapkan untuk logika tambahan di masa depan. Jika kedua kondisi sebelumnya tidak terpenuhi, maka program mencetak “Positive value”. Karena value = 50, kondisi terakhir yang terpenuhi, sehingga outputnya adalah “Positive value”."
   ]
  },
  {
   "cell_type": "markdown",
   "id": "088420c9-f40c-4428-ae04-410a4c7b0283",
   "metadata": {},
   "source": [
    "## pass in Other Contexts"
   ]
  },
  {
   "cell_type": "code",
   "execution_count": null,
   "id": "65ffb072-50a2-4245-95eb-3433d9dcd8cc",
   "metadata": {},
   "outputs": [],
   "source": [
    "def calculate_discount(price):\n",
    "  pass # TODO: Implement discount logic\n",
    "\n",
    "# Function exists but doesn't do anything yet"
   ]
  },
  {
   "cell_type": "markdown",
   "id": "bc789174-00cd-434f-a125-99eb9dd21f97",
   "metadata": {},
   "source": [
    "### Analisis\n",
    "\n",
    "Kode tersebut mendefinisikan sebuah fungsi bernama calculate_discount dengan satu parameter, yaitu price. Namun, di dalam fungsi hanya terdapat pernyataan pass, yang berarti fungsi tersebut belum memiliki logika atau tindakan apa pun. Komentar # TODO: Implement discount logic menunjukkan bahwa fungsi ini direncanakan untuk diisi dengan perhitungan diskon di kemudian hari. Saat ini, jika fungsi dipanggil, tidak akan menghasilkan output atau melakukan proses apa pun."
   ]
  },
  {
   "cell_type": "markdown",
   "id": "05f41644-de4f-4943-9bac-6ca38593a590",
   "metadata": {},
   "source": [
    "## The Python Match Statement"
   ]
  },
  {
   "cell_type": "code",
   "execution_count": null,
   "id": "4c46e354-f080-44ee-8179-00bf05f02e41",
   "metadata": {},
   "outputs": [
    {
     "name": "stdout",
     "output_type": "stream",
     "text": [
      "Thursday\n"
     ]
    }
   ],
   "source": [
    "day = 4\n",
    "match day:\n",
    "  case 1:\n",
    "    print(\"Monday\")\n",
    "  case 2:\n",
    "    print(\"Tuesday\")\n",
    "  case 3:\n",
    "    print(\"Wednesday\")\n",
    "  case 4:\n",
    "    print(\"Thursday\")\n",
    "  case 5:\n",
    "    print(\"Friday\")\n",
    "  case 6:\n",
    "    print(\"Saturday\")\n",
    "  case 7:\n",
    "    print(\"Sunday\")"
   ]
  },
  {
   "cell_type": "markdown",
   "id": "0169831b-00c8-4489-b3b4-545780d4eedc",
   "metadata": {},
   "source": [
    "### Analisis\n",
    "\n",
    "Kode tersebut menggunakan struktur kontrol match-case yang diperkenalkan di Python 3.10 sebagai alternatif dari banyak if-elif-else. Nilai variabel day dibandingkan dengan setiap case yang mewakili angka 1 sampai 7, masing-masing mencetak nama hari sesuai angkanya. Jika nilai day cocok dengan salah satu case, maka blok perintah di dalamnya dijalankan. Dalam kode ini, day = 4, sehingga program mencocokkan case 4 dan mencetak “Thursday”. Jika tidak ada kecocokan, program tidak akan mencetak apa pun (karena tidak ada case _ sebagai default)."
   ]
  },
  {
   "cell_type": "markdown",
   "id": "a2927ea1-b235-4b6c-abd6-e8f72d7783b5",
   "metadata": {},
   "source": [
    "## Default Value"
   ]
  },
  {
   "cell_type": "code",
   "execution_count": null,
   "id": "f31e00cc-f3a5-4117-93df-06aa4ca07bc7",
   "metadata": {},
   "outputs": [
    {
     "name": "stdout",
     "output_type": "stream",
     "text": [
      "Looking forward to the Weekend\n"
     ]
    }
   ],
   "source": [
    "day = 4\n",
    "match day:\n",
    "  case 6:\n",
    "    print(\"Today is Saturday\")\n",
    "  case 7:\n",
    "    print(\"Today is Sunday\")\n",
    "  case _:\n",
    "    print(\"Looking forward to the Weekend\")"
   ]
  },
  {
   "cell_type": "markdown",
   "id": "36e85c9e-0242-405e-89e5-b9724b0274ae",
   "metadata": {},
   "source": [
    "### Analisis\n",
    "\n",
    "Kode tersebut menggunakan struktur match-case untuk memeriksa nilai variabel day. Setiap case mewakili kondisi tertentu, mirip dengan switch di bahasa lain. Jika day bernilai 6, program mencetak “Today is Saturday”; jika 7, mencetak “Today is Sunday”. Tanda garis bawah (_) berfungsi sebagai default case, yang dijalankan jika tidak ada kondisi lain yang cocok. Karena day = 4, tidak cocok dengan case 6 atau case 7, maka program menjalankan case _ dan mencetak “Looking forward to the Weekend”."
   ]
  },
  {
   "cell_type": "markdown",
   "id": "09c3f50c-185a-4a74-a6fb-534f1adad58a",
   "metadata": {},
   "source": [
    "## Combine Values"
   ]
  },
  {
   "cell_type": "code",
   "execution_count": null,
   "id": "0d6a38a0-1338-4b2e-9752-84073d0bc654",
   "metadata": {},
   "outputs": [
    {
     "name": "stdout",
     "output_type": "stream",
     "text": [
      "Today is a weekday\n"
     ]
    }
   ],
   "source": [
    "day = 4\n",
    "match day:\n",
    "  case 1 | 2 | 3 | 4 | 5:\n",
    "    print(\"Today is a weekday\")\n",
    "  case 6 | 7:\n",
    "    print(\"I love weekends!\")"
   ]
  },
  {
   "cell_type": "markdown",
   "id": "73e608e4-2bd1-43d3-83aa-e98618ff641f",
   "metadata": {},
   "source": [
    "### Analisis\n",
    "\n",
    "Kode tersebut menggunakan struktur match-case dengan operator | (OR) untuk mencocokkan beberapa nilai dalam satu baris. Variabel day dibandingkan dengan beberapa kemungkinan nilai: jika day adalah 1, 2, 3, 4, atau 5, maka program mencetak “Today is a weekday”. Jika day adalah 6 atau 7, maka mencetak “I love weekends!”. Karena day = 4, kondisi pertama terpenuhi, sehingga output yang dihasilkan adalah “Today is a weekday”."
   ]
  },
  {
   "cell_type": "markdown",
   "id": "dede9bcd-89e8-4661-9183-7360d6020623",
   "metadata": {},
   "source": [
    "## If Statements as Guards"
   ]
  },
  {
   "cell_type": "code",
   "execution_count": null,
   "id": "a359b2ac-3635-47ec-90cf-d761982b3abe",
   "metadata": {},
   "outputs": [
    {
     "name": "stdout",
     "output_type": "stream",
     "text": [
      "A weekday in May\n"
     ]
    }
   ],
   "source": [
    "month = 5\n",
    "day = 4\n",
    "match day:\n",
    "  case 1 | 2 | 3 | 4 | 5 if month == 4:\n",
    "    print(\"A weekday in April\")\n",
    "  case 1 | 2 | 3 | 4 | 5 if month == 5:\n",
    "    print(\"A weekday in May\")\n",
    "  case _:\n",
    "    print(\"No match\")"
   ]
  },
  {
   "cell_type": "markdown",
   "id": "1bd2e1f0-1887-41e8-8acf-89afa29f4a48",
   "metadata": {},
   "source": [
    "### Analisis\n",
    "\n",
    "Kode tersebut menggunakan struktur match-case dengan kondisi tambahan (if) untuk mencocokkan nilai day dan month secara bersamaan. Program akan memeriksa apakah day termasuk 1–5 dan apakah month bernilai 4, lalu mencetak “A weekday in April”. Jika day termasuk 1–5 dan month bernilai 5, maka mencetak “A weekday in May”. Jika tidak ada kondisi yang cocok, maka menjalankan case _ dan mencetak “No match”. Karena pada kode ini month = 5 dan day = 4, kondisi kedua terpenuhi, sehingga output yang dihasilkan adalah “A weekday in May”."
   ]
  },
  {
   "cell_type": "code",
   "execution_count": null,
   "id": "ccbac665-8b66-49c3-8bf6-9123c777b9dc",
   "metadata": {},
   "outputs": [],
   "source": []
  }
 ],
 "metadata": {
  "kernelspec": {
   "display_name": "Python [conda env:base] *",
   "language": "python",
   "name": "conda-base-py"
  },
  "language_info": {
   "codemirror_mode": {
    "name": "ipython",
    "version": 3
   },
   "file_extension": ".py",
   "mimetype": "text/x-python",
   "name": "python",
   "nbconvert_exporter": "python",
   "pygments_lexer": "ipython3",
   "version": "3.13.5"
  }
 },
 "nbformat": 4,
 "nbformat_minor": 5
}
