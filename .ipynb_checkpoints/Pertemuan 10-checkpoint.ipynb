{
 "cells": [
  {
   "cell_type": "code",
   "execution_count": null,
   "id": "9d03b1a6-f5aa-4b1a-802d-882dac260594",
   "metadata": {},
   "outputs": [],
   "source": [
    "Ini adalah percobaan pertama membuat kode menggunakan "
   ]
  },
  {
   "cell_type": "code",
   "execution_count": 1,
   "id": "5c56603f-b453-4cac-830d-6c8f69f95891",
   "metadata": {},
   "outputs": [
    {
     "name": "stdout",
     "output_type": "stream",
     "text": [
      "Nama: Siti Nurkhalisah\n",
      "NIM: 240210501046\n"
     ]
    }
   ],
   "source": [
    "print(\"Nama: Siti Nurkhalisah\")\n",
    "print (\"NIM: 240210501046\")"
   ]
  },
  {
   "cell_type": "code",
   "execution_count": 2,
   "id": "84b15ebc-f975-4c05-a5ca-29fd76ca0050",
   "metadata": {},
   "outputs": [
    {
     "name": "stdout",
     "output_type": "stream",
     "text": [
      "Hello World\n"
     ]
    }
   ],
   "source": [
    "print (\"Hello World\")"
   ]
  },
  {
   "cell_type": "code",
   "execution_count": 3,
   "id": "d9acc388-5c43-486a-98e3-15f7b39853d5",
   "metadata": {},
   "outputs": [],
   "source": [
    "a = 10"
   ]
  },
  {
   "cell_type": "code",
   "execution_count": 7,
   "id": "88463fd7-34e6-4c98-87ee-a16cfbdc89f0",
   "metadata": {},
   "outputs": [
    {
     "name": "stdout",
     "output_type": "stream",
     "text": [
      "10\n"
     ]
    }
   ],
   "source": [
    "print(a)"
   ]
  },
  {
   "cell_type": "code",
   "execution_count": 5,
   "id": "a08f27f7-530e-47e1-ad8a-9d0749008cdf",
   "metadata": {},
   "outputs": [],
   "source": [
    "b = \"Adam\""
   ]
  },
  {
   "cell_type": "code",
   "execution_count": 6,
   "id": "7f3b908b-5289-452b-ba2f-863ba97d6a81",
   "metadata": {},
   "outputs": [
    {
     "name": "stdout",
     "output_type": "stream",
     "text": [
      "Adam\n"
     ]
    }
   ],
   "source": [
    "print(b)"
   ]
  },
  {
   "cell_type": "code",
   "execution_count": 8,
   "id": "465739e6-02d9-41df-b84b-d64680c7e630",
   "metadata": {},
   "outputs": [
    {
     "name": "stdout",
     "output_type": "stream",
     "text": [
      "Hello, World!\n"
     ]
    }
   ],
   "source": [
    "print(\"Hello, World!\")"
   ]
  },
  {
   "cell_type": "code",
   "execution_count": 9,
   "id": "4100586a-ee26-4fbf-be08-76b2adae994d",
   "metadata": {},
   "outputs": [
    {
     "name": "stdout",
     "output_type": "stream",
     "text": [
      "3.13.5 | packaged by Anaconda, Inc. | (main, Jun 12 2025, 16:37:03) [MSC v.1929 64 bit (AMD64)]\n"
     ]
    }
   ],
   "source": [
    "import sys\n",
    "\n",
    "print(sys.version)"
   ]
  },
  {
   "cell_type": "code",
   "execution_count": 11,
   "id": "95c58738-d1df-48e7-823d-176bea4ef95c",
   "metadata": {},
   "outputs": [
    {
     "name": "stdout",
     "output_type": "stream",
     "text": [
      "Five is greater than two!\n"
     ]
    }
   ],
   "source": [
    "if 5 > 2:\n",
    "  print(\"Five is greater than two!\")"
   ]
  },
  {
   "cell_type": "code",
   "execution_count": 12,
   "id": "c98d2215-0482-444c-ab12-06713c8cc628",
   "metadata": {},
   "outputs": [
    {
     "name": "stdout",
     "output_type": "stream",
     "text": [
      "Five is greater than two!\n",
      "Five is greater than two!\n"
     ]
    }
   ],
   "source": [
    "if 5 > 2:\n",
    " print(\"Five is greater than two!\") \n",
    "if 5 > 2:\n",
    "        print(\"Five is greater than two!\") "
   ]
  },
  {
   "cell_type": "code",
   "execution_count": 13,
   "id": "ff0e1cfe-6f5d-4044-b5a8-6b2d51d10990",
   "metadata": {},
   "outputs": [],
   "source": [
    "x = 5\n",
    "y = \"Hello, World!\""
   ]
  },
  {
   "cell_type": "code",
   "execution_count": 14,
   "id": "0ace9178-d4ae-475a-8d85-dad6080b0905",
   "metadata": {},
   "outputs": [
    {
     "name": "stdout",
     "output_type": "stream",
     "text": [
      "Hello, World!\n"
     ]
    }
   ],
   "source": [
    "#This is a comment.\n",
    "print(\"Hello, World!\")"
   ]
  },
  {
   "cell_type": "code",
   "execution_count": 15,
   "id": "a8f38f50-420b-492d-baeb-6243d1a146cc",
   "metadata": {},
   "outputs": [
    {
     "name": "stdout",
     "output_type": "stream",
     "text": [
      "Python is fun!\n"
     ]
    }
   ],
   "source": [
    "print(\"Python is fun!\")"
   ]
  },
  {
   "cell_type": "code",
   "execution_count": 16,
   "id": "697f2029-6903-4131-b8de-c8a7263c81c8",
   "metadata": {},
   "outputs": [
    {
     "name": "stdout",
     "output_type": "stream",
     "text": [
      "Hello World!\n",
      "Have a good day.\n",
      "Learning Python is fun!\n"
     ]
    }
   ],
   "source": [
    "print(\"Hello World!\")\n",
    "print(\"Have a good day.\")\n",
    "print(\"Learning Python is fun!\")"
   ]
  },
  {
   "cell_type": "code",
   "execution_count": 17,
   "id": "2623dd50-25a5-4d46-94f4-1ccb17272a46",
   "metadata": {},
   "outputs": [
    {
     "name": "stdout",
     "output_type": "stream",
     "text": [
      "Hello\n",
      "How are you?\n",
      "Bye bye!\n"
     ]
    }
   ],
   "source": [
    "print(\"Hello\"); print(\"How are you?\"); print(\"Bye bye!\")"
   ]
  },
  {
   "cell_type": "code",
   "execution_count": 18,
   "id": "4eb32ad7-3c5a-42d3-b260-5bc75387475f",
   "metadata": {},
   "outputs": [
    {
     "name": "stdout",
     "output_type": "stream",
     "text": [
      "Hello World!\n",
      "I am learning Python.\n",
      "It is awesome!\n"
     ]
    }
   ],
   "source": [
    "print(\"Hello World!\")\n",
    "print(\"I am learning Python.\")\n",
    "print(\"It is awesome!\")"
   ]
  },
  {
   "cell_type": "code",
   "execution_count": 19,
   "id": "1afa8149-ff61-41f3-8a06-ca34125048c4",
   "metadata": {},
   "outputs": [
    {
     "name": "stdout",
     "output_type": "stream",
     "text": [
      "This will work!\n",
      "This will also work!\n"
     ]
    }
   ],
   "source": [
    "print(\"This will work!\")\n",
    "print('This will also work!')"
   ]
  },
  {
   "cell_type": "code",
   "execution_count": 20,
   "id": "ce737b78-8bc6-450d-b814-9152f4ee5988",
   "metadata": {},
   "outputs": [
    {
     "name": "stdout",
     "output_type": "stream",
     "text": [
      "Hello World! I will print on the same line.\n"
     ]
    }
   ],
   "source": [
    "print(\"Hello World!\", end=\" \")\n",
    "print(\"I will print on the same line.\")"
   ]
  },
  {
   "cell_type": "code",
   "execution_count": 21,
   "id": "c4638ab3-7c12-4334-8e14-b45c979939c6",
   "metadata": {},
   "outputs": [
    {
     "name": "stdout",
     "output_type": "stream",
     "text": [
      "3\n",
      "358\n",
      "50000\n"
     ]
    }
   ],
   "source": [
    "print(3)\n",
    "print(358)\n",
    "print(50000)"
   ]
  },
  {
   "cell_type": "code",
   "execution_count": 22,
   "id": "0dcbd7ba-9ec9-44e1-a6d5-693575f2157d",
   "metadata": {},
   "outputs": [
    {
     "name": "stdout",
     "output_type": "stream",
     "text": [
      "6\n",
      "10\n"
     ]
    }
   ],
   "source": [
    "print(3 + 3)\n",
    "print(2 * 5)"
   ]
  },
  {
   "cell_type": "code",
   "execution_count": 23,
   "id": "bb0e64b8-3ba2-4eaf-8777-ee8dcd0cb1bf",
   "metadata": {},
   "outputs": [
    {
     "name": "stdout",
     "output_type": "stream",
     "text": [
      "I am 35 years old.\n"
     ]
    }
   ],
   "source": [
    "print(\"I am\", 35, \"years old.\")"
   ]
  },
  {
   "cell_type": "code",
   "execution_count": 24,
   "id": "70b00752-30bb-4357-a669-b9d5e18e959b",
   "metadata": {},
   "outputs": [
    {
     "name": "stdout",
     "output_type": "stream",
     "text": [
      "5\n",
      "John\n"
     ]
    }
   ],
   "source": [
    "x = 5\n",
    "y = \"John\"\n",
    "print(x)\n",
    "print(y)"
   ]
  },
  {
   "cell_type": "code",
   "execution_count": 25,
   "id": "0425e33b-c545-44e9-a5f8-bdb9c6ed8e91",
   "metadata": {},
   "outputs": [
    {
     "name": "stdout",
     "output_type": "stream",
     "text": [
      "Sally\n"
     ]
    }
   ],
   "source": [
    "x = 4       # x is of type int\n",
    "x = \"Sally\" # x is now of type str\n",
    "print(x)"
   ]
  },
  {
   "cell_type": "code",
   "execution_count": 26,
   "id": "5fe4172e-66a0-4975-a159-a3a9567b6b99",
   "metadata": {},
   "outputs": [],
   "source": [
    "x = str(3)    # x will be '3'\n",
    "y = int(3)    # y will be 3\n",
    "z = float(3)  # z will be 3.0"
   ]
  },
  {
   "cell_type": "code",
   "execution_count": 27,
   "id": "9a2da4a5-9b8b-411d-95d2-ca0ec2b944ec",
   "metadata": {},
   "outputs": [
    {
     "name": "stdout",
     "output_type": "stream",
     "text": [
      "<class 'int'>\n",
      "<class 'str'>\n"
     ]
    }
   ],
   "source": [
    "x = 5\n",
    "y = \"John\"\n",
    "print(type(x))\n",
    "print(type(y))"
   ]
  },
  {
   "cell_type": "code",
   "execution_count": 28,
   "id": "b2da716b-858c-410c-9df3-f51d345717db",
   "metadata": {},
   "outputs": [],
   "source": [
    "a = 4\n",
    "A = \"Sally\"\n",
    "#A will not overwrite a"
   ]
  },
  {
   "cell_type": "code",
   "execution_count": 29,
   "id": "3760c1f0-e081-4923-bcaf-472d12494dbe",
   "metadata": {},
   "outputs": [],
   "source": [
    "myvar = \"John\"\n",
    "my_var = \"John\"\n",
    "_my_var = \"John\"\n",
    "myVar = \"John\"\n",
    "MYVAR = \"John\"\n",
    "myvar2 = \"John\""
   ]
  },
  {
   "cell_type": "code",
   "execution_count": 30,
   "id": "b8eb229a-17ed-420b-9b31-d0768088ff62",
   "metadata": {},
   "outputs": [],
   "source": [
    "myVariableName = \"John\""
   ]
  },
  {
   "cell_type": "code",
   "execution_count": 31,
   "id": "61c51e2e-4998-41d9-b2fa-e5046ba16800",
   "metadata": {},
   "outputs": [],
   "source": [
    "MyVariableName = \"John\""
   ]
  },
  {
   "cell_type": "code",
   "execution_count": 32,
   "id": "2f89f01a-8c49-4c70-b511-7a6c405ea449",
   "metadata": {},
   "outputs": [],
   "source": [
    "my_variable_name = \"John\""
   ]
  },
  {
   "cell_type": "code",
   "execution_count": 33,
   "id": "b7ee041f-6630-457c-b9d2-6ad694c2ad94",
   "metadata": {},
   "outputs": [
    {
     "name": "stdout",
     "output_type": "stream",
     "text": [
      "Orange\n",
      "Banana\n",
      "Cherry\n"
     ]
    }
   ],
   "source": [
    "x, y, z = \"Orange\", \"Banana\", \"Cherry\"\n",
    "print(x)\n",
    "print(y)\n",
    "print(z)"
   ]
  },
  {
   "cell_type": "code",
   "execution_count": 34,
   "id": "1101b8df-9453-4328-b882-285bd326000e",
   "metadata": {},
   "outputs": [
    {
     "name": "stdout",
     "output_type": "stream",
     "text": [
      "Orange\n",
      "Orange\n",
      "Orange\n"
     ]
    }
   ],
   "source": [
    "x = y = z = \"Orange\"\n",
    "print(x)\n",
    "print(y)\n",
    "print(z)"
   ]
  },
  {
   "cell_type": "code",
   "execution_count": 35,
   "id": "659ff958-0de9-4e6b-922b-0e0173b61635",
   "metadata": {},
   "outputs": [
    {
     "name": "stdout",
     "output_type": "stream",
     "text": [
      "apple\n",
      "banana\n",
      "cherry\n"
     ]
    }
   ],
   "source": [
    "fruits = [\"apple\", \"banana\", \"cherry\"]\n",
    "x, y, z = fruits\n",
    "print(x)\n",
    "print(y)\n",
    "print(z)"
   ]
  },
  {
   "cell_type": "code",
   "execution_count": 36,
   "id": "45c6cb7f-f6f2-464f-b946-6ef5b9d7445f",
   "metadata": {},
   "outputs": [
    {
     "name": "stdout",
     "output_type": "stream",
     "text": [
      "Python is awesome\n"
     ]
    }
   ],
   "source": [
    "x = \"Python is awesome\"\n",
    "print(x)"
   ]
  },
  {
   "cell_type": "code",
   "execution_count": 37,
   "id": "190c65e7-6a09-47ec-806f-4187f154a84f",
   "metadata": {},
   "outputs": [
    {
     "name": "stdout",
     "output_type": "stream",
     "text": [
      "Python is awesome\n"
     ]
    }
   ],
   "source": [
    "x = \"Python\"\n",
    "y = \"is\"\n",
    "z = \"awesome\"\n",
    "print(x, y, z)"
   ]
  },
  {
   "cell_type": "code",
   "execution_count": 38,
   "id": "e1c8bfe8-46f7-42cb-987e-97cb965039a5",
   "metadata": {},
   "outputs": [
    {
     "name": "stdout",
     "output_type": "stream",
     "text": [
      "Python is awesome\n"
     ]
    }
   ],
   "source": [
    "x = \"Python \"\n",
    "y = \"is \"\n",
    "z = \"awesome\"\n",
    "print(x + y + z)"
   ]
  },
  {
   "cell_type": "code",
   "execution_count": 39,
   "id": "10f9be5e-9275-482c-8290-030cf50fb152",
   "metadata": {},
   "outputs": [
    {
     "name": "stdout",
     "output_type": "stream",
     "text": [
      "15\n"
     ]
    }
   ],
   "source": [
    "x = 5\n",
    "y = 10\n",
    "print(x + y)"
   ]
  },
  {
   "cell_type": "code",
   "execution_count": 40,
   "id": "dfe5d57b-6de7-42cd-91dd-c1e785af5a4a",
   "metadata": {},
   "outputs": [
    {
     "name": "stdout",
     "output_type": "stream",
     "text": [
      "5 John\n"
     ]
    }
   ],
   "source": [
    "x = 5\n",
    "y = \"John\"\n",
    "print(x, y)"
   ]
  },
  {
   "cell_type": "code",
   "execution_count": 41,
   "id": "0e5dd8ce-cd65-40a4-a0c6-d05e26b710e3",
   "metadata": {},
   "outputs": [
    {
     "name": "stdout",
     "output_type": "stream",
     "text": [
      "Python is awesome\n"
     ]
    }
   ],
   "source": [
    "x = \"awesome\"\n",
    "\n",
    "def myfunc():\n",
    "  print(\"Python is \" + x)\n",
    "\n",
    "myfunc()"
   ]
  },
  {
   "cell_type": "code",
   "execution_count": 42,
   "id": "beafca98-86bd-4170-8352-c83eb060bcdb",
   "metadata": {},
   "outputs": [
    {
     "name": "stdout",
     "output_type": "stream",
     "text": [
      "Python is fantastic\n",
      "Python is awesome\n"
     ]
    }
   ],
   "source": [
    "x = \"awesome\"\n",
    "\n",
    "def myfunc():\n",
    "  x = \"fantastic\"\n",
    "  print(\"Python is \" + x)\n",
    "\n",
    "myfunc()\n",
    "\n",
    "print(\"Python is \" + x)"
   ]
  },
  {
   "cell_type": "code",
   "execution_count": 43,
   "id": "2c0b9314-b590-420e-ab04-9dd8224eea9c",
   "metadata": {},
   "outputs": [
    {
     "name": "stdout",
     "output_type": "stream",
     "text": [
      "Python is fantastic\n"
     ]
    }
   ],
   "source": [
    "def myfunc():\n",
    "  global x\n",
    "  x = \"fantastic\"\n",
    "\n",
    "myfunc()\n",
    "\n",
    "print(\"Python is \" + x)"
   ]
  },
  {
   "cell_type": "code",
   "execution_count": 44,
   "id": "9faffeda-5bde-45de-8d01-07b04ccd0716",
   "metadata": {},
   "outputs": [
    {
     "name": "stdout",
     "output_type": "stream",
     "text": [
      "Python is fantastic\n"
     ]
    }
   ],
   "source": [
    "x = \"awesome\"\n",
    "\n",
    "def myfunc():\n",
    "  global x\n",
    "  x = \"fantastic\"\n",
    "\n",
    "myfunc()\n",
    "\n",
    "print(\"Python is \" + x)"
   ]
  },
  {
   "cell_type": "code",
   "execution_count": 45,
   "id": "c9cb0a22-bacf-43f5-bc92-8462a44f7b0b",
   "metadata": {},
   "outputs": [
    {
     "name": "stdout",
     "output_type": "stream",
     "text": [
      "<class 'int'>\n"
     ]
    }
   ],
   "source": [
    "x = 5\n",
    "print(type(x))"
   ]
  },
  {
   "cell_type": "code",
   "execution_count": 46,
   "id": "67eb89cd-1cd2-428f-ad22-410b5ddfbad6",
   "metadata": {},
   "outputs": [],
   "source": [
    "x = 1    # int\n",
    "y = 2.8  # float\n",
    "z = 1j   # complex"
   ]
  },
  {
   "cell_type": "code",
   "execution_count": 47,
   "id": "efc199d8-a65c-4e95-a3cc-0ee6bbe07a27",
   "metadata": {},
   "outputs": [
    {
     "name": "stdout",
     "output_type": "stream",
     "text": [
      "<class 'int'>\n",
      "<class 'float'>\n",
      "<class 'complex'>\n"
     ]
    }
   ],
   "source": [
    "print(type(x))\n",
    "print(type(y))\n",
    "print(type(z))"
   ]
  },
  {
   "cell_type": "code",
   "execution_count": 48,
   "id": "40a6b2c2-8d8d-422c-bd00-7a0adb261c3e",
   "metadata": {},
   "outputs": [
    {
     "name": "stdout",
     "output_type": "stream",
     "text": [
      "<class 'int'>\n",
      "<class 'int'>\n",
      "<class 'int'>\n"
     ]
    }
   ],
   "source": [
    "x = 1\n",
    "y = 35656222554887711\n",
    "z = -3255522\n",
    "\n",
    "print(type(x))\n",
    "print(type(y))\n",
    "print(type(z))"
   ]
  },
  {
   "cell_type": "code",
   "execution_count": 49,
   "id": "f2be8484-cc75-43f1-a617-f39b92ee68c8",
   "metadata": {},
   "outputs": [
    {
     "name": "stdout",
     "output_type": "stream",
     "text": [
      "<class 'float'>\n",
      "<class 'float'>\n",
      "<class 'float'>\n"
     ]
    }
   ],
   "source": [
    "x = 1.10\n",
    "y = 1.0\n",
    "z = -35.59\n",
    "\n",
    "print(type(x))\n",
    "print(type(y))\n",
    "print(type(z))\n"
   ]
  },
  {
   "cell_type": "code",
   "execution_count": 50,
   "id": "b5453153-5b53-4034-ace5-2d5bed67f4aa",
   "metadata": {},
   "outputs": [
    {
     "name": "stdout",
     "output_type": "stream",
     "text": [
      "<class 'float'>\n",
      "<class 'float'>\n",
      "<class 'float'>\n"
     ]
    }
   ],
   "source": [
    "x = 35e3\n",
    "y = 12E4\n",
    "z = -87.7e100\n",
    "\n",
    "print(type(x))\n",
    "print(type(y))\n",
    "print(type(z))\n"
   ]
  },
  {
   "cell_type": "code",
   "execution_count": 51,
   "id": "805d3c39-d244-4255-8e13-2331e1545b52",
   "metadata": {},
   "outputs": [
    {
     "name": "stdout",
     "output_type": "stream",
     "text": [
      "<class 'complex'>\n",
      "<class 'complex'>\n",
      "<class 'complex'>\n"
     ]
    }
   ],
   "source": [
    "x = 3+5j\n",
    "y = 5j\n",
    "z = -5j\n",
    "\n",
    "print(type(x))\n",
    "print(type(y))\n",
    "print(type(z))"
   ]
  },
  {
   "cell_type": "code",
   "execution_count": 52,
   "id": "7228b8bf-d1a9-47ea-ab15-c9f5a5dec859",
   "metadata": {},
   "outputs": [
    {
     "name": "stdout",
     "output_type": "stream",
     "text": [
      "1.0\n",
      "2\n",
      "(1+0j)\n",
      "<class 'float'>\n",
      "<class 'int'>\n",
      "<class 'complex'>\n"
     ]
    }
   ],
   "source": [
    "x = 1    # int\n",
    "y = 2.8  # float\n",
    "z = 1j   # complex\n",
    "\n",
    "#convert from int to float:\n",
    "a = float(x)\n",
    "\n",
    "#convert from float to int:\n",
    "b = int(y)\n",
    "\n",
    "#convert from int to complex:\n",
    "c = complex(x)\n",
    "\n",
    "print(a)\n",
    "print(b)\n",
    "print(c)\n",
    "\n",
    "print(type(a))\n",
    "print(type(b))\n",
    "print(type(c))"
   ]
  },
  {
   "cell_type": "code",
   "execution_count": 53,
   "id": "8429e3e4-4ca3-4891-b5b7-978ac87c78cc",
   "metadata": {},
   "outputs": [
    {
     "name": "stdout",
     "output_type": "stream",
     "text": [
      "9\n"
     ]
    }
   ],
   "source": [
    "import random\n",
    "\n",
    "print(random.randrange(1, 10))"
   ]
  },
  {
   "cell_type": "code",
   "execution_count": 54,
   "id": "23cd9943-0180-4e71-81c3-7700750f12c5",
   "metadata": {},
   "outputs": [],
   "source": [
    "x = int(1)   # x will be 1\n",
    "y = int(2.8) # y will be 2\n",
    "z = int(\"3\") # z will be 3"
   ]
  },
  {
   "cell_type": "code",
   "execution_count": 55,
   "id": "d29762da-235c-49a2-90d0-0768c9586055",
   "metadata": {},
   "outputs": [],
   "source": [
    "x = float(1)     # x will be 1.0\n",
    "y = float(2.8)   # y will be 2.8\n",
    "z = float(\"3\")   # z will be 3.0\n",
    "w = float(\"4.2\") # w will be 4.2"
   ]
  },
  {
   "cell_type": "code",
   "execution_count": 56,
   "id": "bea5843a-be97-4e2d-a237-e1c0d91d946e",
   "metadata": {},
   "outputs": [],
   "source": [
    "x = str(\"s1\") # x will be 's1'\n",
    "y = str(2)    # y will be '2'\n",
    "z = str(3.0)  # z will be '3.0'"
   ]
  },
  {
   "cell_type": "code",
   "execution_count": 57,
   "id": "5d3f8928-de0b-4c40-8c8f-cd8d51a3c976",
   "metadata": {},
   "outputs": [
    {
     "name": "stdout",
     "output_type": "stream",
     "text": [
      "Hello\n",
      "Hello\n"
     ]
    }
   ],
   "source": [
    "print(\"Hello\")\n",
    "print('Hello')"
   ]
  },
  {
   "cell_type": "code",
   "execution_count": 58,
   "id": "07f240fc-9a1a-443e-8134-0f735bde8278",
   "metadata": {},
   "outputs": [
    {
     "name": "stdout",
     "output_type": "stream",
     "text": [
      "It's alright\n",
      "He is called 'Johnny'\n",
      "He is called \"Johnny\"\n"
     ]
    }
   ],
   "source": [
    "print(\"It's alright\")\n",
    "print(\"He is called 'Johnny'\")\n",
    "print('He is called \"Johnny\"')"
   ]
  },
  {
   "cell_type": "code",
   "execution_count": 59,
   "id": "83fcb9e0-c432-4d1c-9dc6-7802c6142dbc",
   "metadata": {},
   "outputs": [
    {
     "name": "stdout",
     "output_type": "stream",
     "text": [
      "Hello\n"
     ]
    }
   ],
   "source": [
    "a = \"Hello\"\n",
    "print(a)"
   ]
  },
  {
   "cell_type": "code",
   "execution_count": 60,
   "id": "2426dceb-f0de-47e5-baef-40ac5237d59b",
   "metadata": {},
   "outputs": [
    {
     "name": "stdout",
     "output_type": "stream",
     "text": [
      "Lorem ipsum dolor sit amet,\n",
      "consectetur adipiscing elit,\n",
      "sed do eiusmod tempor incididunt\n",
      "ut labore et dolore magna aliqua.\n"
     ]
    }
   ],
   "source": [
    "a = \"\"\"Lorem ipsum dolor sit amet,\n",
    "consectetur adipiscing elit,\n",
    "sed do eiusmod tempor incididunt\n",
    "ut labore et dolore magna aliqua.\"\"\"\n",
    "print(a)"
   ]
  },
  {
   "cell_type": "code",
   "execution_count": 61,
   "id": "cb767c73-812e-4b11-b0a5-5db8b3482064",
   "metadata": {},
   "outputs": [
    {
     "name": "stdout",
     "output_type": "stream",
     "text": [
      "Lorem ipsum dolor sit amet,\n",
      "consectetur adipiscing elit,\n",
      "sed do eiusmod tempor incididunt\n",
      "ut labore et dolore magna aliqua.\n"
     ]
    }
   ],
   "source": [
    "a = '''Lorem ipsum dolor sit amet,\n",
    "consectetur adipiscing elit,\n",
    "sed do eiusmod tempor incididunt\n",
    "ut labore et dolore magna aliqua.'''\n",
    "print(a)"
   ]
  },
  {
   "cell_type": "code",
   "execution_count": null,
   "id": "84931a12-206c-4789-b5bb-4b6efd94fb6b",
   "metadata": {},
   "outputs": [],
   "source": []
  }
 ],
 "metadata": {
  "kernelspec": {
   "display_name": "Python 3 (ipykernel)",
   "language": "python",
   "name": "python3"
  },
  "language_info": {
   "codemirror_mode": {
    "name": "ipython",
    "version": 3
   },
   "file_extension": ".py",
   "mimetype": "text/x-python",
   "name": "python",
   "nbconvert_exporter": "python",
   "pygments_lexer": "ipython3",
   "version": "3.13.5"
  }
 },
 "nbformat": 4,
 "nbformat_minor": 5
}
